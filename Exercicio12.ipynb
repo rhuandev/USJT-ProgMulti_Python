{
 "cells": [
  {
   "cell_type": "markdown",
   "metadata": {},
   "source": [
    "# LISTA DE PYTHON\n",
    "## Rhuan Carlos da Costa - RA: 81714425"
   ]
  },
  {
   "cell_type": "markdown",
   "metadata": {},
   "source": [
    "### Lista de Exercícios 04"
   ]
  },
  {
   "cell_type": "markdown",
   "metadata": {},
   "source": [
    "#### 1 Defina a função soma_nat que recebe como argumento um número natural  n   e devolve a soma de todos os números naturais até  n. Ex: soma_nat(5) = 15 "
   ]
  },
  {
   "cell_type": "code",
   "execution_count": null,
   "metadata": {},
   "outputs": [],
   "source": [
    "def soma_nat(n):\n",
    "    assert n!=-1\n",
    "    i = 1\n",
    "    soma = 0\n",
    "    while n >= i:\n",
    "        soma = n * (n + 1) // 2\n",
    "        i += 1\n",
    "    else:\n",
    "        return print(\"soma_nat(num) =\", soma)\n",
    "\n",
    "    \n",
    "while True:\n",
    "    try:\n",
    "        num = int(input(\"Digite um numero: \"))\n",
    "        if (num <= 0):\n",
    "            raise ValueError(\"Numero escolhido\", num)\n",
    "    except ValueError as e:\n",
    "        print(\"Numero invalido! \\nApenas numeros naturais!\")\n",
    "    else:\n",
    "        break\n",
    "        \n",
    "soma_nat(num)"
   ]
  },
  {
   "cell_type": "markdown",
   "metadata": {},
   "source": [
    "#### 2 Defina a função div que recebe como argumentos dois números naturais  m   e  n  e devolve o resultado da divisão inteira de  m  por  n. Neste exercício você não pode recorrer às operações aritméticas de multiplicação, divisão e resto da divisão inteira. Ex: div(7,2) = 3 "
   ]
  },
  {
   "cell_type": "code",
   "execution_count": null,
   "metadata": {},
   "outputs": [],
   "source": [
    "def div(m,n):\n",
    "    assert m!=0\n",
    "    return print(int(m/2))\n",
    "div(7,2)"
   ]
  },
  {
   "cell_type": "markdown",
   "metadata": {},
   "source": [
    "#### 3 Defina a função prim_alg que recebe como argumento um número natural e devolve o primeiro algarismo (o mais significativo) na representação decimal de  n. "
   ]
  },
  {
   "cell_type": "code",
   "execution_count": null,
   "metadata": {},
   "outputs": [],
   "source": [
    "def prim_alg(n):\n",
    "    return print(n[0])\n",
    "\n",
    "while True:\n",
    "    try:\n",
    "        num = int(input(\"Digite um numero: \"))\n",
    "        if (num <= 0):\n",
    "            raise ValueError(\"Numero escolhido\", num)\n",
    "    except ValueError as e:\n",
    "        print(\"Numero invalido! \\nApenas numeros naturais!\")\n",
    "    else:\n",
    "        break\n",
    "\n",
    "prim_alg(str(num))"
   ]
  },
  {
   "cell_type": "markdown",
   "metadata": {},
   "source": [
    "#### 4 Defina a função prod_lista que recebe como argumento uma lista de inteiros e devolve o produto dos seus elementos. Ex: prod_lista([1,2,3,4,5,6]) = 720 "
   ]
  },
  {
   "cell_type": "code",
   "execution_count": null,
   "metadata": {},
   "outputs": [],
   "source": [
    "def produto(list):\n",
    "    assert list!=[]\n",
    "    mult = 1\n",
    "    for x in range(0,len(list)):\n",
    "        mult = mult * list[x]\n",
    "    return mult\n",
    "\n",
    "produto([3,8,2,2,10,20])"
   ]
  },
  {
   "cell_type": "markdown",
   "metadata": {},
   "source": [
    "#### 5 Defina a função contem_parQ que recebe como argumento uma lista de números inteiros  w e devolve True se w contém um número par e False em caso contrário. Ex: contem_parQ([2,3,1,2,3,4]) = True Ex: contem_parQ([1,3,5,7]) = False "
   ]
  },
  {
   "cell_type": "code",
   "execution_count": null,
   "metadata": {},
   "outputs": [],
   "source": [
    "def contem_parQ(list):\n",
    "    assert list!=[]\n",
    "    for w in range(0,len(list)):\n",
    "        if list[w] % 2 == 0:\n",
    "            return True\n",
    "    return False\n",
    "    \n",
    "contem_parQ([3,2,1,7,5,3])"
   ]
  },
  {
   "cell_type": "markdown",
   "metadata": {},
   "source": [
    "#### 6 Defina a função todos_imparesQ que recebe como argumento uma lista de números inteiros w e devolve True se w contém apenas números ímpares e False em caso contrário."
   ]
  },
  {
   "cell_type": "code",
   "execution_count": null,
   "metadata": {},
   "outputs": [],
   "source": [
    "def todos_imparesQ(list):\n",
    "    for w in range(0,len(list)):\n",
    "        if list[w] % 2 == 0 or list[w] == []:\n",
    "            return False\n",
    "    return True\n",
    "    \n",
    "todos_imparesQ([2,5])"
   ]
  },
  {
   "cell_type": "markdown",
   "metadata": {},
   "source": [
    "#### 7 Defina a função pertenceQ que recebe como argumentos uma lista de números inteiros w e um número inteiro n e devolve True se n ocorre em w e False em caso contrário."
   ]
  },
  {
   "cell_type": "code",
   "execution_count": null,
   "metadata": {},
   "outputs": [],
   "source": [
    "def pertenceQ(list, n):\n",
    "    for w in range(0, len(list)):\n",
    "        if list[w] == n:\n",
    "            return True\n",
    "    return False\n",
    "\n",
    "\n",
    "pertenceQ([1,2,3,4,5], 6)"
   ]
  },
  {
   "cell_type": "markdown",
   "metadata": {},
   "source": [
    "#### 8 Defina a função junta que recebe como argumentos duas listas de números inteiros w1 e w2 e devolve a concatenação de w1 com w2 ."
   ]
  },
  {
   "cell_type": "code",
   "execution_count": null,
   "metadata": {},
   "outputs": [],
   "source": [
    "def junta(list1, list2):\n",
    "    return list1 + list2\n",
    "\n",
    "junta([1,2,3],[4,5,6])"
   ]
  },
  {
   "cell_type": "markdown",
   "metadata": {},
   "source": [
    "#### 9 Defina a função temPrimoQ que recebe como argumento uma lista de listas de números inteiros w e devolve True se alguma das sublistas w tem um número primo e False em caso contrário."
   ]
  },
  {
   "cell_type": "code",
   "execution_count": null,
   "metadata": {},
   "outputs": [],
   "source": [
    "def temPrimoQ(lista_listas):\n",
    "    if len(lista_listas[0]) == 0:\n",
    "        return False\n",
    "    else:\n",
    "        lista_1 = lista_listas.pop()\n",
    "        if (len(lista_1) == 0):\n",
    "            return temPrimoQ(lista_listas)\n",
    "        if(lista_1.pop()%2 == 1):\n",
    "            return True\n",
    "        else:\n",
    "            lista_listas.insert(0,lista_1)\n",
    "            return temPrimoQ(lista_listas)\n",
    "\n",
    "temPrimoQ([[1,2,3,4],[5,6,7],[8,9,10]]) == True"
   ]
  },
  {
   "cell_type": "markdown",
   "metadata": {},
   "source": [
    "#### 10 Defina a função inverteLista que recebe como argumento uma lista w e devolve amesma lista mas invertida.\n",
    "#### Ex: inverteLista([1,2,3,4,5]) = [5, 4, 3, 2, 1]\n",
    "#### Ex: inverteLista([])"
   ]
  },
  {
   "cell_type": "code",
   "execution_count": null,
   "metadata": {
    "scrolled": true
   },
   "outputs": [],
   "source": [
    "def inverteLista(list):\n",
    "    return list[::-1]\n",
    "\n",
    "inverteLista([1,2,3,4,5])"
   ]
  }
 ],
 "metadata": {
  "kernelspec": {
   "display_name": "Python 3",
   "language": "python",
   "name": "python3"
  },
  "language_info": {
   "codemirror_mode": {
    "name": "ipython",
    "version": 3
   },
   "file_extension": ".py",
   "mimetype": "text/x-python",
   "name": "python",
   "nbconvert_exporter": "python",
   "pygments_lexer": "ipython3",
   "version": "3.7.3"
  }
 },
 "nbformat": 4,
 "nbformat_minor": 2
}
