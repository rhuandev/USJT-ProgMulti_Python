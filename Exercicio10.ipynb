{
 "cells": [
  {
   "cell_type": "markdown",
   "metadata": {},
   "source": [
    "# LISTA DE PYTHON\n",
    "## Rhuan Carlos da Costa - RA: 81714425"
   ]
  },
  {
   "cell_type": "markdown",
   "metadata": {},
   "source": [
    "### Lista de Exercícios 02"
   ]
  },
  {
   "cell_type": "markdown",
   "metadata": {},
   "source": [
    "#### 1. Faça um Programa que peça dois números e imprima o maior deles."
   ]
  },
  {
   "cell_type": "code",
   "execution_count": null,
   "metadata": {},
   "outputs": [],
   "source": [
    "num1 = int(input(\"Digite um numero: \"))\n",
    "num2 = int(input(\"Digite outro numero: \"))\n",
    "\n",
    "if(num1 > num2):\n",
    "    print(\"O maior é:\", num1)\n",
    "else:\n",
    "    print(\"O maior é:\", num2)"
   ]
  },
  {
   "cell_type": "markdown",
   "metadata": {},
   "source": [
    "#### 2. Faça um Programa que verifique se uma letra digitada é vogal ou consoante."
   ]
  },
  {
   "cell_type": "code",
   "execution_count": null,
   "metadata": {},
   "outputs": [],
   "source": [
    "letra = input(\"Digite uma letra\")\n",
    "\n",
    "if(letra == \"a\" or letra == 'e' or letra == 'i'or letra == 'o' or letra == 'u'):\n",
    "    print(\"A letra \" + letra + \" é uma vogal!\")\n",
    "else:\n",
    "    print(\"A letra \" + letra + \" é uma consoante!\")"
   ]
  },
  {
   "cell_type": "markdown",
   "metadata": {},
   "source": [
    "#### 3. Faça um programa para a leitura de duas notas parciais de um aluno. O programa deve calcular a média alcançada por aluno e apresentar:\n",
    "- A mensagem \"Aprovado\", se a média alcançada for maior ou igual a sete;\n",
    "- A mensagem \"Reprovado\", se a média for menor do que sete;\n",
    "- A mensagem \"Aprovado com Distinção\", se a média for igual a dez."
   ]
  },
  {
   "cell_type": "code",
   "execution_count": null,
   "metadata": {},
   "outputs": [],
   "source": [
    "nota1 = int(input(\"Digite a nota primeira nota do aluno: \"))\n",
    "nota2 = int(input(\"Digite a nota segunda nota do aluno: \"))\n",
    "\n",
    "mediaNota = (nota1 + nota2) / 2\n",
    "\n",
    "if(mediaNota == 10):\n",
    "    print(\"Aprovado com Distinção!\")\n",
    "elif(mediaNota < 7):\n",
    "    print(\"Reprovado!\")\n",
    "elif(mediaNota >= 7):\n",
    "    print(\"Aprovado!\")"
   ]
  },
  {
   "cell_type": "markdown",
   "metadata": {},
   "source": [
    "#### 4. Faça um Programa que leia três números e mostre-os em ordem decrescente."
   ]
  },
  {
   "cell_type": "code",
   "execution_count": null,
   "metadata": {},
   "outputs": [],
   "source": [
    "numero1 = int(input(\"Digite um numero: \"))\n",
    "numero2 = int(input(\"Digite um numero: \"))\n",
    "numero3 = int(input(\"Digite um numero: \"))\n",
    "\n",
    "lista = (numero1,numero2,numero3)\n",
    "\n",
    "listaOrdenada = sorted(lista)\n",
    "\n",
    "print(listaOrdenada)"
   ]
  },
  {
   "cell_type": "markdown",
   "metadata": {},
   "source": [
    "#### 5. As Organizações Tabajara resolveram dar um aumento de salário aos seus colaboradores e lhe contrataram para desenvolver o programa que calculará os reajustes. Faça um programa que recebe o salário de um colaborador e o reajuste segundo o seguinte critério, baseado no salário atual:\n",
    "\n",
    "- salários até R$ 280,00 (incluindo) : aumento de 20%\n",
    "- salários entre R$ 280,00 e R$ 700,00 : aumento de 15%\n",
    "- salários entre R$ 700,00 e R$ 1500,00 : aumento de 10%\n",
    "- salários de R$ 1500,00 em diante : aumento de 5% Após o aumento ser realizado,\n",
    "  informe na tela:\n",
    "- o salário antes do reajuste;\n",
    "- o percentual de aumento aplicado;\n",
    "- o valor do aumento;\n",
    "- o novo salário, após o aumento."
   ]
  },
  {
   "cell_type": "code",
   "execution_count": null,
   "metadata": {},
   "outputs": [],
   "source": [
    "salario = float(input(\"Digite o seu salario: \"))\n",
    "\n",
    "if salario <= 280:\n",
    "    salarior = ((salario/100)*20) + salario\n",
    "    reajp = '20%'\n",
    "    reajv = (salario/100)*20\n",
    "elif salario > 280 and salario <= 700:\n",
    "    salarior = salario + (salario/100)*15\n",
    "    reajp = '15%'\n",
    "    reajv = (salario/100)*15\n",
    "elif salario > 700 and salario <= 1500:\n",
    "    salarior = salario + (salario/100)*10\n",
    "    reajp = '10%'\n",
    "    reajv = (salario/100)*10\n",
    "else:\n",
    "    salarior = salario + (salario/100)*5\n",
    "    reajp = '5%'\n",
    "    reajv = (salario/100)*5\n",
    "\n",
    "print (\"Salário antes do reajuste: R$\", salario)\n",
    "print (\"Porcentagem do reajuste:\", reajp)\n",
    "print (\"Valor do aumento: R$\", reajv)\n",
    "print (\"Salário reajustado: R$\", salarior)"
   ]
  },
  {
   "cell_type": "markdown",
   "metadata": {},
   "source": [
    "#### 6. Faça um Programa que leia um número e exiba o dia correspondente da semana. (1-Domingo, 2- Segunda, etc.), se digitar outro valor deve aparecer valor inválido. "
   ]
  },
  {
   "cell_type": "code",
   "execution_count": null,
   "metadata": {},
   "outputs": [],
   "source": [
    "num = int(input(\"Digite um numero inteiro: \"))\n",
    "\n",
    "if num == 1:\n",
    "    print(\"Domingo\")\n",
    "elif num == 2:\n",
    "    print(\"Segunda\")\n",
    "elif num == 3:\n",
    "    print(\"Terça\")\n",
    "elif num == 4:\n",
    "    print(\"Quarta\")\n",
    "elif num == 5:\n",
    "    print(\"Quinta\")\n",
    "elif num == 6:\n",
    "    print(\"Sexta\")\n",
    "elif num == 7:\n",
    "    print(\"Sabádo\")\n",
    "else:\n",
    "    print(\"Digite um numero valido.\")"
   ]
  },
  {
   "cell_type": "markdown",
   "metadata": {},
   "source": [
    "#### 7. Faça um programa que lê as duas notas parciais obtidas por um aluno numa disciplina ao longo de um semestre, e calcule a sua média. A atribuição de conceitos obedece à tabela abaixo:   Média de Aproveitamento  Conceito   Entre 9.0 e 10.0        A   Entre 7.5 e 9.0         B   Entre 6.0 e 7.5         C   Entre 4.0 e 6.0         D   Entre 4.0 e zero        E O algoritmo deve mostrar na tela as notas, a média, o conceito correspondente e a mensagem “APROVADO” se o conceito for A, B ou C ou “REPROVADO” se o conceito for D ou E. "
   ]
  },
  {
   "cell_type": "code",
   "execution_count": null,
   "metadata": {},
   "outputs": [],
   "source": [
    "nota1 = float(input(\"Digite a nota 1 do aluno: \"))\n",
    "nota2 = float(input(\"Digite a nota 2 do aluno: \"))\n",
    "\n",
    "mediaNota = (nota1 + nota2) / 2\n",
    "\n",
    "if mediaNota <= 10.0 and mediaNota >= 9.0:\n",
    "    print(\"Primeira nota:\", nota1)\n",
    "    print(\"Segunda nota:\", nota2)\n",
    "    print(\"Média:\", mediaNota)\n",
    "    print(\"A - APROVADO\")\n",
    "    \n",
    "elif mediaNota < 9.0 and mediaNota >= 7.5:\n",
    "    print(\"Primeira nota:\", nota1)\n",
    "    print(\"Segunda nota:\", nota2)\n",
    "    print(\"Média:\", mediaNota)\n",
    "    print(\"B - APROVADO\")\n",
    "    \n",
    "elif mediaNota < 7.5 and mediaNota >= 6.0:\n",
    "    print(\"Primeira nota:\", nota1)\n",
    "    print(\"Segunda nota:\", nota2)\n",
    "    print(\"Média:\", mediaNota)\n",
    "    print(\"C - APROVADO\")\n",
    "    \n",
    "elif mediaNota < 6.0 and mediaNota >= 4.0:\n",
    "    print(\"Primeira nota:\", nota1)\n",
    "    print(\"Segunda nota:\", nota2)\n",
    "    print(\"Média:\", mediaNota)\n",
    "    print(\"D - REPROVADO\")\n",
    "    \n",
    "elif mediaNota < 4.0 and mediaNota >= 0:\n",
    "    print(\"Primeira nota:\", nota1)\n",
    "    print(\"Segunda nota:\", nota2)\n",
    "    print(\"Média:\", mediaNota)\n",
    "    print(\"E - REPROVADO\")"
   ]
  },
  {
   "cell_type": "markdown",
   "metadata": {},
   "source": [
    "#### 8. Faça um Programa que peça os 3 lados de um triângulo. O programa deverá informar se os valores podem ser um triângulo. Indique, caso os lados formem um triângulo, se o mesmo é: equilátero, isósceles ou escaleno. Dicas: - Três lados formam um triângulo quando a soma de quaisquer dois lados for maior que o terceiro; - Triângulo Equilátero: três lados iguais; - Triângulo Isósceles: quaisquer dois lados iguais; - Triângulo Escaleno: três lados diferentes; "
   ]
  },
  {
   "cell_type": "code",
   "execution_count": null,
   "metadata": {},
   "outputs": [],
   "source": [
    "lado1 = int(input(\"Digite o tamanho do primeiro lado: \"))\n",
    "lado2 = int(input(\"Digite o tamanho do segundo lado: \"))\n",
    "lado3 = int(input(\"Digite o tamanho do terceiro lado: \"))\n",
    "\n",
    "if lado1 + lado2 > lado3:\n",
    "    if lado1 == lado2 and lado1 == lado3:\n",
    "        print(\"Triângulo Equilátero\")\n",
    "    elif lado1 == lado2 or lado2 == lado3 or lado1 == lado3:\n",
    "        print (\"Triângulo Isósceles\")\n",
    "    elif lado1 != lado2 and lado3 or lado2 != lado1 and lado3 or lado1 != lado3:\n",
    "        print (\"Triângulo Escaleno\")\n",
    "\n",
    "else:\n",
    "    print (\"Não é um triângulo\")"
   ]
  },
  {
   "cell_type": "markdown",
   "metadata": {},
   "source": [
    "#### 9. Faça um programa que calcule as raízes de uma equação do segundo grau, na forma ax2 + bx + c. O programa deverá pedir os valores de a, b e c e fazer as consistências, informando ao usuário nas seguintes situações: - Se o usuário informar o valor de A igual a zero, a equação não é do segundo grau e o programa não deve fazer pedir os demais valores, sendo encerrado; - Se o delta calculado for negativo, a equação não possui raizes reais. Informe ao usuário e encerre o programa; - Se o delta calculado for igual a zero a equação possui apenas uma raiz real; informe-a ao usuário; - Se o delta for positivo, a equação possui duas raiz reais; informe-as ao usuário; "
   ]
  },
  {
   "cell_type": "code",
   "execution_count": null,
   "metadata": {
    "scrolled": false
   },
   "outputs": [],
   "source": [
    "a = int(input(\"Digite o valor de a: \"))\n",
    "\n",
    "if a == 0:\n",
    "    print(\"A equação não é do segundo grau\")\n",
    "else:\n",
    "    b = int(input(\"Digite o valor de b: \"))\n",
    "    c = int(input(\"Digite o valor de c: \"))\n",
    "    delta = (b**2)-(4*a*c)\n",
    "    \n",
    "    if delta <0:\n",
    "        print(f\"A equação não possui raizes reais pois o delta resulta em\", delta )\n",
    "    elif delta == 0:\n",
    "        print(f\"A equação resulta em delta\", delta,\"e possui apenas uma raiz real\")\n",
    "    elif delta > 0:\n",
    "        print(f\"A equação resulta em delta\", delta,\"e possui duas raizes reais\")"
   ]
  },
  {
   "cell_type": "markdown",
   "metadata": {},
   "source": [
    "#### 10. Faça um Programa para um caixa eletrônico. O programa deverá perguntar ao usuário a valor do saque e depois informar quantas notas de cada valor serão fornecidas. As notas disponíveis serão as de 1, 5, 10, 50 e 100 reais. O valor mínimo é de 10 reais e o máximo de 600 reais. O programa não deve se preocupar com a quantidade de notas existentes na máquina. - Exemplo 1: Para sacar a quantia de 256 reais, o programa fornece duas notas de 100, uma nota de 50, uma nota de 5 e uma nota de 1; - Exemplo 2: Para sacar a quantia de 399 reais, o programa fornece três notas de 100, uma nota de 50, quatro notas de 10, uma nota de 5 e quatro notas de 1. "
   ]
  },
  {
   "cell_type": "code",
   "execution_count": null,
   "metadata": {},
   "outputs": [],
   "source": [
    "while True:\n",
    "    try:\n",
    "        valorSaque = int(input(\"Digite o valor do saque: \"))\n",
    "        if (valorSaque > 600 or valorSaque < 10):\n",
    "            raise ValueError(\"Valor escolhido\", valorSaque)\n",
    "    except ValueError as e:\n",
    "        print(\"Valor invalido! \\nValor maximo para saque: R$ 600,00 \\nValor minimo para saque: R$ 10,00\\n\")\n",
    "    else:\n",
    "        break\n",
    "\n",
    "totalSaque = valorSaque\n",
    "cont100 = 0\n",
    "cont50 = 0\n",
    "cont10 = 0\n",
    "cont5 = 0\n",
    "cont1 = 0\n",
    "        \n",
    "while(totalSaque > 0):\n",
    "    if(totalSaque >= 100):\n",
    "        totalSaque -=100\n",
    "        cont100 += 1\n",
    "    elif(totalSaque < 100 and totalSaque >= 50):\n",
    "        totalSaque -= 50\n",
    "        cont50 += 1\n",
    "    elif(totalSaque < 50 and totalSaque >= 10):\n",
    "        totalSaque -= 10\n",
    "        cont10 += 1\n",
    "    elif(totalSaque < 10 and totalSaque >= 5):\n",
    "        totalSaque -= 5\n",
    "        cont5 += 1\n",
    "    elif(totalSaque < 5 and totalSaque >= 1):\n",
    "        totalSaque -= 1\n",
    "        cont1 += 1\n",
    "        \n",
    "    if(totalSaque <= 0):\n",
    "        print(\"Notas utilizadas: \", \"\\nNotas de 100: \", cont100, \"\\nNotas de 50: \" , cont50, \"\\nNotas de 10: \" , cont10,\n",
    "              \"\\nNotas de 5: \" ,cont5, \"\\nNotas de 1: \" , cont1)"
   ]
  },
  {
   "cell_type": "markdown",
   "metadata": {},
   "source": [
    "#### 11. Faça um programa que faça 5 perguntas para uma pessoa sobre um crime. As perguntas são: \"Telefonou para a vítima?\" \"Esteve no local do crime?\" \"Mora perto da vítima?\" \"Devia para a vítima?\" \"Já trabalhou com a vítima?\"  O programa deve no final emitir uma classificação sobre a participação da pessoa no crime. Se a pessoa responder positivamente a 2 questões ela deve ser classificada como \"Suspeita\", entre 3 e 4 como \"Cúmplice\" e 5 como \"Assassino\". Caso contrário, ele será classificado como \"Inocente\". "
   ]
  },
  {
   "cell_type": "code",
   "execution_count": null,
   "metadata": {},
   "outputs": [],
   "source": [
    "pergunta1 = input(\"Telefonou para a vitima? \")\n",
    "pergunta2 = input(\"Esteve no local do crime? \")\n",
    "pergunta3 = input(\"Mora perto da vítima? \")\n",
    "pergunta4 = input(\"Devia para a vítima? \")\n",
    "pergunta5 = input(\"Já trabalhou com a vítima? \")\n",
    "    \n",
    "\n",
    "lista = [pergunta1,pergunta2,pergunta3,pergunta4,pergunta5]\n",
    "resultado = lista.count(\"sim\") or lista.count(\"SIM\") \n",
    "if resultado == 2:\n",
    "    print(\"A pessoa interrogada é suspeita!\")\n",
    "elif resultado == 3 or resultado == 4:\n",
    "    print(\"A pessoa interrogada é cúmplice!\") \n",
    "elif resultado == 5:\n",
    "    print(\"A pessoa interrogada é o assassino!\")\n",
    "else:\n",
    "    print(\"A pessoa interrogada é inocente!\")"
   ]
  },
  {
   "cell_type": "markdown",
   "metadata": {},
   "source": [
    "12. Uma fruteira está vendendo frutas com a seguinte tabela de preços: \n",
    "                       Até 5 Kg           Acima de 5 Kg Morango         R$ 2,50 por Kg          R$ 2,20 por Kg Maçã            R$ 1,80 por Kg          R$ 1,50 por Kg \n",
    " \n",
    "Se o cliente comprar mais de 8 Kg em frutas ou o valor total da compra ultrapassar R$ 25,00, receberá ainda um desconto de 10% sobre este total. Escreva um algoritmo para ler a quantidade (em Kg) de morangos e a quantidade (em Kg) de maças adquiridas e escreva o valor a ser pago pelo cliente. "
   ]
  },
  {
   "cell_type": "code",
   "execution_count": null,
   "metadata": {},
   "outputs": [],
   "source": [
    "qntMorango = float(input(\"Digite a quantidade de morangos comprados: \"))\n",
    "qntMaca = float(input(\"Digite a quantidade de maçãs compradas: \"))\n",
    "somaFrutas = qntMorango + qntMaca\n",
    "\n",
    "if qntMorango <= 5:\n",
    "    totalMorango = (qntMorango * 2.5)\n",
    "elif qntMorango > 5:\n",
    "    totalMorango = (qntMorango * 2.2)\n",
    "\n",
    "if qntMaca <= 5:\n",
    "    totalMaca = (qntMaca * 1.8)\n",
    "elif qntMaca > 5:\n",
    "    totalMaca = (qntMaca * 1.5)\n",
    "    \n",
    "totalPagamento = totalMorango + totalMaca\n",
    "\n",
    "if somaFrutas > 8 or totalPagamento > 25:\n",
    "    totalPagamento = totalPagamento - (totalPagamento * 0.10)\n",
    "    print(totalPagamento)\n",
    "else:\n",
    "    print(totalPagamento)"
   ]
  },
  {
   "cell_type": "markdown",
   "metadata": {},
   "source": [
    "13. Faça um programa que peça uma nota, entre zero e dez. Mostre uma mensagem caso o valor seja inválido e continue pedindo até que o usuário informe um valor válido."
   ]
  },
  {
   "cell_type": "code",
   "execution_count": null,
   "metadata": {},
   "outputs": [],
   "source": [
    "while True:\n",
    "    nota = int(input(\"Digite uma nota: \"))\n",
    "    if nota >= 0 and nota <= 10:\n",
    "        print(\"O numero\", nota, \"está dentro do intervalo.\")\n",
    "        break\n",
    "    else:\n",
    "        print(\"O número\", nota,\"está fora do intervalo!\")\n",
    "\n"
   ]
  },
  {
   "cell_type": "markdown",
   "metadata": {},
   "source": [
    "#### 13. Faça um programa que leia e valide as seguintes informações: Nome: maior que 3 caracteres; Idade: entre 0 e 150;  Salário: maior que zero; Sexo: 'f' ou 'm'; Estado Civil: 's', 'c', 'v', 'd'; "
   ]
  },
  {
   "cell_type": "code",
   "execution_count": null,
   "metadata": {},
   "outputs": [],
   "source": [
    "while True:\n",
    "    nome = input(\"Digite seu nome: \")\n",
    "    if len(nome) <= 3:\n",
    "        print(\"Nome invalido!\", nome, \"possui 3 ou menos caracteres\")\n",
    "    else:\n",
    "        print(\"Nome valido!\", nome)\n",
    "        break\n",
    "\n",
    "while True:\n",
    "    idade = int(input(\"Digite sua idade: \"))\n",
    "    if idade < 0 or idade > 150:\n",
    "        print(\"Idade invalida!\", idade)\n",
    "    else:\n",
    "        print(\"Idade valida!\", idade)\n",
    "        break\n",
    "\n",
    "while True:\n",
    "    salario = float(input(\"Digite seu salario: \"))\n",
    "    if salario < 0:\n",
    "        print(\"Salario invalido!\", salario, \"menor que ZERO!\")\n",
    "    else:\n",
    "        print(\"Salario valido!\", salario)\n",
    "        break\n",
    "        \n",
    "while True:\n",
    "    sexo = input(\"Digite seu sexo: \")\n",
    "    if sexo != 'f' and sexo != 'm':\n",
    "        print(\"Sexo Invalido!\", sexo)\n",
    "    else:\n",
    "        print(\"Sexo valido!\", sexo)\n",
    "        break\n",
    "\n",
    "while True: \n",
    "    estadoCivil = input(\"Digite seu estado civil: \")\n",
    "    if estadoCivil != 's' and estadoCivil != 'c' and estadoCivil != 'v' and estadoCivil != 'd':\n",
    "        print(\"Estado civil invalido!\", estadoCivil)\n",
    "    else:\n",
    "        print(\"Estado civil valido!\", estadoCivil)\n",
    "        break\n"
   ]
  },
  {
   "cell_type": "markdown",
   "metadata": {},
   "source": [
    "#### 14. Faça um programa que leia 5 números e informe o maior número."
   ]
  },
  {
   "cell_type": "code",
   "execution_count": null,
   "metadata": {},
   "outputs": [],
   "source": [
    "lista = []\n",
    "\n",
    "while True:\n",
    "    item = int(input(\"Digite um numero\"))\n",
    "    lista.append(item)\n",
    "    if (len(lista) == 5):\n",
    "        break\n",
    "\n",
    "print(\"O maior número é\", max(lista))"
   ]
  },
  {
   "cell_type": "markdown",
   "metadata": {},
   "source": [
    "#### 15. Faça um programa que leia 5 números e informe a soma e a média dos números. "
   ]
  },
  {
   "cell_type": "code",
   "execution_count": null,
   "metadata": {},
   "outputs": [],
   "source": [
    "lista = []\n",
    "\n",
    "while True:\n",
    "    item = int(input(\"Digite um numero\"))\n",
    "    lista.append(item)\n",
    "    if (len(lista) == 5):\n",
    "        break\n",
    "    \n",
    "soma = sum(lista)\n",
    "media = soma/len(lista)\n",
    "\n",
    "print(\"A soma dos números é\", soma)\n",
    "print(\"A média é\", media)"
   ]
  },
  {
   "cell_type": "markdown",
   "metadata": {},
   "source": [
    "#### 16. Faça um programa que imprima na tela apenas os números ímpares entre 1 e 50."
   ]
  },
  {
   "cell_type": "code",
   "execution_count": null,
   "metadata": {},
   "outputs": [],
   "source": [
    "for i in range(1,50):\n",
    "    if i % 2 != 0:\n",
    "        print(i)\n",
    "        i += 1"
   ]
  },
  {
   "cell_type": "markdown",
   "metadata": {},
   "source": [
    "#### 17. Desenvolva um gerador de tabuada, capaz de gerar a tabuada de qualquer número inteiro entre 1 a 10. O usuário deve informar de qual numero ele deseja ver a tabuada. A saída deve ser conforme o exemplo abaixo: Tabuada de 5: 5 X 1 = 5 5 X 2 = 10 ... 5 X 10 = 50 "
   ]
  },
  {
   "cell_type": "code",
   "execution_count": null,
   "metadata": {},
   "outputs": [],
   "source": [
    "numero = int(input(\"Digite um numero: \"))\n",
    "fator = 1\n",
    "\n",
    "while(fator <= 10):\n",
    "    produto = numero * fator\n",
    "    print(numero, \"x\", fator, \"=\", produto)\n",
    "    fator += 1"
   ]
  },
  {
   "cell_type": "markdown",
   "metadata": {},
   "source": [
    "#### 18. A série de Fibonacci é formada pela seqüência 1,1,2,3,5,8,13,21,34,55,... Faça um programa capaz de gerar a série até o n−ésimo termo. "
   ]
  },
  {
   "cell_type": "code",
   "execution_count": null,
   "metadata": {},
   "outputs": [],
   "source": [
    "while True:\n",
    "    termo = int(input(\"Digite o numero de termos: \"))\n",
    "    if (termo <= 0):\n",
    "        print(\"Apenas numeros positivos!\")\n",
    "        continue\n",
    "    else: \n",
    "        break\n",
    "\n",
    "primeiro = 1\n",
    "print (primeiro)\n",
    "segundo = 1\n",
    "for i in range(1, termo):\n",
    "    print(segundo)\n",
    "    terceiro = primeiro + segundo\n",
    "    primeiro = segundo\n",
    "    segundo = terceiro"
   ]
  },
  {
   "cell_type": "markdown",
   "metadata": {},
   "source": [
    "#### 19. Faça um programa que calcule o fatorial de um número inteiro fornecido pelo usuário. Ex.: 5!=5.4.3.2.1=120 "
   ]
  },
  {
   "cell_type": "code",
   "execution_count": null,
   "metadata": {},
   "outputs": [],
   "source": [
    "while True:\n",
    "    num = int(input(\"Digite um numero: \"))\n",
    "    if (num <= 0):\n",
    "        print (\"O número deve ser positivo!\")\n",
    "    else: \n",
    "        break\n",
    "\n",
    "fatorial = 1\n",
    "for i in reversed(range(1, num + 1)):\n",
    "    fatorial *= i\n",
    "\n",
    "rep = []\n",
    "for x in reversed(range(1, num + 1)):\n",
    "    rep.append(x)\n",
    "\n",
    "print(\"%.0f!=\" %num, rep[::],\"=\", fatorial)"
   ]
  },
  {
   "cell_type": "markdown",
   "metadata": {},
   "source": [
    "#### 20. O Sr. Manoel Joaquim possui uma grande loja de artigos de RS 1,99, com cerca de 10 caixas. Para agilizar o cálculo de quanto cada cliente deve pagar ele desenvolveu um tabela que contém o número de itens que o cliente comprou e ao lado o valor da conta. Desta forma a atendente do caixa precisa apenas contar quantos itens o cliente está levando e olhar na tabela de preços. Você foi contratado para desenvolver o programa que monta esta tabela de preços, que conterá os preços de 1 até 50 produtos, conforme o exemplo abaixo:  Lojas Quase Dois - Tabela de preços 1 - RS 1.99 2 - RS 3.98 ... 50 - RS 99.50"
   ]
  },
  {
   "cell_type": "code",
   "execution_count": null,
   "metadata": {},
   "outputs": [],
   "source": [
    "num = 1\n",
    "valor = 1.99\n",
    "\n",
    "print(\"Tabelas de preços\")\n",
    "\n",
    "for x in range(1,51):\n",
    "    print(x, \"- R$\", x*valor)\n",
    "    x += 1"
   ]
  },
  {
   "cell_type": "markdown",
   "metadata": {},
   "source": [
    "#### 21. O Sr. Manoel Joaquim acaba de adquirir uma panificadora e pretende implantar a metodologia da tabelinha, que já é um sucesso na sua loja de 1,99. Você foi contratado para desenvolver o programa que monta a tabela de preços de pães, de 1 até 50 pães, a partir do preço do pão informado pelo usuário, conforme o exemplo abaixo: Preço do pão: RS 0.18 Panificadora Pão de Ontem Tabela de preços 1 - RS 0.18 2 - RS 0.36 ... 50 - RS 9.00 "
   ]
  },
  {
   "cell_type": "code",
   "execution_count": null,
   "metadata": {},
   "outputs": [],
   "source": [
    "x = 1\n",
    "valor = 0.18\n",
    "\n",
    "print(\"Tabelas de preços\")\n",
    "\n",
    "for x in range(1,51):\n",
    "    print(x, \"- R$\", x*valor)\n",
    "    x += 1"
   ]
  },
  {
   "cell_type": "markdown",
   "metadata": {},
   "source": [
    "#### 22. O Sr. Manoel Joaquim expandiu seus negócios para além dos negócios de 1,99 e agora possui uma loja de conveniências. Faça um programa que implemente uma caixa registradora rudimentar. O programa deverá receber um número desconhecido de valores referentes aos preços das mercadorias. Um valor zero deve ser informado pelo operador para indicar o final da compra. O programa deve então mostrar o total da compra e perguntar o valor em dinheiro que o cliente forneceu, para então calcular e mostrar o valor do troco. Após esta operação, o programa deverá voltar ao ponto inicial, para registrar a próxima compra. A saída deve ser conforme o exemplo abaixo: Lojas Tabajara  Produto 1: RS 2.20 Produto 2: RS 5.80 Produto 3: RS 0 Total: RS 9.00 Dinheiro: RS 20.00 Troco: RS 11.00 ..."
   ]
  },
  {
   "cell_type": "code",
   "execution_count": null,
   "metadata": {},
   "outputs": [],
   "source": [
    "qntMercadoria = 1\n",
    "valor = 0\n",
    "valorTotal = 0\n",
    "\n",
    "while True:\n",
    "    valor = float(input(\"Valor da mercadoria: R$\"))\n",
    "    valorTotal = valorTotal + valor\n",
    "    if valor < 0:\n",
    "        print(\"Apenas valores positivos!\")\n",
    "        continue\n",
    "    elif valor == 0:\n",
    "        print(\"Valor total: %.2f\" %valorTotal)\n",
    "        break\n",
    "    print(\"%.0fº mercadoria - Valor: R$%.2f\" %(qntMercadoria, valor))"
   ]
  },
  {
   "cell_type": "markdown",
   "metadata": {},
   "source": [
    "#### 23. Foi feita uma estatística em cinco cidades brasileiras para coletar dados sobre acidentes de trânsito. Foram obtidos os seguintes dados: - Código da cidade; - Número de veículos de passeio (em 1999); - Número de acidentes de trânsito com vítimas (em 1999). Deseja-se saber: - Qual o maior e menor índice de acidentes de transito e a que cidade pertence; - Qual a média de veículos nas cinco cidades juntas; - Qual a média de acidentes de trânsito nas cidades com menos de 2.000 veículos de passeio. \n",
    " "
   ]
  },
  {
   "cell_type": "code",
   "execution_count": null,
   "metadata": {},
   "outputs": [],
   "source": [
    "somaVeiculos = 0\n",
    "somaAcidentes = 0\n",
    "somaAcidentesMenos2Mil = 0\n",
    "totalCidadesMenos2Mil = 0\n",
    "cidade = 1\n",
    "\n",
    "for i in range(0, 1):\n",
    "    codigo = input(\"Informe o código da cidade %d: \" % cidade)\n",
    "    veiculos = int(input(\"Informe o número de veiculos de passeio (em 1999) da cidade %d: \" % cidade))\n",
    "    acidentes = int(input(\"Informe a quantidade de acidentes (em 1999) da cidade %d: \" % cidade))\n",
    "    cidade += 1\n",
    "    \n",
    "    indiceAcidentes = acidentes / (veiculos)\n",
    "    somaVeiculos += veiculos\n",
    "    \n",
    "    if ('maisAcidentes' not in vars()) or (indiceAcidentes > maisAcidentes):\n",
    "        maisAcidentes = indiceAcidentes\n",
    "        codigoMaisAcidentes = codigo\n",
    "    if ('menosAcidentes' not in vars()) or (indiceAcidentes < menosAcidentes):\n",
    "        menosAcidentes = indiceAcidentes\n",
    "        codigoMenosAcidentes = codigo\n",
    "\n",
    "    if (veiculos < 2000):\n",
    "        somaAcidentesMenos2Mil += acidentes\n",
    "        totalCidadesMenos2Mil += 1\n",
    "\n",
    "print (\"A cidade com maior indice de acidentes é a cidade:\" ,codigoMaisAcidentes, \"com\", maisAcidentes, \"%\")\n",
    "print (\"A cidade com menor indice de acidentes é a cidade:\" ,codigoMenosAcidentes, \"com\", menosAcidentes,\"%\")\n",
    "print (\"A media de veiculos nas cidades é:\" , somaVeiculos / 5.0 ,\"%\")\n",
    "print (\"A media de acidentes de transito nas cidades com menos de 2.000 veículos é:\", somaAcidentesMenos2Mil / totalCidadesMenos2Mil,\"%\")"
   ]
  },
  {
   "cell_type": "markdown",
   "metadata": {},
   "source": [
    "#### 24. Faça um programa que receba o valor de uma dívida e mostre uma tabela com os seguintes dados: valor da dívida, valor dos juros, quantidade de parcelas e valor da parcela. Os juros e a quantidade de parcelas seguem a tabela abaixo: Quantidade de Parcelas  % de Juros sobre o valor inicial da dívida  1       0 3       10 6       15 9       20 12      25   Exemplo de saída do programa: Valor da Dívida Valor dos Juros Quantidade de Parcelas  Valor da Parcela RS 1.000,00     0               1                    RS  1.000,00 RS 1.100,00     100             3                       RS    366,00 RS 1.150,00     150             6                       RS    191,67 "
   ]
  },
  {
   "cell_type": "code",
   "execution_count": null,
   "metadata": {},
   "outputs": [],
   "source": [
    "divida = float(input(\"Digite o valor da divida: \"))\n",
    "guardaDivida = divida\n",
    "valorJuros = 0\n",
    "parcelasInicial = 1\n",
    "valorParcela = divida\n",
    "juros = 0\n",
    "\n",
    "print(\"Valor da divida - Valor dos Juros - Quantidade de parcelas - Valor da parcela\")\n",
    "print(\"%-17.f\" %divida, \"%-17.2f\" %valorJuros, \"%-24d\" %parcelasInicial, \"%-17.2f\" %valorParcela)\n",
    "\n",
    "for parcelas in range(3, 13, 3):\n",
    "    if (parcelas == 3):\n",
    "        juros = 10\n",
    "    else:\n",
    "        juros += 5\n",
    "\n",
    "    valorJuros = (divida * (juros / 100.0))\n",
    "    valorDivida = divida + valorJuros\n",
    "    valorParcela = valorDivida / float(parcelas)\n",
    "    print(\"%-17.f\" %valorDivida, \"%-17.2f\" %valorJuros, \"%-24d\" %parcelas, \"%-17.2f\" %valorParcela)"
   ]
  },
  {
   "cell_type": "markdown",
   "metadata": {},
   "source": [
    "#### 25. Faça um programa que mostre os n termos da Série a seguir:   S = 1/1 + 2/3 + 3/5 + 4/7 + 5/9 + ... + n/m.  Imprima no final a soma da série. "
   ]
  },
  {
   "cell_type": "code",
   "execution_count": null,
   "metadata": {},
   "outputs": [],
   "source": [
    "termos = int(input(\"Digite o numero de termos\"))\n",
    "soma = 0.0\n",
    "denominador = 1\n",
    "\n",
    "for i in range(1, termos + 1):\n",
    "    soma += i / denominador\n",
    "    print (\"S =\", i, \"/\", denominador)\n",
    "    denominador += 2\n",
    "print (\"Soma da série é: \", soma)"
   ]
  }
 ],
 "metadata": {
  "kernelspec": {
   "display_name": "Python 3",
   "language": "python",
   "name": "python3"
  },
  "language_info": {
   "codemirror_mode": {
    "name": "ipython",
    "version": 3
   },
   "file_extension": ".py",
   "mimetype": "text/x-python",
   "name": "python",
   "nbconvert_exporter": "python",
   "pygments_lexer": "ipython3",
   "version": "3.7.3"
  }
 },
 "nbformat": 4,
 "nbformat_minor": 2
}
