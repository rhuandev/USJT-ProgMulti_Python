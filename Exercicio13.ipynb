{
 "cells": [
  {
   "cell_type": "markdown",
   "metadata": {},
   "source": [
    "# LISTA DE PYTHON\n",
    "## Rhuan Carlos da Costa - RA: 81714425"
   ]
  },
  {
   "cell_type": "markdown",
   "metadata": {},
   "source": [
    "### Lista de Exercícios 05"
   ]
  },
  {
   "cell_type": "markdown",
   "metadata": {},
   "source": [
    "1 Defina a função soma_nat que recebe como argumento um número natural n e devolve a soma de todos os números naturais até n."
   ]
  },
  {
   "cell_type": "code",
   "execution_count": 21,
   "metadata": {},
   "outputs": [
    {
     "name": "stdout",
     "output_type": "stream",
     "text": [
      "Digite um numero natural: 40\n"
     ]
    },
    {
     "data": {
      "text/plain": [
       "820.0"
      ]
     },
     "execution_count": 21,
     "metadata": {},
     "output_type": "execute_result"
    }
   ],
   "source": [
    "soma_nat = lambda n: n + soma_nat(n-1) if n > 0 else 0\n",
    "\n",
    "num = float(input(\"Digite um numero natural: \"))\n",
    "soma_nat(num)"
   ]
  },
  {
   "cell_type": "markdown",
   "metadata": {},
   "source": [
    "2 Defina a função div que recebe como argumentos dois números naturais m e n e devolve o resultado da divisão inteira de m por n. Neste exercício você não pode recorrer às operações aritméticas de multiplicação, divisão e resto da divisão\n",
    "inteira"
   ]
  },
  {
   "cell_type": "code",
   "execution_count": 23,
   "metadata": {},
   "outputs": [
    {
     "name": "stdout",
     "output_type": "stream",
     "text": [
      "Digite um numero natural: 24\n",
      "Digite outro numero natural: 13\n"
     ]
    },
    {
     "data": {
      "text/plain": [
       "1"
      ]
     },
     "execution_count": 23,
     "metadata": {},
     "output_type": "execute_result"
    }
   ],
   "source": [
    "div = lambda m,n: 1 + div(m - n, n) if m >= n else 0\n",
    "\n",
    "num1 = float(input(\"Digite um numero natural: \"))\n",
    "num2 = float(input(\"Digite outro numero natural: \"))\n",
    "div(num1, num2)"
   ]
  },
  {
   "cell_type": "markdown",
   "metadata": {},
   "source": [
    "3 Defina a função prim_alg que recebe como argumento um número natural e devolve o primeiro algarismo (o mais significativo) na representação decimal de n.\n",
    "\n",
    "Ex: prim_alg(5649) = 5"
   ]
  },
  {
   "cell_type": "code",
   "execution_count": 45,
   "metadata": {},
   "outputs": [
    {
     "name": "stdout",
     "output_type": "stream",
     "text": [
      "Digite um numero natural: 6590\n"
     ]
    },
    {
     "data": {
      "text/plain": [
       "6"
      ]
     },
     "execution_count": 45,
     "metadata": {},
     "output_type": "execute_result"
    }
   ],
   "source": [
    "prim_alg = lambda n: int(str(n)[0])\n",
    "\n",
    "num = float(input(\"Digite um numero natural: \"))\n",
    "prim_alg(num)"
   ]
  },
  {
   "cell_type": "markdown",
   "metadata": {},
   "source": [
    "4 Defina a função prod_lista que recebe como argumento uma lista de inteiros e devolve o produto dos seus elementos"
   ]
  },
  {
   "cell_type": "code",
   "execution_count": 24,
   "metadata": {},
   "outputs": [
    {
     "data": {
      "text/plain": [
       "3600"
      ]
     },
     "execution_count": 24,
     "metadata": {},
     "output_type": "execute_result"
    }
   ],
   "source": [
    "prod_lista = lambda n: n.pop() * prod_lista(n) if len(n) > 0 else 1\n",
    "\n",
    "prod_lista([5,4,2,1,5,6,3])"
   ]
  },
  {
   "cell_type": "markdown",
   "metadata": {},
   "source": [
    "5 Defina a função contem_parQ que recebe como argumento uma lista de números inteiros w e devolve True se w contém um número par e False em caso contrário.\n",
    "\n",
    "- Ex: contem_parQ([2,3,1,2,3,4]) = True\n",
    "- Ex: contem_parQ([1,3,5,7]) = False"
   ]
  },
  {
   "cell_type": "code",
   "execution_count": 35,
   "metadata": {},
   "outputs": [
    {
     "name": "stdout",
     "output_type": "stream",
     "text": [
      "True\n",
      "False\n"
     ]
    }
   ],
   "source": [
    "contem_parQ = lambda w: True if w.pop() % 2 == 0 else contem_parQ(w) if len(w) > 0 else False\n",
    "\n",
    "print(contem_parQ([1,2,3,4,5,6]))\n",
    "print(contem_parQ([1,3,5,7,9]))"
   ]
  },
  {
   "cell_type": "code",
   "execution_count": 34,
   "metadata": {},
   "outputs": [
    {
     "name": "stdout",
     "output_type": "stream",
     "text": [
      "False\n",
      "True\n"
     ]
    }
   ],
   "source": [
    "todos_imparesQ = lambda w: True if len(w) == 0 else True if w.pop() % 2 != 0 and todos_imparesQ(w) else False\n",
    "        \n",
    "print(todos_imparesQ([2,2,6,5,1]))\n",
    "print(todos_imparesQ([1,3,1,1,5]))"
   ]
  },
  {
   "cell_type": "markdown",
   "metadata": {},
   "source": [
    "7 Defina a função pertenceQ que recebe como argumentos uma lista de números inteiros w e um número inteiro n e devolve True se n ocorre em w e False em caso contrário."
   ]
  },
  {
   "cell_type": "code",
   "execution_count": 33,
   "metadata": {},
   "outputs": [
    {
     "data": {
      "text/plain": [
       "True"
      ]
     },
     "execution_count": 33,
     "metadata": {},
     "output_type": "execute_result"
    }
   ],
   "source": [
    "pertenceQ = lambda n,w: True if n == w.pop() else pertenceQ(n,w) if len(w) > 0 else False\n",
    "\n",
    "pertenceQ(3,[1,2,3])"
   ]
  },
  {
   "cell_type": "markdown",
   "metadata": {},
   "source": [
    "8 Defina a função junta que recebe como argumentos duas listas de números inteiros w1 e w2 e devolve a concatenação de w1 com w2 .\n",
    "\n",
    "- Ex: junta([1,2,3],[4,5,6]) = [1, 2, 3, 4, 5, 6]\n",
    "- Ex: junta([],[4,5,6]) = [4, 5, 6]\n",
    "- Ex: junta([1,2,3],[]) = [1, 2, 3]"
   ]
  },
  {
   "cell_type": "code",
   "execution_count": 41,
   "metadata": {},
   "outputs": [
    {
     "name": "stdout",
     "output_type": "stream",
     "text": [
      "[1, 2, 3, 4, 5, 6]\n",
      "[4, 5, 6]\n",
      "[1, 2, 3]\n"
     ]
    }
   ],
   "source": [
    "junta = lambda v,w: w if len(v)==0 else v if len(w)==0 else v if len(junta_sep(v,w))== len(w) else v\n",
    "\n",
    "print(junta([1,2,3],[4,5,6]))\n",
    "print(junta([],[4,5,6]))\n",
    "print(junta([1,2,3],[]))"
   ]
  },
  {
   "cell_type": "markdown",
   "metadata": {},
   "source": [
    "9 Defina a função temPrimoQ que recebe como argumento uma lista de listas de números inteiros w e devolve True se alguma das sublistas w tem um número primo e False em caso contrário.\n",
    "\n",
    "- Ex: temPrimoQ([[4,4,4,4],[5,4,6,7],[2,4,3]]) = True\n",
    "- Ex: temPrimoQ([[4,4,4,4],[4,4,4],[],[4]]) = False"
   ]
  },
  {
   "cell_type": "code",
   "execution_count": 42,
   "metadata": {},
   "outputs": [],
   "source": [
    "primo = lambda n: len([i for i in range(2,n) if n%i==0])==0 \n",
    "extrai_lista = lambda w: None if len(w)==0 else w.pop()\n",
    "lista_primo = lambda v: False if v == None or len(v)==0 else True if primo(v.pop()) else lista_primo(v)\n",
    "temPrimoQ = lambda w: True if lista_primo(extrai_lista(w)) else False if len(w) == 0 else temPrimoQ(w)"
   ]
  },
  {
   "cell_type": "code",
   "execution_count": 43,
   "metadata": {},
   "outputs": [],
   "source": [
    "assert(temPrimoQ([[4,4,4,4],[5,4,6,7],[2,4,3]]) == True)\n",
    "assert(temPrimoQ([[4,4,4,4],[4,4,4],[],[4]]) == False)"
   ]
  },
  {
   "cell_type": "code",
   "execution_count": 42,
   "metadata": {},
   "outputs": [
    {
     "name": "stdout",
     "output_type": "stream",
     "text": [
      "True\n",
      "False\n",
      "False\n",
      "True\n"
     ]
    }
   ],
   "source": [
    "print(temPrimoQ([[4,4,4,4],[5,4,6,7],[2,4,3]]))\n",
    "print(temPrimoQ([[4,4,4,4],[4,4,4],[],[4]]))\n",
    "print(temPrimoQ([[]]))\n",
    "print(temPrimoQ([[2]]))"
   ]
  },
  {
   "cell_type": "markdown",
   "metadata": {},
   "source": [
    "10  Defina a função inverteLista que recebe como argumento uma lista w e devolve a mesma lista mas invertida.\n",
    "- Ex: inverteLista([1,2,3,4,5]) = [5, 4, 3, 2, 1]\n",
    "- Ex: inverteLista([]"
   ]
  },
  {
   "cell_type": "code",
   "execution_count": 44,
   "metadata": {},
   "outputs": [
    {
     "data": {
      "text/plain": [
       "[5, 4, 3, 2, 1]"
      ]
     },
     "execution_count": 44,
     "metadata": {},
     "output_type": "execute_result"
    }
   ],
   "source": [
    "inverteLista = lambda w: w[::-1]\n",
    "\n",
    "inverteLista([1,2,3,4,5])"
   ]
  }
 ],
 "metadata": {
  "kernelspec": {
   "display_name": "Python 3",
   "language": "python",
   "name": "python3"
  },
  "language_info": {
   "codemirror_mode": {
    "name": "ipython",
    "version": 3
   },
   "file_extension": ".py",
   "mimetype": "text/x-python",
   "name": "python",
   "nbconvert_exporter": "python",
   "pygments_lexer": "ipython3",
   "version": "3.7.3"
  }
 },
 "nbformat": 4,
 "nbformat_minor": 2
}
