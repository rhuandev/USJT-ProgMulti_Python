{
  "nbformat": 4,
  "nbformat_minor": 0,
  "metadata": {
    "colab": {
      "name": "Aula05_USJT_2020_GERDADOS_numpy_basico.ipynb",
      "provenance": [],
      "collapsed_sections": [
        "rkGxZWg8eCV5",
        "liMY4FSMeCYO",
        "caCe_Ne6eCYY",
        "_i0AmEjkeCYm",
        "ilfAsv3TeCYt",
        "Z3EN_MkJeCY4",
        "ooy3skBbeCZE"
      ],
      "include_colab_link": true
    },
    "kernelspec": {
      "display_name": "Python 3",
      "language": "python",
      "name": "python3"
    },
    "language_info": {
      "codemirror_mode": {
        "name": "ipython",
        "version": 3
      },
      "file_extension": ".py",
      "mimetype": "text/x-python",
      "name": "python",
      "nbconvert_exporter": "python",
      "pygments_lexer": "ipython3",
      "version": "3.6.4"
    }
  },
  "cells": [
    {
      "cell_type": "markdown",
      "metadata": {
        "id": "view-in-github",
        "colab_type": "text"
      },
      "source": [
        "<a href=\"https://colab.research.google.com/github/rhutao/USJT-ProgMulti_Python/blob/master/Aula05_USJT_2020_GERDADOS_numpy_basico.ipynb\" target=\"_parent\"><img src=\"https://colab.research.google.com/assets/colab-badge.svg\" alt=\"Open In Colab\"/></a>"
      ]
    },
    {
      "cell_type": "markdown",
      "metadata": {
        "colab_type": "text",
        "id": "yj5uH_0BeCVY"
      },
      "source": [
        "![logo_usjt.png](https://www.usjt.br/app/themes/mobister/dist/images/sao-judas-universidade.png)"
      ]
    },
    {
      "cell_type": "markdown",
      "metadata": {
        "colab_type": "text",
        "id": "E41Ea2bdeCVc"
      },
      "source": [
        "# Gerenciamento de Dados e Informação\n",
        "- **Professor**: Sergio Bonato <antonio.bonato@saojudas.br>"
      ]
    },
    {
      "cell_type": "markdown",
      "metadata": {
        "colab_type": "text",
        "id": "mJobS_nzeCVe"
      },
      "source": [
        "# Aula05 - NumPy Básico: Arrays e Processamento Vetorizado\n",
        "Adaptado do livro Python para Análise de Dados, de Wes McKinney, editora Novatec. [Clique para acessar os notebooks do livro](https://github.com/wesm/pydata-book)\n",
        "\n",
        "**Conteúdo:**\n",
        "- O que é NumPy; NumPy arrays; operações com arrays\n",
        "- NumPy: matrizes e operações com matrizes\n",
        "- NumPy: carregando dados com NumPy\n",
        "- NumPy: álgebra linear básica"
      ]
    },
    {
      "cell_type": "markdown",
      "metadata": {
        "colab_type": "text",
        "id": "3t8MKagzeCVg"
      },
      "source": [
        "## Introdução\n",
        "O NumPy, abreviatura de Numerical Python, é um dos pacotes básicos mais importantes para processamento numérico em Python. A maioria dos pacotes de processamento com funcionalidades científicas utiliza objetos array do NumPy como *língua franca* para troca de dados.\n",
        "\n",
        "Alguns recursos do NumPy:\n",
        "- ndarray: um multidimensional eficaz que oferece operações aritméticas rápidas,  orientadas a arrays, e recursos flexíveis de *broadcasting*;\n",
        "- funções matemáticas para operações rápidas em arrays de dados inteiros sem que seja necessário escrever laços;\n",
        "- ferramentas para ler/escrever dados de array em disco e trabalhar arquivos mapeados em memória;\n",
        "- recursos para álgebra linear, geração de números aleatórios e transformadas de Fourier;\n",
        "- uma API C para conectar o NumPy a bibliotecas escritas em C, C++ ou FORTRAN.\n",
        "\n",
        "Embora o NumPy por si só não ofereça funcionalidades científicas nem de modelagem, compreender os arrays NumPy e o processamento orientado a arrays ajudará você a utilizar ferramentas com semântica orientada a arrays, como o [pandas](https://pandas.pydata.org) (análise de dados), o [Scikit-Learn](https://scikit-learn.org/stable/) (machine learning) e o [Keras](https://keras.io) (deep learning).\n",
        "\n",
        "Um dos motivos para o NumPy ser tão importante é o fato de ele ter sido projetado para ser eficaz em arrays de dados grandes.<br>\n",
        "Veja abaixo um exemplo de desempenho no processamento de uma lista com um milhão de inteiros e um numpy array com um milhão de inteiros."
      ]
    },
    {
      "cell_type": "code",
      "metadata": {
        "colab_type": "code",
        "id": "YsWKJQrJeCVi",
        "colab": {}
      },
      "source": [
        "import numpy as np\n",
        "np.random.seed(12345)\n",
        "import matplotlib.pyplot as plt\n",
        "plt.rc('figure', figsize=(10, 6))\n",
        "np.set_printoptions(precision=4, suppress=True)"
      ],
      "execution_count": 0,
      "outputs": []
    },
    {
      "cell_type": "code",
      "metadata": {
        "colab_type": "code",
        "id": "wM8zLtjqeCVn",
        "colab": {}
      },
      "source": [
        "import numpy as np\n",
        "my_arr = np.arange(1000000)\n",
        "my_list = list(range(1000000))"
      ],
      "execution_count": 0,
      "outputs": []
    },
    {
      "cell_type": "code",
      "metadata": {
        "colab_type": "code",
        "id": "bIo8-y7yeCVq",
        "outputId": "dc091ae2-7a45-4312-9b56-a6057f75dfed",
        "colab": {
          "base_uri": "https://localhost:8080/",
          "height": 107
        }
      },
      "source": [
        "%time for _ in range(10): my_arr2 = my_arr * 2\n",
        "%time for _ in range(10): my_list2 = [x * 2 for x in my_list]"
      ],
      "execution_count": 0,
      "outputs": [
        {
          "output_type": "stream",
          "text": [
            "CPU times: user 12.7 ms, sys: 11.7 ms, total: 24.4 ms\n",
            "Wall time: 29.3 ms\n",
            "CPU times: user 622 ms, sys: 192 ms, total: 814 ms\n",
            "Wall time: 816 ms\n"
          ],
          "name": "stdout"
        }
      ]
    },
    {
      "cell_type": "markdown",
      "metadata": {
        "colab_type": "text",
        "id": "0u63rxbReCVu"
      },
      "source": [
        "Os algoritmos baseados no NumPy geralmente são de 10 a 100 vezes mais rápidos do que suas contrapartidas em Python puro, além de utilizarem sigificativamente menos memória."
      ]
    },
    {
      "cell_type": "markdown",
      "metadata": {
        "colab_type": "text",
        "id": "U7HDifpgeCVu"
      },
      "source": [
        "## O ndarray do NumPy: Um OBjeto Array Multidimensional\n",
        "<br>\n",
        "Um dos principais recursos do NumPy é o seu objeto array n-dimensional, ou ndarray, que é um contêiner rápido e flexível para conjuntos de dados grandes em Python. Os arrays permitem realizar operações matemáticas em blocos inteiros de dados usando uma sintaxe semelhante às operações equivalentes entre elementos escalares. Veja o exemplo:"
      ]
    },
    {
      "cell_type": "code",
      "metadata": {
        "colab_type": "code",
        "id": "ZQk07o3seCVv",
        "outputId": "0a5e6b83-daa5-4439-b5c0-7ec7536a6d55",
        "colab": {
          "base_uri": "https://localhost:8080/",
          "height": 72
        }
      },
      "source": [
        "import numpy as np\n",
        "# Gera alguns dados aleatórios\n",
        "data = np.random.randn(2, 3)\n",
        "data"
      ],
      "execution_count": 0,
      "outputs": [
        {
          "output_type": "execute_result",
          "data": {
            "text/plain": [
              "array([[ 1.06009101,  1.02474505,  1.76963138],\n",
              "       [-1.39911098,  0.87921019,  2.56977452]])"
            ]
          },
          "metadata": {
            "tags": []
          },
          "execution_count": 3
        }
      ]
    },
    {
      "cell_type": "code",
      "metadata": {
        "colab_type": "code",
        "id": "PvGCL11MeCVy",
        "outputId": "4268911d-83c8-4974-a887-23107bdb5be6",
        "colab": {
          "base_uri": "https://localhost:8080/",
          "height": 107
        }
      },
      "source": [
        "print(data * 10)\n",
        "print(data + data)"
      ],
      "execution_count": 0,
      "outputs": [
        {
          "output_type": "stream",
          "text": [
            "[[ 10.60091007  10.24745054  17.69631378]\n",
            " [-13.99110981   8.79210188  25.69774515]]\n",
            "[[ 2.12018201  2.04949011  3.53926276]\n",
            " [-2.79822196  1.75842038  5.13954903]]\n"
          ],
          "name": "stdout"
        }
      ]
    },
    {
      "cell_type": "markdown",
      "metadata": {
        "colab_type": "text",
        "id": "d4FDEvITeCV1"
      },
      "source": [
        "No primeiro exemplo, todos os elementos foram multiplicados por 10. No segundo, os valores de cada posição do array foram somados uns aos outros."
      ]
    },
    {
      "cell_type": "markdown",
      "metadata": {
        "colab_type": "text",
        "id": "VBTG4xOTeCV2"
      },
      "source": [
        "Um ndarray é um contêiner genérico, multidimensional para dados homogêneos; isso significa que todos os elementos devem ser do mesmo tipo. Todo array tem um *shape*, uma tupla que indica o tamanho de cada dimensão, e um *dtype*, que é um objeto que descreve o tipo de dado do array."
      ]
    },
    {
      "cell_type": "code",
      "metadata": {
        "colab_type": "code",
        "id": "Wn-xt-xYeCV2",
        "outputId": "01792f98-ee36-4547-d53a-bed3b7ebe368",
        "colab": {
          "base_uri": "https://localhost:8080/",
          "height": 72
        }
      },
      "source": [
        "print(data.shape)\n",
        "print(data.dtype)"
      ],
      "execution_count": 0,
      "outputs": [
        {
          "output_type": "stream",
          "text": [
            "(2, 3)\n",
            "float64\n"
          ],
          "name": "stdout"
        }
      ]
    },
    {
      "cell_type": "markdown",
      "metadata": {
        "colab_type": "text",
        "id": "kxk7jWvseCV5"
      },
      "source": [
        "**A partir de agora este notebook irá usar np para se referir ao NumPy. Esta é uma convenção comum no mundo Python.**"
      ]
    },
    {
      "cell_type": "markdown",
      "metadata": {
        "colab_type": "text",
        "id": "rkGxZWg8eCV5"
      },
      "source": [
        "### Criando ndarrays\n",
        "\n",
        "O modo mais fácil é usar a função `array`. Ela aceita qualquer objeto do tipo sequência (incluindo outros arrays) e gera um novo numpy array. O exemplo abaixo usa uma lista."
      ]
    },
    {
      "cell_type": "code",
      "metadata": {
        "colab_type": "code",
        "id": "cxo88B_heCV6",
        "outputId": "e38603fa-f1e0-44bb-aaf1-98c2c0140cc5",
        "colab": {
          "base_uri": "https://localhost:8080/",
          "height": 55
        }
      },
      "source": [
        "data1 = [6, 7.5, 8, 0, 1]\n",
        "arr1 = np.array(data1)\n",
        "arr1"
      ],
      "execution_count": 0,
      "outputs": [
        {
          "output_type": "execute_result",
          "data": {
            "text/plain": [
              "array([6. , 7.5, 8. , 0. , 1. ])"
            ]
          },
          "metadata": {
            "tags": []
          },
          "execution_count": 6
        }
      ]
    },
    {
      "cell_type": "markdown",
      "metadata": {
        "colab_type": "text",
        "id": "VXnX-90DeCV9"
      },
      "source": [
        "Sequências aninhadas geram um array multidimensional."
      ]
    },
    {
      "cell_type": "code",
      "metadata": {
        "colab_type": "code",
        "id": "ak-HLeqceCV9",
        "outputId": "c1d0aad1-dd9b-482b-86cc-c7d57e0055be",
        "colab": {
          "base_uri": "https://localhost:8080/",
          "height": 72
        }
      },
      "source": [
        "data2 = [[1, 2, 3, 4], [5, 6, 7, 8]]\n",
        "arr2 = np.array(data2)\n",
        "arr2"
      ],
      "execution_count": 0,
      "outputs": [
        {
          "output_type": "execute_result",
          "data": {
            "text/plain": [
              "array([[1, 2, 3, 4],\n",
              "       [5, 6, 7, 8]])"
            ]
          },
          "metadata": {
            "tags": []
          },
          "execution_count": 7
        }
      ]
    },
    {
      "cell_type": "markdown",
      "metadata": {
        "colab_type": "text",
        "id": "6lIs9rJqeCWA"
      },
      "source": [
        "Como *data2* era uma lista de listas, o array NumPy *arr2* tem duas dimensões com o formato inferido a partir dos dados. Podemos conferir isso inspecionando os atributos `ndim` e `shape`."
      ]
    },
    {
      "cell_type": "code",
      "metadata": {
        "colab_type": "code",
        "id": "BqgSIzXAeCWB",
        "outputId": "bb992e4e-ec4a-474d-b456-8fa8edd10925",
        "colab": {
          "base_uri": "https://localhost:8080/",
          "height": 72
        }
      },
      "source": [
        "print(arr2.ndim)\n",
        "print(arr2.shape)"
      ],
      "execution_count": 0,
      "outputs": [
        {
          "output_type": "stream",
          "text": [
            "2\n",
            "(2, 4)\n"
          ],
          "name": "stdout"
        }
      ]
    },
    {
      "cell_type": "markdown",
      "metadata": {
        "colab_type": "text",
        "id": "Qi6kFs5keCWD"
      },
      "source": [
        "A menos que esteja explicitamente especificado, `np.array` tentará inferir um bom tipo de dados para o array que irá criar."
      ]
    },
    {
      "cell_type": "code",
      "metadata": {
        "colab_type": "code",
        "id": "4H71F6HOeCWE",
        "outputId": "02382432-4a97-4842-d0e8-e6111289dbb9",
        "colab": {
          "base_uri": "https://localhost:8080/",
          "height": 55
        }
      },
      "source": [
        "arr1.dtype"
      ],
      "execution_count": 0,
      "outputs": [
        {
          "output_type": "execute_result",
          "data": {
            "text/plain": [
              "dtype('float64')"
            ]
          },
          "metadata": {
            "tags": []
          },
          "execution_count": 9
        }
      ]
    },
    {
      "cell_type": "code",
      "metadata": {
        "colab_type": "code",
        "id": "IqCdYAejeCWG",
        "outputId": "4527ccbc-2b22-430a-bd04-22e2cb3871a9",
        "colab": {
          "base_uri": "https://localhost:8080/",
          "height": 55
        }
      },
      "source": [
        "arr2.dtype"
      ],
      "execution_count": 0,
      "outputs": [
        {
          "output_type": "execute_result",
          "data": {
            "text/plain": [
              "dtype('int64')"
            ]
          },
          "metadata": {
            "tags": []
          },
          "execution_count": 10
        }
      ]
    },
    {
      "cell_type": "markdown",
      "metadata": {
        "colab_type": "text",
        "id": "q8DfKw00eCWH"
      },
      "source": [
        "Há outras formas de se criar arrays. A função `zeros` cria array de 0s. A `ones` cria arrays de 1s. Ambas aceitam como argumento o tamanho do array. Para arrays multimensionais, passe uma tupla. A função `empty` cria um array sem inicializar os seus valores (vem zeros, mas às vezes, lixo). A função `arange` é uma versão da função `range`."
      ]
    },
    {
      "cell_type": "code",
      "metadata": {
        "colab_type": "code",
        "id": "JoKZBdXzeCWI",
        "outputId": "5092f708-85cc-4dac-9567-4a13f22c1305",
        "colab": {
          "base_uri": "https://localhost:8080/",
          "height": 55
        }
      },
      "source": [
        "np.zeros(10)"
      ],
      "execution_count": 0,
      "outputs": [
        {
          "output_type": "execute_result",
          "data": {
            "text/plain": [
              "array([0., 0., 0., 0., 0., 0., 0., 0., 0., 0.])"
            ]
          },
          "metadata": {
            "tags": []
          },
          "execution_count": 11
        }
      ]
    },
    {
      "cell_type": "code",
      "metadata": {
        "colab_type": "code",
        "id": "eJ2Cl3ZieCWK",
        "outputId": "e9c74089-2e51-4f00-a430-167d4fee9f4f",
        "colab": {
          "base_uri": "https://localhost:8080/",
          "height": 90
        }
      },
      "source": [
        "np.zeros((3, 6))"
      ],
      "execution_count": 0,
      "outputs": [
        {
          "output_type": "execute_result",
          "data": {
            "text/plain": [
              "array([[0., 0., 0., 0., 0., 0.],\n",
              "       [0., 0., 0., 0., 0., 0.],\n",
              "       [0., 0., 0., 0., 0., 0.]])"
            ]
          },
          "metadata": {
            "tags": []
          },
          "execution_count": 12
        }
      ]
    },
    {
      "cell_type": "code",
      "metadata": {
        "colab_type": "code",
        "id": "k9N_4sEEeCWL",
        "outputId": "629a3aac-dfb6-4e8e-9d39-852122742188",
        "colab": {
          "base_uri": "https://localhost:8080/",
          "height": 159
        }
      },
      "source": [
        "np.empty((2, 3, 2))"
      ],
      "execution_count": 0,
      "outputs": [
        {
          "output_type": "execute_result",
          "data": {
            "text/plain": [
              "array([[[2.40974867e-316, 2.66795449e-322],\n",
              "        [0.00000000e+000, 0.00000000e+000],\n",
              "        [6.91473548e-310, 1.16095484e-028]],\n",
              "\n",
              "       [[1.40015516e+195, 2.61075667e+180],\n",
              "        [2.10810986e+262, 3.42913753e+169],\n",
              "        [6.20584232e+228, 6.80061292e-310]]])"
            ]
          },
          "metadata": {
            "tags": []
          },
          "execution_count": 13
        }
      ]
    },
    {
      "cell_type": "markdown",
      "metadata": {
        "colab_type": "text",
        "id": "Rtw3wOcbeCWN"
      },
      "source": [
        "`arange` é uma função embutida `range` de Python."
      ]
    },
    {
      "cell_type": "code",
      "metadata": {
        "colab_type": "code",
        "id": "blnBIP0EeCWO",
        "outputId": "886edd3d-fa97-4912-e829-792902af1817",
        "colab": {
          "base_uri": "https://localhost:8080/",
          "height": 55
        }
      },
      "source": [
        "np.arange(15)"
      ],
      "execution_count": 0,
      "outputs": [
        {
          "output_type": "execute_result",
          "data": {
            "text/plain": [
              "array([ 0,  1,  2,  3,  4,  5,  6,  7,  8,  9, 10, 11, 12, 13, 14])"
            ]
          },
          "metadata": {
            "tags": []
          },
          "execution_count": 14
        }
      ]
    },
    {
      "cell_type": "markdown",
      "metadata": {
        "colab_type": "text",
        "id": "2vUg-1lAeCWP"
      },
      "source": [
        "|Função|Descrição|\n",
        "|:-|:-|\n",
        "|array|Converte os dados de entrada (lista, tupla, array ou outro tipo de sequência) em um ndarray, seja inferindo um dtype ou especificando-o explicitamente; copia os dados de entrada, por padrão|\n",
        "|asarray|Converte a entrada para um ndarray, mas não copia se a entrada for um ndarray|\n",
        "|arange|Como a função embutida `range`, porém devolve um ndarray em vez de uma lista|\n",
        "|ones, ones_like|Gera um array somente com 1s, com o formato e dtype especificados; ones_like aceita outro array e gera um array de uns com o mesmo formato e o mesto dtype|\n",
        "|zeros,zeros_like|Como ones e ones_like, porém gerando arrays com 0s|\n",
        "|empty, empty_like|Cria novos arrays alocando nova memória, mas não preenche nehum valor|\n",
        "|full, full_like|Gera um array com o formato e o dtype especificados, com todos os falores preenchidos com o valor de preenchimento indicado. full_like aceita outro array e gera um array preenchido com o mesmo formato e o mestmo dtype|\n",
        "|eye, identity|Cria uma matriz-identidade quadrada N x N (1s na diagonal e 0s nas demais posições)|"
      ]
    },
    {
      "cell_type": "markdown",
      "metadata": {
        "colab_type": "text",
        "id": "tEsGbPsNeCWQ"
      },
      "source": [
        "## Quizz\n",
        "\n",
        "Crie os seguintes arrays:\n",
        "- um array nulo de tamanho 10\n",
        "- um array vazio de tamanho 10\n",
        "- um array de 0 a 10\n",
        "- uma matriz identidade de tamanho 3"
      ]
    },
    {
      "cell_type": "code",
      "metadata": {
        "colab_type": "code",
        "id": "Vv6GT1oFeCWQ",
        "outputId": "854d98d0-1940-47c1-fa72-99b3c49969b8",
        "colab": {
          "base_uri": "https://localhost:8080/",
          "height": 142
        }
      },
      "source": [
        "#resposta\n",
        "print(np.zeros(10))\n",
        "print(np.empty(10))\n",
        "print(np.arange(11))\n",
        "print(np.eye(3))"
      ],
      "execution_count": 0,
      "outputs": [
        {
          "output_type": "stream",
          "text": [
            "[0. 0. 0. 0. 0. 0. 0. 0. 0. 0.]\n",
            "[0. 0. 0. 0. 0. 0. 0. 0. 0. 0.]\n",
            "[ 0  1  2  3  4  5  6  7  8  9 10]\n",
            "[[1. 0. 0.]\n",
            " [0. 1. 0.]\n",
            " [0. 0. 1.]]\n"
          ],
          "name": "stdout"
        }
      ]
    },
    {
      "cell_type": "markdown",
      "metadata": {
        "colab_type": "text",
        "id": "adhsdiNCeCWS"
      },
      "source": [
        "### Tipos de dados para  ndarrays\n",
        "O *tipo de dado* ou *dtype* é um objeto especial contendo informações que o array precisa para interpretar uma posição de memória como um tipo de dado em particular."
      ]
    },
    {
      "cell_type": "code",
      "metadata": {
        "colab_type": "code",
        "id": "kU1fyro7eCWS",
        "colab": {}
      },
      "source": [
        "arr1 = np.array([1, 2, 3], dtype=np.float64)\n",
        "arr2 = np.array([1, 2, 3], dtype=np.int32)"
      ],
      "execution_count": 0,
      "outputs": []
    },
    {
      "cell_type": "code",
      "metadata": {
        "colab_type": "code",
        "id": "r0yzs1QNeCWU",
        "outputId": "ed5d1501-2167-4ca8-ceb2-c422df03cf2c",
        "colab": {
          "base_uri": "https://localhost:8080/",
          "height": 55
        }
      },
      "source": [
        "arr1.dtype"
      ],
      "execution_count": 0,
      "outputs": [
        {
          "output_type": "execute_result",
          "data": {
            "text/plain": [
              "dtype('float64')"
            ]
          },
          "metadata": {
            "tags": []
          },
          "execution_count": 23
        }
      ]
    },
    {
      "cell_type": "code",
      "metadata": {
        "colab_type": "code",
        "id": "1UHLWoB3eCWW",
        "outputId": "405a65b9-54af-40cc-8f10-1029c78cdce2",
        "colab": {
          "base_uri": "https://localhost:8080/",
          "height": 55
        }
      },
      "source": [
        "arr2.dtype"
      ],
      "execution_count": 0,
      "outputs": [
        {
          "output_type": "execute_result",
          "data": {
            "text/plain": [
              "dtype('int32')"
            ]
          },
          "metadata": {
            "tags": []
          },
          "execution_count": 24
        }
      ]
    },
    {
      "cell_type": "code",
      "metadata": {
        "colab_type": "code",
        "id": "hqk-S9YjeCWX",
        "outputId": "61883c0e-e6e0-41c7-c4d0-b7ff83fee1dd",
        "colab": {
          "base_uri": "https://localhost:8080/",
          "height": 55
        }
      },
      "source": [
        "arr = np.array([1, 2, 3, 4, 5])\n",
        "arr.dtype"
      ],
      "execution_count": 0,
      "outputs": [
        {
          "output_type": "execute_result",
          "data": {
            "text/plain": [
              "dtype('int64')"
            ]
          },
          "metadata": {
            "tags": []
          },
          "execution_count": 25
        }
      ]
    },
    {
      "cell_type": "markdown",
      "metadata": {
        "colab_type": "text",
        "id": "T4dtgz_OeCWZ"
      },
      "source": [
        "|Tipo|Código do Tipo|Descrição|\n",
        "|:-|:-|:-|\n",
        "|int8, uint8|i1, u1|Tipos inteiros de 8 bits (1 byte) com e sem sinal|\n",
        "|int16, uint116|i2, u2|Tipos inteiros de 16 bits com e sem sinal|\n",
        "|int32, uint32|i4, u4|Tipos inteiros de 32 bits com e sem sinal|\n",
        "|int64, uint64|i8, u8|Tipos inteiros de 64 bits com e sem sinal|\n",
        "|float16|f2|Ponto flutuante com metade da precisão|\n",
        "|float32|f4 ou f|Ponto flutuante padrão de precisão única; compatível com o float de C|\n",
        "|float64|f8 ou d|Ponto flutuante padrão de precisão dupla; compatível com o double de C e o objeto float de Python|\n",
        "|float128|f16 ou g|Ponto flutuante com precisão estendida|\n",
        "|complex64, complex128, complex256|c8, c16, c32|Números complexos representados por dois floats de 32, 64 ou 128 bits respectivamente|\n",
        "|bool|?|Tipo booleano que armazena os valores True e False|\n",
        "|object|o|Tipo objeto de Python; um valor pode ser qualquer objeto de Python|\n",
        "|string_|S|Tipo string ASCII de tamanho fixo (1 byte por caractere); por exemplo, para criar um dtype string com tamanho 10 use 'S10'|\n",
        "|unicode_|U|Tipo Unicode de tamanho fixo (número de bytes é específico de cada plataforma); a mesma semântiva de especificação de string_ (por exemplo, 'U10')"
      ]
    },
    {
      "cell_type": "markdown",
      "metadata": {
        "colab_type": "text",
        "id": "E3ru3vUveCWZ"
      },
      "source": [
        "Você pode conveter explicitamente ou fazer cast de um array de um dtype para outro usando o método `astype` de ndarray:"
      ]
    },
    {
      "cell_type": "code",
      "metadata": {
        "colab_type": "code",
        "id": "j9y8JSm5eCWa",
        "outputId": "f7dbd891-2a08-4efa-9b8c-bca1900e01c0",
        "colab": {
          "base_uri": "https://localhost:8080/",
          "height": 55
        }
      },
      "source": [
        "float_arr = arr.astype(np.float64)\n",
        "float_arr.dtype"
      ],
      "execution_count": 0,
      "outputs": [
        {
          "output_type": "execute_result",
          "data": {
            "text/plain": [
              "dtype('float64')"
            ]
          },
          "metadata": {
            "tags": []
          },
          "execution_count": 26
        }
      ]
    },
    {
      "cell_type": "code",
      "metadata": {
        "colab_type": "code",
        "id": "nztUMzCkeCWb",
        "outputId": "5564fd03-ea62-40a6-bb6d-17e3f706a2d6",
        "colab": {
          "base_uri": "https://localhost:8080/",
          "height": 55
        }
      },
      "source": [
        "arr = np.array([3.7, -1.2, -2.6, 0.5, 12.9, 10.1])\n",
        "arr"
      ],
      "execution_count": 0,
      "outputs": [
        {
          "output_type": "execute_result",
          "data": {
            "text/plain": [
              "array([ 3.7, -1.2, -2.6,  0.5, 12.9, 10.1])"
            ]
          },
          "metadata": {
            "tags": []
          },
          "execution_count": 27
        }
      ]
    },
    {
      "cell_type": "code",
      "metadata": {
        "colab_type": "code",
        "id": "kMdh_9hZeCWd",
        "outputId": "ba5086c9-66c0-4d97-dbd0-f852573005f4",
        "colab": {
          "base_uri": "https://localhost:8080/",
          "height": 55
        }
      },
      "source": [
        "#cast de ponto flutuante para inteiro trunca a parte decimal\n",
        "arr.astype(np.int32)"
      ],
      "execution_count": 0,
      "outputs": [
        {
          "output_type": "execute_result",
          "data": {
            "text/plain": [
              "array([ 3, -1, -2,  0, 12, 10], dtype=int32)"
            ]
          },
          "metadata": {
            "tags": []
          },
          "execution_count": 28
        }
      ]
    },
    {
      "cell_type": "code",
      "metadata": {
        "colab_type": "code",
        "id": "NTTmVUnEeCWe",
        "outputId": "0d18ff94-339a-4a59-dc27-81d615790516",
        "colab": {
          "base_uri": "https://localhost:8080/",
          "height": 55
        }
      },
      "source": [
        "numeric_strings = np.array(['1.25', '-9.6', '42'], dtype=np.string_)\n",
        "numeric_strings"
      ],
      "execution_count": 0,
      "outputs": [
        {
          "output_type": "execute_result",
          "data": {
            "text/plain": [
              "array([b'1.25', b'-9.6', b'42'], dtype='|S4')"
            ]
          },
          "metadata": {
            "tags": []
          },
          "execution_count": 29
        }
      ]
    },
    {
      "cell_type": "markdown",
      "metadata": {
        "colab_type": "text",
        "id": "UJb4PHNweCWf"
      },
      "source": [
        "Um array de strings que representem números pode ser convertido para um dtype numérico. Mas é preciso cuidado pois pode dar erro se não for possível converter."
      ]
    },
    {
      "cell_type": "code",
      "metadata": {
        "colab_type": "code",
        "id": "Md9k4jl1eCWf",
        "outputId": "0d3a08cc-92f6-4a9d-925b-98234f6f6910",
        "colab": {
          "base_uri": "https://localhost:8080/",
          "height": 55
        }
      },
      "source": [
        "numeric_strings.astype(float)"
      ],
      "execution_count": 0,
      "outputs": [
        {
          "output_type": "execute_result",
          "data": {
            "text/plain": [
              "array([ 1.25, -9.6 , 42.  ])"
            ]
          },
          "metadata": {
            "tags": []
          },
          "execution_count": 30
        }
      ]
    },
    {
      "cell_type": "code",
      "metadata": {
        "colab_type": "code",
        "id": "kipGSKcxeCWh",
        "outputId": "dff8cbd3-cfa3-4e07-ee9b-b5935ea1585e",
        "colab": {
          "base_uri": "https://localhost:8080/",
          "height": 55
        }
      },
      "source": [
        "not_so_numeric_strings = np.array(['1.25', '-9.6', 'abc'], dtype=np.string_)\n",
        "not_so_numeric_strings"
      ],
      "execution_count": 0,
      "outputs": [
        {
          "output_type": "execute_result",
          "data": {
            "text/plain": [
              "array([b'1.25', b'-9.6', b'abc'], dtype='|S4')"
            ]
          },
          "metadata": {
            "tags": []
          },
          "execution_count": 31
        }
      ]
    },
    {
      "cell_type": "code",
      "metadata": {
        "colab_type": "code",
        "id": "bI1_aCCseCWi",
        "outputId": "271bc4bd-b5cf-4bfd-ffd0-c97a8b0409d8",
        "colab": {
          "base_uri": "https://localhost:8080/",
          "height": 55
        }
      },
      "source": [
        "try:\n",
        "    not_so_numeric_strings.astype(float)\n",
        "except ValueError as ve:\n",
        "    print(ve)"
      ],
      "execution_count": 0,
      "outputs": [
        {
          "output_type": "stream",
          "text": [
            "could not convert string to float: 'abc'\n"
          ],
          "name": "stdout"
        }
      ]
    },
    {
      "cell_type": "markdown",
      "metadata": {
        "colab_type": "text",
        "id": "4A5KAaOSeCWj"
      },
      "source": [
        "Você pode usar o atributo dtype de outro array para fazer a conversão."
      ]
    },
    {
      "cell_type": "code",
      "metadata": {
        "colab_type": "code",
        "id": "d9jCZyNveCWk",
        "outputId": "4a5846d1-e603-45fd-bad4-467979ac6a7a",
        "colab": {
          "base_uri": "https://localhost:8080/",
          "height": 55
        }
      },
      "source": [
        "int_array = np.arange(10)\n",
        "int_array"
      ],
      "execution_count": 0,
      "outputs": [
        {
          "output_type": "execute_result",
          "data": {
            "text/plain": [
              "array([0, 1, 2, 3, 4, 5, 6, 7, 8, 9])"
            ]
          },
          "metadata": {
            "tags": []
          },
          "execution_count": 33
        }
      ]
    },
    {
      "cell_type": "code",
      "metadata": {
        "colab_type": "code",
        "id": "r2lkQ-5geCWl",
        "outputId": "e5c282a6-a8ab-4a39-f2fe-96722a7635e1",
        "colab": {
          "base_uri": "https://localhost:8080/",
          "height": 55
        }
      },
      "source": [
        "calibers = np.array([.22, .270, .357, .380, .44, .50], dtype=np.float64)\n",
        "calibers"
      ],
      "execution_count": 0,
      "outputs": [
        {
          "output_type": "execute_result",
          "data": {
            "text/plain": [
              "array([0.22 , 0.27 , 0.357, 0.38 , 0.44 , 0.5  ])"
            ]
          },
          "metadata": {
            "tags": []
          },
          "execution_count": 34
        }
      ]
    },
    {
      "cell_type": "code",
      "metadata": {
        "colab_type": "code",
        "id": "11EyKbzueCWm",
        "outputId": "cf230a06-4d38-4002-ad2c-852af675de57",
        "colab": {
          "base_uri": "https://localhost:8080/",
          "height": 55
        }
      },
      "source": [
        "int_array.astype(calibers.dtype)"
      ],
      "execution_count": 0,
      "outputs": [
        {
          "output_type": "execute_result",
          "data": {
            "text/plain": [
              "array([0., 1., 2., 3., 4., 5., 6., 7., 8., 9.])"
            ]
          },
          "metadata": {
            "tags": []
          },
          "execution_count": 35
        }
      ]
    },
    {
      "cell_type": "markdown",
      "metadata": {
        "colab_type": "text",
        "id": "Ir0tIPhBeCWn"
      },
      "source": [
        "Também é possível usar os códigos de tipo (veja tabela acima) para fazer a conversão."
      ]
    },
    {
      "cell_type": "code",
      "metadata": {
        "colab_type": "code",
        "id": "hI_PIUf8eCWo",
        "outputId": "4a81b92c-6a14-4a1f-cbe6-62381c29aa42",
        "colab": {
          "base_uri": "https://localhost:8080/",
          "height": 72
        }
      },
      "source": [
        "empty_uint32 = np.empty(8, dtype='u4')\n",
        "empty_uint32"
      ],
      "execution_count": 0,
      "outputs": [
        {
          "output_type": "execute_result",
          "data": {
            "text/plain": [
              "array([         0, 1075314688,          0, 1075707904,          0,\n",
              "       1075838976,          0, 1072693248], dtype=uint32)"
            ]
          },
          "metadata": {
            "tags": []
          },
          "execution_count": 36
        }
      ]
    },
    {
      "cell_type": "markdown",
      "metadata": {
        "colab_type": "text",
        "id": "QjKM25emeCWp"
      },
      "source": [
        "## Quizz\n",
        "\n",
        "- crie uma matriz identidade de tamanho 5 e transforme em uma matriz de booleans"
      ]
    },
    {
      "cell_type": "code",
      "metadata": {
        "colab_type": "code",
        "id": "Oe_klpvpeCWp",
        "outputId": "6ea9ac1b-35ff-441f-9ff3-0e7695114c7a",
        "colab": {
          "base_uri": "https://localhost:8080/",
          "height": 124
        }
      },
      "source": [
        "#resposta\n",
        "np.eye(5).astype(dtype='?')"
      ],
      "execution_count": 0,
      "outputs": [
        {
          "output_type": "execute_result",
          "data": {
            "text/plain": [
              "array([[ True, False, False, False, False],\n",
              "       [False,  True, False, False, False],\n",
              "       [False, False,  True, False, False],\n",
              "       [False, False, False,  True, False],\n",
              "       [False, False, False, False,  True]])"
            ]
          },
          "metadata": {
            "tags": []
          },
          "execution_count": 39
        }
      ]
    },
    {
      "cell_type": "markdown",
      "metadata": {
        "colab_type": "text",
        "id": "i6sUJTUNeCWr"
      },
      "source": [
        "### Aritmética com NumPy Arrays\n",
        "Os arrays são importantes pois permitem operações em lote sobre arrays sem a necessidade de loops, o que é conhecido por *vetorização*.\n",
        "\n",
        "Qualquer operação aritmética entre arrays do mesmo tamanho faz com ela seja aplicada em todos os elementos do array."
      ]
    },
    {
      "cell_type": "code",
      "metadata": {
        "colab_type": "code",
        "id": "WpmHNtACeCWr",
        "outputId": "52d38024-a4ef-4ad6-87fd-63273b0f76b0",
        "colab": {
          "base_uri": "https://localhost:8080/",
          "height": 72
        }
      },
      "source": [
        "arr = np.array([[1., 2., 3.], [4., 5., 6.]])\n",
        "arr"
      ],
      "execution_count": 0,
      "outputs": [
        {
          "output_type": "execute_result",
          "data": {
            "text/plain": [
              "array([[1., 2., 3.],\n",
              "       [4., 5., 6.]])"
            ]
          },
          "metadata": {
            "tags": []
          },
          "execution_count": 40
        }
      ]
    },
    {
      "cell_type": "code",
      "metadata": {
        "colab_type": "code",
        "id": "Wn-6VInbeCWs",
        "outputId": "d657fc09-cb64-4faa-f489-ef30ed9b1944",
        "colab": {
          "base_uri": "https://localhost:8080/",
          "height": 72
        }
      },
      "source": [
        "arr * arr"
      ],
      "execution_count": 0,
      "outputs": [
        {
          "output_type": "execute_result",
          "data": {
            "text/plain": [
              "array([[ 1.,  4.,  9.],\n",
              "       [16., 25., 36.]])"
            ]
          },
          "metadata": {
            "tags": []
          },
          "execution_count": 41
        }
      ]
    },
    {
      "cell_type": "code",
      "metadata": {
        "colab_type": "code",
        "id": "raK70E29eCWu",
        "outputId": "e61b827d-8904-4ed8-ba11-77fc47e64962",
        "colab": {
          "base_uri": "https://localhost:8080/",
          "height": 72
        }
      },
      "source": [
        "arr - arr"
      ],
      "execution_count": 0,
      "outputs": [
        {
          "output_type": "execute_result",
          "data": {
            "text/plain": [
              "array([[0., 0., 0.],\n",
              "       [0., 0., 0.]])"
            ]
          },
          "metadata": {
            "tags": []
          },
          "execution_count": 42
        }
      ]
    },
    {
      "cell_type": "markdown",
      "metadata": {
        "colab_type": "text",
        "id": "ZcG3_ccleCWv"
      },
      "source": [
        "As operações aritméticas com escalares fazem o argumento escalar ser propagado para cada elemento do array."
      ]
    },
    {
      "cell_type": "code",
      "metadata": {
        "colab_type": "code",
        "id": "aDijX-cJeCWw",
        "outputId": "39399cc1-6880-4748-e3c9-27a69d0d02ff",
        "colab": {
          "base_uri": "https://localhost:8080/",
          "height": 72
        }
      },
      "source": [
        "1 / arr"
      ],
      "execution_count": 0,
      "outputs": [
        {
          "output_type": "execute_result",
          "data": {
            "text/plain": [
              "array([[1.        , 0.5       , 0.33333333],\n",
              "       [0.25      , 0.2       , 0.16666667]])"
            ]
          },
          "metadata": {
            "tags": []
          },
          "execution_count": 43
        }
      ]
    },
    {
      "cell_type": "code",
      "metadata": {
        "colab_type": "code",
        "id": "s9NHmqiWeCWx",
        "outputId": "4ace6a50-c8cd-499a-e8b7-7c5163e40967",
        "colab": {
          "base_uri": "https://localhost:8080/",
          "height": 72
        }
      },
      "source": [
        "arr ** 0.5"
      ],
      "execution_count": 0,
      "outputs": [
        {
          "output_type": "execute_result",
          "data": {
            "text/plain": [
              "array([[1.        , 1.41421356, 1.73205081],\n",
              "       [2.        , 2.23606798, 2.44948974]])"
            ]
          },
          "metadata": {
            "tags": []
          },
          "execution_count": 44
        }
      ]
    },
    {
      "cell_type": "markdown",
      "metadata": {
        "colab_type": "text",
        "id": "fRYe9baweCWy"
      },
      "source": [
        "As comparações entre arrays de mesmo tamanho resultam em arrays booleanos."
      ]
    },
    {
      "cell_type": "code",
      "metadata": {
        "colab_type": "code",
        "id": "s6o-Wp7meCWy",
        "outputId": "a515767b-d451-44fc-e8d3-88bc51a24215",
        "colab": {
          "base_uri": "https://localhost:8080/",
          "height": 107
        }
      },
      "source": [
        "arr2 = np.array([[0., 4., 1.], [7., 2., 12.]])\n",
        "print(arr2)\n",
        "print(arr)"
      ],
      "execution_count": 0,
      "outputs": [
        {
          "output_type": "stream",
          "text": [
            "[[ 0.  4.  1.]\n",
            " [ 7.  2. 12.]]\n",
            "[[1. 2. 3.]\n",
            " [4. 5. 6.]]\n"
          ],
          "name": "stdout"
        }
      ]
    },
    {
      "cell_type": "code",
      "metadata": {
        "colab_type": "code",
        "id": "TNLffe06eCW0",
        "outputId": "26207b88-ac02-49ba-9f7c-ab08bda7017f",
        "colab": {
          "base_uri": "https://localhost:8080/",
          "height": 72
        }
      },
      "source": [
        "arr2 > arr"
      ],
      "execution_count": 0,
      "outputs": [
        {
          "output_type": "execute_result",
          "data": {
            "text/plain": [
              "array([[False,  True, False],\n",
              "       [ True, False,  True]])"
            ]
          },
          "metadata": {
            "tags": []
          },
          "execution_count": 46
        }
      ]
    },
    {
      "cell_type": "code",
      "metadata": {
        "colab_type": "code",
        "id": "h8eOzeyPMAlG",
        "outputId": "0740b829-8a04-4235-ccd3-65dfd9ed4b1e",
        "colab": {
          "base_uri": "https://localhost:8080/",
          "height": 72
        }
      },
      "source": [
        "arr"
      ],
      "execution_count": 0,
      "outputs": [
        {
          "output_type": "execute_result",
          "data": {
            "text/plain": [
              "array([[1., 2., 3.],\n",
              "       [4., 5., 6.]])"
            ]
          },
          "metadata": {
            "tags": []
          },
          "execution_count": 48
        }
      ]
    },
    {
      "cell_type": "markdown",
      "metadata": {
        "colab_type": "text",
        "id": "HA5q8o0ueCW1"
      },
      "source": [
        "As operações entre arrays de tamanhos distintos são chamadas de *broadcasting*. A forma mais simples de *broadcasting* acontece em operações entre arrays e escalares. As demais formas tem regras complicadas que não cabem em uma aula introdutória."
      ]
    },
    {
      "cell_type": "markdown",
      "metadata": {
        "colab_type": "text",
        "id": "3Xvk1mJZeCW1"
      },
      "source": [
        "## Quiz\n",
        "\n",
        "Considere a lista [[1,2,4],[4,5,6], [7,8,9]].\n",
        "- crie um array\n",
        "- eleve ao quadrado\n",
        "- multiplique o array por ele elevado ao quadrado\n",
        "- subtraia 10 do resultado"
      ]
    },
    {
      "cell_type": "code",
      "metadata": {
        "colab_type": "code",
        "id": "7sGGGq1qeCW2",
        "outputId": "f663204c-fe38-47a7-ece1-32ad46bbbaeb",
        "colab": {
          "base_uri": "https://localhost:8080/",
          "height": 194
        }
      },
      "source": [
        "#resposta\n",
        "arr = np.array([[1,2,4],[4,5,6], [7,8,9]])\n",
        "print(arr*arr)\n",
        "print(arr*(arr*arr))\n",
        "print(arr*(arr*arr)-10)"
      ],
      "execution_count": 0,
      "outputs": [
        {
          "output_type": "stream",
          "text": [
            "[[ 1  4 16]\n",
            " [16 25 36]\n",
            " [49 64 81]]\n",
            "[[  1   8  64]\n",
            " [ 64 125 216]\n",
            " [343 512 729]]\n",
            "[[ -9  -2  54]\n",
            " [ 54 115 206]\n",
            " [333 502 719]]\n"
          ],
          "name": "stdout"
        }
      ]
    },
    {
      "cell_type": "markdown",
      "metadata": {
        "colab_type": "text",
        "id": "9ofRPKsNeCW3"
      },
      "source": [
        "### Indexação básica e fatiamento\n",
        "\n",
        "Nos arrays unidimensionais a indexação/fatiamento se comportam como em uma lista."
      ]
    },
    {
      "cell_type": "code",
      "metadata": {
        "colab_type": "code",
        "id": "nDTZOGE8eCW3",
        "outputId": "6806343b-4448-4fb8-8de2-55874657cc7e",
        "colab": {
          "base_uri": "https://localhost:8080/",
          "height": 55
        }
      },
      "source": [
        "arr = np.arange(10)\n",
        "arr"
      ],
      "execution_count": 0,
      "outputs": [
        {
          "output_type": "execute_result",
          "data": {
            "text/plain": [
              "array([0, 1, 2, 3, 4, 5, 6, 7, 8, 9])"
            ]
          },
          "metadata": {
            "tags": []
          },
          "execution_count": 52
        }
      ]
    },
    {
      "cell_type": "code",
      "metadata": {
        "colab_type": "code",
        "id": "BR1PwMS8eCW4",
        "outputId": "aedc0b89-d452-4ba0-bf4c-672035a14ced",
        "colab": {
          "base_uri": "https://localhost:8080/",
          "height": 55
        }
      },
      "source": [
        "arr[5]"
      ],
      "execution_count": 0,
      "outputs": [
        {
          "output_type": "execute_result",
          "data": {
            "text/plain": [
              "5"
            ]
          },
          "metadata": {
            "tags": []
          },
          "execution_count": 53
        }
      ]
    },
    {
      "cell_type": "code",
      "metadata": {
        "colab_type": "code",
        "id": "bbKmibjyeCW6",
        "outputId": "70a46877-763a-4f42-ec74-45325e924542",
        "colab": {
          "base_uri": "https://localhost:8080/",
          "height": 55
        }
      },
      "source": [
        "arr[5:8]"
      ],
      "execution_count": 0,
      "outputs": [
        {
          "output_type": "execute_result",
          "data": {
            "text/plain": [
              "array([5, 6, 7])"
            ]
          },
          "metadata": {
            "tags": []
          },
          "execution_count": 54
        }
      ]
    },
    {
      "cell_type": "code",
      "metadata": {
        "colab_type": "code",
        "id": "zHSOLqtAeCW7",
        "outputId": "6b605851-02c0-4a56-d551-c83ebf148460",
        "colab": {
          "base_uri": "https://localhost:8080/",
          "height": 55
        }
      },
      "source": [
        "arr[5:8] = 12\n",
        "arr"
      ],
      "execution_count": 0,
      "outputs": [
        {
          "output_type": "execute_result",
          "data": {
            "text/plain": [
              "array([ 0,  1,  2,  3,  4, 12, 12, 12,  8,  9])"
            ]
          },
          "metadata": {
            "tags": []
          },
          "execution_count": 55
        }
      ]
    },
    {
      "cell_type": "markdown",
      "metadata": {
        "colab_type": "text",
        "id": "kN9VTjSweCW8"
      },
      "source": [
        "Se você atribuir um valor a uma fatia este será propagado (*broadcast*) a todos os elemento da fatia."
      ]
    },
    {
      "cell_type": "code",
      "metadata": {
        "colab_type": "code",
        "id": "PByGSej4eCW8",
        "outputId": "24e8d6c0-d3da-4429-b27e-f496507989af",
        "colab": {
          "base_uri": "https://localhost:8080/",
          "height": 55
        }
      },
      "source": [
        "arr_slice = arr[5:8]\n",
        "arr_slice"
      ],
      "execution_count": 0,
      "outputs": [
        {
          "output_type": "execute_result",
          "data": {
            "text/plain": [
              "array([12, 12, 12])"
            ]
          },
          "metadata": {
            "tags": []
          },
          "execution_count": 56
        }
      ]
    },
    {
      "cell_type": "markdown",
      "metadata": {
        "colab_type": "text",
        "id": "20FKSh4HeCW-"
      },
      "source": [
        "As fatias de arrays são visualizações (*views*). Uma alteração em uma fatia causa mudanças no array original."
      ]
    },
    {
      "cell_type": "code",
      "metadata": {
        "colab_type": "code",
        "id": "ZlYluo-aeCW-",
        "outputId": "aa173291-956b-4409-faf5-3ae44ef8a34d",
        "colab": {
          "base_uri": "https://localhost:8080/",
          "height": 72
        }
      },
      "source": [
        "arr_slice[1] = 12345\n",
        "arr"
      ],
      "execution_count": 0,
      "outputs": [
        {
          "output_type": "execute_result",
          "data": {
            "text/plain": [
              "array([    0,     1,     2,     3,     4,    12, 12345,    12,     8,\n",
              "           9])"
            ]
          },
          "metadata": {
            "tags": []
          },
          "execution_count": 57
        }
      ]
    },
    {
      "cell_type": "markdown",
      "metadata": {
        "colab_type": "text",
        "id": "kd6DayTEeCW_"
      },
      "source": [
        "A fatia \"nua\" fará a atribuição a todos os valores em um array."
      ]
    },
    {
      "cell_type": "code",
      "metadata": {
        "colab_type": "code",
        "id": "_yLxAb9heCW_",
        "outputId": "f494b3ce-ea8f-4bef-b18d-886de77f9db6",
        "colab": {
          "base_uri": "https://localhost:8080/",
          "height": 55
        }
      },
      "source": [
        "arr_slice[:] = 64\n",
        "arr"
      ],
      "execution_count": 0,
      "outputs": [
        {
          "output_type": "execute_result",
          "data": {
            "text/plain": [
              "array([ 0,  1,  2,  3,  4, 64, 64, 64,  8,  9])"
            ]
          },
          "metadata": {
            "tags": []
          },
          "execution_count": 58
        }
      ]
    },
    {
      "cell_type": "markdown",
      "metadata": {
        "colab_type": "text",
        "id": "6Ad_1Og6eCXB"
      },
      "source": [
        "Se você quiser uma cópia de uma fatia de um array use `arr[5:8].copy`"
      ]
    },
    {
      "cell_type": "markdown",
      "metadata": {
        "colab_type": "text",
        "id": "fxV1sjPteCXB"
      },
      "source": [
        "Com arrays de várias dimensões a indexação é diferente. Em um array bidimensional, por exemplo, os elementos em cada índice não são mais escalares, mas são arrays unidimensionais."
      ]
    },
    {
      "cell_type": "code",
      "metadata": {
        "colab_type": "code",
        "id": "UI6XQS6LeCXB",
        "outputId": "eebd738c-bdd9-49d2-8276-cf03d32c95bf",
        "colab": {
          "base_uri": "https://localhost:8080/",
          "height": 55
        }
      },
      "source": [
        "arr2d = np.array([[1, 2, 3], [4, 5, 6], [7, 8, 9]])\n",
        "arr2d[2]"
      ],
      "execution_count": 0,
      "outputs": [
        {
          "output_type": "execute_result",
          "data": {
            "text/plain": [
              "array([7, 8, 9])"
            ]
          },
          "metadata": {
            "tags": []
          },
          "execution_count": 59
        }
      ]
    },
    {
      "cell_type": "code",
      "metadata": {
        "colab_type": "code",
        "id": "vrlPR7sOeCXC",
        "outputId": "06e4fff0-9043-43e8-fb75-89059999db67",
        "colab": {
          "base_uri": "https://localhost:8080/",
          "height": 55
        }
      },
      "source": [
        "arr2d[2][0]"
      ],
      "execution_count": 0,
      "outputs": [
        {
          "output_type": "execute_result",
          "data": {
            "text/plain": [
              "7"
            ]
          },
          "metadata": {
            "tags": []
          },
          "execution_count": 60
        }
      ]
    },
    {
      "cell_type": "markdown",
      "metadata": {
        "colab_type": "text",
        "id": "AwmIlwDQeCXE"
      },
      "source": [
        "A notação abaixo é equivalente à de cima, mas bem mais simples."
      ]
    },
    {
      "cell_type": "code",
      "metadata": {
        "colab_type": "code",
        "id": "UfwloHSYeCXE",
        "outputId": "db29dd5f-69ed-4197-e9e4-3f2cea980ae3",
        "colab": {
          "base_uri": "https://localhost:8080/",
          "height": 55
        }
      },
      "source": [
        "arr2d[2, 0]"
      ],
      "execution_count": 0,
      "outputs": [
        {
          "output_type": "execute_result",
          "data": {
            "text/plain": [
              "7"
            ]
          },
          "metadata": {
            "tags": []
          },
          "execution_count": 61
        }
      ]
    },
    {
      "cell_type": "markdown",
      "metadata": {
        "colab_type": "text",
        "id": "DFJAavZdeCXF"
      },
      "source": [
        "Veja a figura, que representa uma ilustração de um array bidimensional. Pensar no eixo 0 (*axis 0*) como as linhas do array e no eixo 1 como as colunas ajuda na compreensão.\n",
        "\n",
        "![array.png](https://www.oreilly.com/library/view/python-for-data/9781449323592/httpatomoreillycomsourceoreillyimages2172112.png)"
      ]
    },
    {
      "cell_type": "markdown",
      "metadata": {
        "colab_type": "text",
        "id": "zysYEIKYeCXG"
      },
      "source": [
        "Em arrays multidimensionais, se você omitir os índices finais, o objeto retornado será um ndarray de dimensões menores, constituído de todos os dados das dimensões mais altas. Assim, no array arr3d 2 × 2 × 3"
      ]
    },
    {
      "cell_type": "code",
      "metadata": {
        "colab_type": "code",
        "id": "I3qtDzJ_eCXG",
        "outputId": "43cb3870-b527-424e-8e0f-0c29f14c7ff4",
        "colab": {
          "base_uri": "https://localhost:8080/",
          "height": 124
        }
      },
      "source": [
        "arr3d = np.array([[[1, 2, 3], [4, 5, 6]], [[7, 8, 9], [10, 11, 12]]])\n",
        "arr3d"
      ],
      "execution_count": 0,
      "outputs": [
        {
          "output_type": "execute_result",
          "data": {
            "text/plain": [
              "array([[[ 1,  2,  3],\n",
              "        [ 4,  5,  6]],\n",
              "\n",
              "       [[ 7,  8,  9],\n",
              "        [10, 11, 12]]])"
            ]
          },
          "metadata": {
            "tags": []
          },
          "execution_count": 62
        }
      ]
    },
    {
      "cell_type": "code",
      "metadata": {
        "id": "rOT3dkiiamLo",
        "colab_type": "code",
        "outputId": "7855bc12-e114-42d6-8754-325d08ed79a8",
        "colab": {
          "base_uri": "https://localhost:8080/",
          "height": 55
        }
      },
      "source": [
        "arr3d.shape"
      ],
      "execution_count": 0,
      "outputs": [
        {
          "output_type": "execute_result",
          "data": {
            "text/plain": [
              "(2, 2, 3)"
            ]
          },
          "metadata": {
            "tags": []
          },
          "execution_count": 65
        }
      ]
    },
    {
      "cell_type": "markdown",
      "metadata": {
        "colab_type": "text",
        "id": "hokjZVwleCXH"
      },
      "source": [
        "`arr3d[0]` é um array 2 x 3"
      ]
    },
    {
      "cell_type": "code",
      "metadata": {
        "colab_type": "code",
        "id": "kPDCx965eCXI",
        "outputId": "6a765c35-271b-43c0-9588-e50b228138f0",
        "colab": {
          "base_uri": "https://localhost:8080/",
          "height": 72
        }
      },
      "source": [
        "arr3d[0]"
      ],
      "execution_count": 0,
      "outputs": [
        {
          "output_type": "execute_result",
          "data": {
            "text/plain": [
              "array([[1, 2, 3],\n",
              "       [4, 5, 6]])"
            ]
          },
          "metadata": {
            "tags": []
          },
          "execution_count": 66
        }
      ]
    },
    {
      "cell_type": "markdown",
      "metadata": {
        "colab_type": "text",
        "id": "OFgxFXoVeCXJ"
      },
      "source": [
        "Tanto valores escalares quanto arrays podem ser atribuídos a arr3d[0]:"
      ]
    },
    {
      "cell_type": "code",
      "metadata": {
        "colab_type": "code",
        "id": "XTqpgXkeeCXJ",
        "outputId": "e727ffb8-cf94-4a94-cc2b-f97940742158",
        "colab": {
          "base_uri": "https://localhost:8080/",
          "height": 124
        }
      },
      "source": [
        "old_values = arr3d[0].copy()\n",
        "arr3d[0] = 42\n",
        "arr3d"
      ],
      "execution_count": 0,
      "outputs": [
        {
          "output_type": "execute_result",
          "data": {
            "text/plain": [
              "array([[[42, 42, 42],\n",
              "        [42, 42, 42]],\n",
              "\n",
              "       [[ 7,  8,  9],\n",
              "        [10, 11, 12]]])"
            ]
          },
          "metadata": {
            "tags": []
          },
          "execution_count": 67
        }
      ]
    },
    {
      "cell_type": "code",
      "metadata": {
        "colab_type": "code",
        "id": "Oclx-MjHeCXK",
        "outputId": "77cf7ef6-468e-48d4-bc58-71f49bc9fd6c",
        "colab": {
          "base_uri": "https://localhost:8080/",
          "height": 72
        }
      },
      "source": [
        "old_values"
      ],
      "execution_count": 0,
      "outputs": [
        {
          "output_type": "execute_result",
          "data": {
            "text/plain": [
              "array([[1, 2, 3],\n",
              "       [4, 5, 6]])"
            ]
          },
          "metadata": {
            "tags": []
          },
          "execution_count": 68
        }
      ]
    },
    {
      "cell_type": "code",
      "metadata": {
        "colab_type": "code",
        "id": "lDKFSIvAeCXM",
        "outputId": "e31b8871-2e49-4844-e953-e7f8f1f0735c",
        "colab": {
          "base_uri": "https://localhost:8080/",
          "height": 124
        }
      },
      "source": [
        "arr3d[0] = old_values\n",
        "arr3d"
      ],
      "execution_count": 0,
      "outputs": [
        {
          "output_type": "execute_result",
          "data": {
            "text/plain": [
              "array([[[ 1,  2,  3],\n",
              "        [ 4,  5,  6]],\n",
              "\n",
              "       [[ 7,  8,  9],\n",
              "        [10, 11, 12]]])"
            ]
          },
          "metadata": {
            "tags": []
          },
          "execution_count": 69
        }
      ]
    },
    {
      "cell_type": "markdown",
      "metadata": {
        "colab_type": "text",
        "id": "UXzmg433eCXN"
      },
      "source": [
        "Da mesma forma, arr3d[1, 0] fornece todos os valores cujos índices começam com (1, 0), formando um array unidimensional:"
      ]
    },
    {
      "cell_type": "code",
      "metadata": {
        "colab_type": "code",
        "id": "PwST5JvreCXN",
        "outputId": "b69b7304-903a-4553-e98c-830c08881617",
        "colab": {
          "base_uri": "https://localhost:8080/",
          "height": 55
        }
      },
      "source": [
        "arr3d[1, 0]"
      ],
      "execution_count": 0,
      "outputs": [
        {
          "output_type": "execute_result",
          "data": {
            "text/plain": [
              "array([7, 8, 9])"
            ]
          },
          "metadata": {
            "tags": []
          },
          "execution_count": 70
        }
      ]
    },
    {
      "cell_type": "markdown",
      "metadata": {
        "colab_type": "text",
        "id": "a4kCnVh-eCXO"
      },
      "source": [
        "Essa expressão é equivalente a uma indexação em dois passos:"
      ]
    },
    {
      "cell_type": "code",
      "metadata": {
        "colab_type": "code",
        "id": "f6ZaXg2meCXQ",
        "outputId": "9c1901a3-12f6-49bf-8153-138e90bf5265",
        "colab": {
          "base_uri": "https://localhost:8080/",
          "height": 72
        }
      },
      "source": [
        "x = arr3d[1]\n",
        "x"
      ],
      "execution_count": 0,
      "outputs": [
        {
          "output_type": "execute_result",
          "data": {
            "text/plain": [
              "array([[ 7,  8,  9],\n",
              "       [10, 11, 12]])"
            ]
          },
          "metadata": {
            "tags": []
          },
          "execution_count": 71
        }
      ]
    },
    {
      "cell_type": "code",
      "metadata": {
        "colab_type": "code",
        "id": "wbgdJKq5eCXS",
        "outputId": "3c171bf8-78ec-4a72-a3de-5b6d2e5ea3ba",
        "colab": {
          "base_uri": "https://localhost:8080/",
          "height": 55
        }
      },
      "source": [
        "x[0]"
      ],
      "execution_count": 0,
      "outputs": [
        {
          "output_type": "execute_result",
          "data": {
            "text/plain": [
              "array([7, 8, 9])"
            ]
          },
          "metadata": {
            "tags": []
          },
          "execution_count": 72
        }
      ]
    },
    {
      "cell_type": "markdown",
      "metadata": {
        "colab_type": "text",
        "id": "qowkSJofeCXT"
      },
      "source": [
        "## Quizz\n",
        "\n",
        "- crie um vetor 3 x 3 com uma sequência de números\n",
        "- retorne a primeira linha\n",
        "- retorne os dois últimos elementos das duas últimas linhas\n",
        "- retorne a primeira coluna\n",
        "- preencha a segunda linha com 0s\n",
        "- preencha a segunda coluna com 1s"
      ]
    },
    {
      "cell_type": "code",
      "metadata": {
        "colab_type": "code",
        "id": "3X9nCZd1eCXT",
        "outputId": "7c5c145b-2548-4cb8-b643-46e7b2bf788c",
        "colab": {
          "base_uri": "https://localhost:8080/",
          "height": 402
        }
      },
      "source": [
        "#resposta\n",
        "arr = np.array([[1,2,3],[4,5,6],[7,8,9]])\n",
        "print(arr)\n",
        "print(arr.shape)\n",
        "print('*'*20)\n",
        "print(arr[0])\n",
        "print('*'*20)\n",
        "print(arr[1:,1:])\n",
        "print('*'*20)\n",
        "print(arr[:,0:1])\n",
        "print('*'*20)\n",
        "arr[1]=0\n",
        "print(arr)\n",
        "print('*'*20)\n",
        "arr[:,1]=0\n",
        "print(arr)"
      ],
      "execution_count": 0,
      "outputs": [
        {
          "output_type": "stream",
          "text": [
            "[[1 2 3]\n",
            " [4 5 6]\n",
            " [7 8 9]]\n",
            "(3, 3)\n",
            "********************\n",
            "[1 2 3]\n",
            "********************\n",
            "[[5 6]\n",
            " [8 9]]\n",
            "********************\n",
            "[[1]\n",
            " [4]\n",
            " [7]]\n",
            "********************\n",
            "[[1 2 3]\n",
            " [0 0 0]\n",
            " [7 8 9]]\n",
            "********************\n",
            "[[1 0 3]\n",
            " [0 0 0]\n",
            " [7 0 9]]\n"
          ],
          "name": "stdout"
        }
      ]
    },
    {
      "cell_type": "markdown",
      "metadata": {
        "colab_type": "text",
        "id": "zYde6IvzeCXV"
      },
      "source": [
        "#### Indexando com fatias\n",
        "Assim como objetos unidimensionais, como listas Python, os ndarrays podem ser fatiados usando a sintaxe conhecida:"
      ]
    },
    {
      "cell_type": "code",
      "metadata": {
        "colab_type": "code",
        "id": "ZmopwfkueCXV",
        "outputId": "675e314a-59c7-40a4-8920-3677a76c9e5c",
        "colab": {
          "base_uri": "https://localhost:8080/",
          "height": 90
        }
      },
      "source": [
        "arr"
      ],
      "execution_count": 0,
      "outputs": [
        {
          "output_type": "execute_result",
          "data": {
            "text/plain": [
              "array([[1, 0, 3],\n",
              "       [0, 0, 0],\n",
              "       [7, 0, 9]])"
            ]
          },
          "metadata": {
            "tags": []
          },
          "execution_count": 93
        }
      ]
    },
    {
      "cell_type": "code",
      "metadata": {
        "colab_type": "code",
        "id": "E0Bph-cDeCXq",
        "outputId": "bfb66e24-00b3-4d17-e2ce-bead63f0d85e",
        "colab": {
          "base_uri": "https://localhost:8080/",
          "height": 72
        }
      },
      "source": [
        "arr[1:6]"
      ],
      "execution_count": 0,
      "outputs": [
        {
          "output_type": "execute_result",
          "data": {
            "text/plain": [
              "array([[0, 0, 0],\n",
              "       [7, 0, 9]])"
            ]
          },
          "metadata": {
            "tags": []
          },
          "execution_count": 100
        }
      ]
    },
    {
      "cell_type": "markdown",
      "metadata": {
        "colab_type": "text",
        "id": "CbhI62PReCXs"
      },
      "source": [
        "Objetos multidimensionais oferecem mais opções, pois você pode fatiar um ou mais eixos e também misturar números inteiros. Considere o array 2D acima, arr2d. Fatiar esse array é um pouco diferente:"
      ]
    },
    {
      "cell_type": "code",
      "metadata": {
        "colab_type": "code",
        "id": "6XPSFEiOeCXs",
        "outputId": "32ab3e6f-a8e2-49c1-bc78-a79f67c823c4",
        "colab": {
          "base_uri": "https://localhost:8080/",
          "height": 90
        }
      },
      "source": [
        "arr2d"
      ],
      "execution_count": 0,
      "outputs": [
        {
          "output_type": "execute_result",
          "data": {
            "text/plain": [
              "array([[1, 2, 3],\n",
              "       [4, 5, 6],\n",
              "       [7, 8, 9]])"
            ]
          },
          "metadata": {
            "tags": []
          },
          "execution_count": 101
        }
      ]
    },
    {
      "cell_type": "code",
      "metadata": {
        "colab_type": "code",
        "id": "KDlY1nQdeCXt",
        "outputId": "10a76738-b94b-442d-be65-c1d1efde47dd",
        "colab": {
          "base_uri": "https://localhost:8080/",
          "height": 72
        }
      },
      "source": [
        "arr2d[:2]"
      ],
      "execution_count": 0,
      "outputs": [
        {
          "output_type": "execute_result",
          "data": {
            "text/plain": [
              "array([[1, 2, 3],\n",
              "       [4, 5, 6]])"
            ]
          },
          "metadata": {
            "tags": []
          },
          "execution_count": 102
        }
      ]
    },
    {
      "cell_type": "markdown",
      "metadata": {
        "colab_type": "text",
        "id": "qYQupe7AeCXu"
      },
      "source": [
        "Como você pode ver, ele cortou ao longo do eixo 0, o primeiro eixo. Uma fatia, portanto, seleciona um intervalo de elementos ao longo de um eixo. Você pode passar várias fatias, assim como você pode passar vários índices:"
      ]
    },
    {
      "cell_type": "code",
      "metadata": {
        "colab_type": "code",
        "id": "28pl9HjweCXv",
        "outputId": "f2494729-0022-4cf0-8b12-8700315f8b9b",
        "colab": {
          "base_uri": "https://localhost:8080/",
          "height": 72
        }
      },
      "source": [
        "arr2d[:2, 1:]"
      ],
      "execution_count": 0,
      "outputs": [
        {
          "output_type": "execute_result",
          "data": {
            "text/plain": [
              "array([[2, 3],\n",
              "       [5, 6]])"
            ]
          },
          "metadata": {
            "tags": []
          },
          "execution_count": 103
        }
      ]
    },
    {
      "cell_type": "markdown",
      "metadata": {
        "colab_type": "text",
        "id": "Mwlfc9VmeCXw"
      },
      "source": [
        "Ao fatiar dessa maneira, você sempre obtém visualizações do array com o mesmo número de dimensões. Ao misturar índices inteiros e fatias, você obtém fatias de dimensões menores.\n",
        "\n",
        "Por exemplo, podemos selecionar a segunda linha, mas somente as duas primeiras colunas, assim:"
      ]
    },
    {
      "cell_type": "code",
      "metadata": {
        "colab_type": "code",
        "id": "Lh_Yk1KPeCXw",
        "outputId": "aef3cdeb-5ee2-46b3-f254-3c192485f1d4",
        "colab": {
          "base_uri": "https://localhost:8080/",
          "height": 55
        }
      },
      "source": [
        "arr2d[1, :2]"
      ],
      "execution_count": 0,
      "outputs": [
        {
          "output_type": "execute_result",
          "data": {
            "text/plain": [
              "array([4, 5])"
            ]
          },
          "metadata": {
            "tags": []
          },
          "execution_count": 104
        }
      ]
    },
    {
      "cell_type": "markdown",
      "metadata": {
        "colab_type": "text",
        "id": "f0JejoJaeCXx"
      },
      "source": [
        "De modo semelhante, podemos selecionar a terceira coluna, mas somente as duas primeiras linhas, da seguinte maneira:"
      ]
    },
    {
      "cell_type": "code",
      "metadata": {
        "colab_type": "code",
        "id": "ItnhXgGMeCXx",
        "outputId": "1673bc38-abee-43e6-9d33-49ec1e290dfa",
        "colab": {
          "base_uri": "https://localhost:8080/",
          "height": 55
        }
      },
      "source": [
        "arr2d[:2, 2]"
      ],
      "execution_count": 0,
      "outputs": [
        {
          "output_type": "execute_result",
          "data": {
            "text/plain": [
              "array([3, 6])"
            ]
          },
          "metadata": {
            "tags": []
          },
          "execution_count": 105
        }
      ]
    },
    {
      "cell_type": "markdown",
      "metadata": {
        "colab_type": "text",
        "id": "9-waK-f7eCXy"
      },
      "source": [
        "Os dois-pontos sozinhos significam que todo o eixo deve ser considerado, portanto podemos fatiar somente os eixos de dimensões mais altas fazendo o seguinte:"
      ]
    },
    {
      "cell_type": "code",
      "metadata": {
        "colab_type": "code",
        "id": "c7OhRvnNeCXz",
        "outputId": "5453dceb-3278-4b07-e78e-167d0d405ca5",
        "colab": {
          "base_uri": "https://localhost:8080/",
          "height": 90
        }
      },
      "source": [
        "arr2d[:, :1]"
      ],
      "execution_count": 0,
      "outputs": [
        {
          "output_type": "execute_result",
          "data": {
            "text/plain": [
              "array([[1],\n",
              "       [4],\n",
              "       [7]])"
            ]
          },
          "metadata": {
            "tags": []
          },
          "execution_count": 106
        }
      ]
    },
    {
      "cell_type": "markdown",
      "metadata": {
        "colab_type": "text",
        "id": "aggpgRBceCX0"
      },
      "source": [
        "Lembrando que uma atribuição a uma fatia faz a atribuição para toda a seleção."
      ]
    },
    {
      "cell_type": "code",
      "metadata": {
        "colab_type": "code",
        "id": "PyZx3FM-eCX0",
        "outputId": "8d45065f-b0d6-4547-88b0-fcba71704837",
        "colab": {
          "base_uri": "https://localhost:8080/",
          "height": 90
        }
      },
      "source": [
        "arr2d[:2, 1:] = 0\n",
        "arr2d"
      ],
      "execution_count": 0,
      "outputs": [
        {
          "output_type": "execute_result",
          "data": {
            "text/plain": [
              "array([[1, 0, 0],\n",
              "       [4, 0, 0],\n",
              "       [7, 8, 9]])"
            ]
          },
          "metadata": {
            "tags": []
          },
          "execution_count": 107
        }
      ]
    },
    {
      "cell_type": "markdown",
      "metadata": {
        "colab_type": "text",
        "id": "zpIYmNnneCX1"
      },
      "source": [
        "Fatiamento de arrays bidimensionais\n",
        "\n",
        "![array2dslicing.png](https://i0.wp.com/www.datasciencelearner.com/wp-content/uploads/2019/01/indexing-and-slicing-of-arrays.png?w=762&ssl=1)"
      ]
    },
    {
      "cell_type": "code",
      "metadata": {
        "colab_type": "code",
        "id": "si-EOclwa7ZO",
        "outputId": "1139ebdb-2b9f-4ffc-8003-f858ddb84012",
        "colab": {
          "base_uri": "https://localhost:8080/",
          "height": 107
        }
      },
      "source": [
        "vet2d = np.array([[1,2,3],[4,5,6],[7,8,9]])\n",
        "vet2d\n",
        "vet1 = vet2d[1,:2]\n",
        "print(vet1)\n",
        "print(vet1.shape, vet1.ndim)\n",
        "vet2 = vet2d[1:2,:2]\n",
        "print(vet2)\n",
        "print(vet2.shape, vet2.ndim)"
      ],
      "execution_count": 0,
      "outputs": [
        {
          "output_type": "stream",
          "text": [
            "[4 5]\n",
            "(2,) 1\n",
            "[[4 5]]\n",
            "(1, 2) 2\n"
          ],
          "name": "stdout"
        }
      ]
    },
    {
      "cell_type": "markdown",
      "metadata": {
        "colab_type": "text",
        "id": "YfYyy8j4eCX2"
      },
      "source": [
        "### Indexação booleana\n",
        "Vamos considerar um exemplo em que temos alguns dados em uma matriz e uma matriz de nomes com duplicatas. Vamos usar aqui a função `randn` de `numpy.random` para gerar alguns dados aleatórios normalmente distribuídos:"
      ]
    },
    {
      "cell_type": "code",
      "metadata": {
        "colab_type": "code",
        "id": "mrWhNnUMeCX2",
        "outputId": "899aee32-1962-48d3-bd5e-fbf0f097e9e1",
        "colab": {
          "base_uri": "https://localhost:8080/",
          "height": 194
        }
      },
      "source": [
        "names = np.array(['Bob', 'Joe', 'Will', 'Bob', 'Will', 'Joe', 'Joe'])\n",
        "data = np.random.randn(7, 4)\n",
        "print(names)\n",
        "print(data)\n",
        "print(names.shape, data.shape)"
      ],
      "execution_count": 0,
      "outputs": [
        {
          "output_type": "stream",
          "text": [
            "['Bob' 'Joe' 'Will' 'Bob' 'Will' 'Joe' 'Joe']\n",
            "[[-0.24229548 -0.2847955  -1.46822111  1.14723597]\n",
            " [-0.0254337   1.03546829  1.47268461 -0.26593826]\n",
            " [ 0.57737328  0.62983271 -0.01677848  1.60066803]\n",
            " [ 1.76092805 -0.49834368  0.29147474  0.38161155]\n",
            " [ 0.72130264  1.36782545  1.05296219 -1.04946361]\n",
            " [ 0.1801808  -1.04915684 -0.99661051 -0.87112266]\n",
            " [-0.52467672  0.20989908 -0.40486191  0.09482471]]\n",
            "(7,) (7, 4)\n"
          ],
          "name": "stdout"
        }
      ]
    },
    {
      "cell_type": "markdown",
      "metadata": {
        "colab_type": "text",
        "id": "jbUNKiJzeCX3"
      },
      "source": [
        "Suponha que cada nome corresponda a uma linha no array de dados e que desejássemos selecionar todas as linhas com o nome correspondente 'Bob'. Como operações aritméticas, comparações (como ==) com array também são vetorizadas. Assim, comparar nomes com a string 'Bob' gera um array booleano:"
      ]
    },
    {
      "cell_type": "code",
      "metadata": {
        "colab_type": "code",
        "id": "Hd2pfkcFeCX3",
        "outputId": "87778164-49b7-4ca6-c773-c5f27ae46174",
        "colab": {
          "base_uri": "https://localhost:8080/",
          "height": 55
        }
      },
      "source": [
        "names == 'Bob'"
      ],
      "execution_count": 0,
      "outputs": [
        {
          "output_type": "execute_result",
          "data": {
            "text/plain": [
              "array([ True, False, False,  True, False, False, False])"
            ]
          },
          "metadata": {
            "tags": []
          },
          "execution_count": 111
        }
      ]
    },
    {
      "cell_type": "markdown",
      "metadata": {
        "colab_type": "text",
        "id": "tdQTM8eFeCX4"
      },
      "source": [
        "Esse array booleano pode ser passado quando o array é indexado:"
      ]
    },
    {
      "cell_type": "code",
      "metadata": {
        "colab_type": "code",
        "id": "xM2Q8h-9eCX4",
        "outputId": "2c9ca5c7-be55-45c0-a88c-22a27de8415e",
        "colab": {
          "base_uri": "https://localhost:8080/",
          "height": 72
        }
      },
      "source": [
        "data[names == 'Bob']"
      ],
      "execution_count": 0,
      "outputs": [
        {
          "output_type": "execute_result",
          "data": {
            "text/plain": [
              "array([[-0.24229548, -0.2847955 , -1.46822111,  1.14723597],\n",
              "       [ 1.76092805, -0.49834368,  0.29147474,  0.38161155]])"
            ]
          },
          "metadata": {
            "tags": []
          },
          "execution_count": 112
        }
      ]
    },
    {
      "cell_type": "markdown",
      "metadata": {
        "colab_type": "text",
        "id": "hvwOZtVieCX5"
      },
      "source": [
        "O array booleano deve ter o mesmo comprimento que o eixo que está indexando. Você pode até misturar e combinar arrays booleanos com fatias ou números inteiros"
      ]
    },
    {
      "cell_type": "code",
      "metadata": {
        "colab_type": "code",
        "id": "zWOVizomeCX6",
        "outputId": "6fa18473-2e64-4cfb-97d8-62691a710c8f",
        "colab": {
          "base_uri": "https://localhost:8080/",
          "height": 72
        }
      },
      "source": [
        "data[names == 'Bob', 2:]"
      ],
      "execution_count": 0,
      "outputs": [
        {
          "output_type": "execute_result",
          "data": {
            "text/plain": [
              "array([[-1.46822111,  1.14723597],\n",
              "       [ 0.29147474,  0.38161155]])"
            ]
          },
          "metadata": {
            "tags": []
          },
          "execution_count": 113
        }
      ]
    },
    {
      "cell_type": "code",
      "metadata": {
        "colab_type": "code",
        "id": "sTKNUQIzeCX7",
        "outputId": "9612aa51-0141-412f-d871-4b20be00aebf",
        "colab": {
          "base_uri": "https://localhost:8080/",
          "height": 55
        }
      },
      "source": [
        "data[names == 'Bob', 3]"
      ],
      "execution_count": 0,
      "outputs": [
        {
          "output_type": "execute_result",
          "data": {
            "text/plain": [
              "array([1.14723597, 0.38161155])"
            ]
          },
          "metadata": {
            "tags": []
          },
          "execution_count": 114
        }
      ]
    },
    {
      "cell_type": "markdown",
      "metadata": {
        "colab_type": "text",
        "id": "AKM5OFJmeCX8"
      },
      "source": [
        "Abaixo, selecionando tudo exceto Bob."
      ]
    },
    {
      "cell_type": "code",
      "metadata": {
        "colab_type": "code",
        "id": "cK811dcZeCX8",
        "outputId": "ed7ad71f-2b3d-4068-d515-fe999c0a9873",
        "colab": {
          "base_uri": "https://localhost:8080/",
          "height": 55
        }
      },
      "source": [
        "names != 'Bob'"
      ],
      "execution_count": 0,
      "outputs": [
        {
          "output_type": "execute_result",
          "data": {
            "text/plain": [
              "array([False,  True,  True, False,  True,  True,  True])"
            ]
          },
          "metadata": {
            "tags": []
          },
          "execution_count": 115
        }
      ]
    },
    {
      "cell_type": "markdown",
      "metadata": {
        "colab_type": "text",
        "id": "lu34DlHKeCX9"
      },
      "source": [
        "O operador `~` é o operador lógico de negação em NumPy"
      ]
    },
    {
      "cell_type": "code",
      "metadata": {
        "colab_type": "code",
        "id": "W0Bszgq4eCX-",
        "outputId": "fae7caa3-d014-4dea-de04-f7e76f4107a7",
        "colab": {
          "base_uri": "https://localhost:8080/",
          "height": 124
        }
      },
      "source": [
        "data[~(names == 'Bob')]"
      ],
      "execution_count": 0,
      "outputs": [
        {
          "output_type": "execute_result",
          "data": {
            "text/plain": [
              "array([[-0.0254337 ,  1.03546829,  1.47268461, -0.26593826],\n",
              "       [ 0.57737328,  0.62983271, -0.01677848,  1.60066803],\n",
              "       [ 0.72130264,  1.36782545,  1.05296219, -1.04946361],\n",
              "       [ 0.1801808 , -1.04915684, -0.99661051, -0.87112266],\n",
              "       [-0.52467672,  0.20989908, -0.40486191,  0.09482471]])"
            ]
          },
          "metadata": {
            "tags": []
          },
          "execution_count": 116
        }
      ]
    },
    {
      "cell_type": "code",
      "metadata": {
        "colab_type": "code",
        "id": "V8HwWIvBeCX_",
        "outputId": "185113a1-3ae7-4521-dcab-967793a35e80",
        "colab": {
          "base_uri": "https://localhost:8080/",
          "height": 142
        }
      },
      "source": [
        "cond = names == 'Bob'\n",
        "print(cond)\n",
        "data[~cond]"
      ],
      "execution_count": 0,
      "outputs": [
        {
          "output_type": "stream",
          "text": [
            "[ True False False  True False False False]\n"
          ],
          "name": "stdout"
        },
        {
          "output_type": "execute_result",
          "data": {
            "text/plain": [
              "array([[-0.0254337 ,  1.03546829,  1.47268461, -0.26593826],\n",
              "       [ 0.57737328,  0.62983271, -0.01677848,  1.60066803],\n",
              "       [ 0.72130264,  1.36782545,  1.05296219, -1.04946361],\n",
              "       [ 0.1801808 , -1.04915684, -0.99661051, -0.87112266],\n",
              "       [-0.52467672,  0.20989908, -0.40486191,  0.09482471]])"
            ]
          },
          "metadata": {
            "tags": []
          },
          "execution_count": 117
        }
      ]
    },
    {
      "cell_type": "markdown",
      "metadata": {
        "colab_type": "text",
        "id": "u2IA5kY4eCYA"
      },
      "source": [
        "Você também pode usar os operadores lógicos `&` (e) e `|` (ou)."
      ]
    },
    {
      "cell_type": "code",
      "metadata": {
        "colab_type": "code",
        "id": "YhQtt-9leCYB",
        "outputId": "d183b531-7518-4493-89ae-0956292c573e",
        "colab": {
          "base_uri": "https://localhost:8080/",
          "height": 55
        }
      },
      "source": [
        "mask = (names == 'Bob') | (names == 'Will')\n",
        "mask"
      ],
      "execution_count": 0,
      "outputs": [
        {
          "output_type": "execute_result",
          "data": {
            "text/plain": [
              "array([ True, False,  True,  True,  True, False, False])"
            ]
          },
          "metadata": {
            "tags": []
          },
          "execution_count": 118
        }
      ]
    },
    {
      "cell_type": "code",
      "metadata": {
        "colab_type": "code",
        "id": "l_B3ZM_reCYC",
        "outputId": "2c068510-391e-4bfd-8c70-7017089e651a",
        "colab": {
          "base_uri": "https://localhost:8080/",
          "height": 107
        }
      },
      "source": [
        "data[mask]"
      ],
      "execution_count": 0,
      "outputs": [
        {
          "output_type": "execute_result",
          "data": {
            "text/plain": [
              "array([[-0.24229548, -0.2847955 , -1.46822111,  1.14723597],\n",
              "       [ 0.57737328,  0.62983271, -0.01677848,  1.60066803],\n",
              "       [ 1.76092805, -0.49834368,  0.29147474,  0.38161155],\n",
              "       [ 0.72130264,  1.36782545,  1.05296219, -1.04946361]])"
            ]
          },
          "metadata": {
            "tags": []
          },
          "execution_count": 119
        }
      ]
    },
    {
      "cell_type": "code",
      "metadata": {
        "colab_type": "code",
        "id": "b7jl2QioglUV",
        "outputId": "ccb383c9-9885-444e-ddd6-ac818b925bb2",
        "colab": {
          "base_uri": "https://localhost:8080/",
          "height": 159
        }
      },
      "source": [
        "data"
      ],
      "execution_count": 0,
      "outputs": [
        {
          "output_type": "execute_result",
          "data": {
            "text/plain": [
              "array([[-0.24229548, -0.2847955 , -1.46822111,  1.14723597],\n",
              "       [-0.0254337 ,  1.03546829,  1.47268461, -0.26593826],\n",
              "       [ 0.57737328,  0.62983271, -0.01677848,  1.60066803],\n",
              "       [ 1.76092805, -0.49834368,  0.29147474,  0.38161155],\n",
              "       [ 0.72130264,  1.36782545,  1.05296219, -1.04946361],\n",
              "       [ 0.1801808 , -1.04915684, -0.99661051, -0.87112266],\n",
              "       [-0.52467672,  0.20989908, -0.40486191,  0.09482471]])"
            ]
          },
          "metadata": {
            "tags": []
          },
          "execution_count": 120
        }
      ]
    },
    {
      "cell_type": "markdown",
      "metadata": {
        "colab_type": "text",
        "id": "zYK01nFLeCYD"
      },
      "source": [
        "Selecionar dados de um array com indexação booleana **sempre** cria uma cópia dos dados."
      ]
    },
    {
      "cell_type": "code",
      "metadata": {
        "colab_type": "code",
        "id": "o4FB3UOpeCYD",
        "outputId": "06c01546-4eba-4555-dd41-7ac586a9adcb",
        "colab": {
          "base_uri": "https://localhost:8080/",
          "height": 159
        }
      },
      "source": [
        "data[data < 0] = 0\n",
        "data"
      ],
      "execution_count": 0,
      "outputs": [
        {
          "output_type": "execute_result",
          "data": {
            "text/plain": [
              "array([[0.        , 0.        , 0.        , 1.14723597],\n",
              "       [0.        , 1.03546829, 1.47268461, 0.        ],\n",
              "       [0.57737328, 0.62983271, 0.        , 1.60066803],\n",
              "       [1.76092805, 0.        , 0.29147474, 0.38161155],\n",
              "       [0.72130264, 1.36782545, 1.05296219, 0.        ],\n",
              "       [0.1801808 , 0.        , 0.        , 0.        ],\n",
              "       [0.        , 0.20989908, 0.        , 0.09482471]])"
            ]
          },
          "metadata": {
            "tags": []
          },
          "execution_count": 121
        }
      ]
    },
    {
      "cell_type": "code",
      "metadata": {
        "colab_type": "code",
        "id": "tBtFluVqeCYE",
        "outputId": "c2b9e521-4b2b-49a9-bedd-b9cca6351826",
        "colab": {
          "base_uri": "https://localhost:8080/",
          "height": 159
        }
      },
      "source": [
        "data[names != 'Joe'] = 7\n",
        "data"
      ],
      "execution_count": 0,
      "outputs": [
        {
          "output_type": "execute_result",
          "data": {
            "text/plain": [
              "array([[7.        , 7.        , 7.        , 7.        ],\n",
              "       [0.        , 1.03546829, 1.47268461, 0.        ],\n",
              "       [7.        , 7.        , 7.        , 7.        ],\n",
              "       [7.        , 7.        , 7.        , 7.        ],\n",
              "       [7.        , 7.        , 7.        , 7.        ],\n",
              "       [0.1801808 , 0.        , 0.        , 0.        ],\n",
              "       [0.        , 0.20989908, 0.        , 0.09482471]])"
            ]
          },
          "metadata": {
            "tags": []
          },
          "execution_count": 122
        }
      ]
    },
    {
      "cell_type": "markdown",
      "metadata": {
        "colab_type": "text",
        "id": "ApNLDGpleCYF"
      },
      "source": [
        "## Quizz\n",
        "\n",
        "- crie um array 3 x 3 com números aleatórios\n",
        "- encontre o número do meio (linha 1 e coluna 1)\n",
        "- retorne um array unidimensional com todos os números menores que o do meio"
      ]
    },
    {
      "cell_type": "code",
      "metadata": {
        "colab_type": "code",
        "id": "3_g2lDCaeCYF",
        "colab": {}
      },
      "source": [
        "#resposta"
      ],
      "execution_count": 0,
      "outputs": []
    },
    {
      "cell_type": "markdown",
      "metadata": {
        "colab_type": "text",
        "id": "DYgItiSReCYG"
      },
      "source": [
        "### Indexação sofisticada\n",
        "\n",
        "A inedexação sofisticada (*fancy*) sempre cria cópia dos dados."
      ]
    },
    {
      "cell_type": "code",
      "metadata": {
        "colab_type": "code",
        "id": "eEnH0kIUeCYH",
        "outputId": "4d673eb0-b7b3-431a-ba16-0239684de14d",
        "colab": {
          "base_uri": "https://localhost:8080/",
          "height": 176
        }
      },
      "source": [
        "arr = np.empty((8, 4))\n",
        "for i in range(8):\n",
        "    arr[i] = i\n",
        "arr"
      ],
      "execution_count": 0,
      "outputs": [
        {
          "output_type": "execute_result",
          "data": {
            "text/plain": [
              "array([[0., 0., 0., 0.],\n",
              "       [1., 1., 1., 1.],\n",
              "       [2., 2., 2., 2.],\n",
              "       [3., 3., 3., 3.],\n",
              "       [4., 4., 4., 4.],\n",
              "       [5., 5., 5., 5.],\n",
              "       [6., 6., 6., 6.],\n",
              "       [7., 7., 7., 7.]])"
            ]
          },
          "metadata": {
            "tags": []
          },
          "execution_count": 123
        }
      ]
    },
    {
      "cell_type": "code",
      "metadata": {
        "colab_type": "code",
        "id": "9nsFzYyPeCYI",
        "outputId": "54c941a6-bf0a-440a-a462-fc55839e4060",
        "colab": {
          "base_uri": "https://localhost:8080/",
          "height": 107
        }
      },
      "source": [
        "# selecionando linhas em ordem determinada\n",
        "arr[[4, 3, 0, 6]]"
      ],
      "execution_count": 0,
      "outputs": [
        {
          "output_type": "execute_result",
          "data": {
            "text/plain": [
              "array([[4., 4., 4., 4.],\n",
              "       [3., 3., 3., 3.],\n",
              "       [0., 0., 0., 0.],\n",
              "       [6., 6., 6., 6.]])"
            ]
          },
          "metadata": {
            "tags": []
          },
          "execution_count": 124
        }
      ]
    },
    {
      "cell_type": "code",
      "metadata": {
        "colab_type": "code",
        "id": "ZOVZb3TLeCYJ",
        "outputId": "008aa057-5cd8-40ce-d5db-d0b922c6fea7",
        "colab": {
          "base_uri": "https://localhost:8080/",
          "height": 90
        }
      },
      "source": [
        "# parecido, mas de trás para frente\n",
        "arr[[-3, -5, -7]]"
      ],
      "execution_count": 0,
      "outputs": [
        {
          "output_type": "execute_result",
          "data": {
            "text/plain": [
              "array([[5., 5., 5., 5.],\n",
              "       [3., 3., 3., 3.],\n",
              "       [1., 1., 1., 1.]])"
            ]
          },
          "metadata": {
            "tags": []
          },
          "execution_count": 125
        }
      ]
    },
    {
      "cell_type": "code",
      "metadata": {
        "colab_type": "code",
        "id": "uhcC5u1keCYK",
        "outputId": "aa1e328a-6032-4f6b-aa35-2dcd3a091d60",
        "colab": {
          "base_uri": "https://localhost:8080/",
          "height": 72
        }
      },
      "source": [
        "np.arange(32)"
      ],
      "execution_count": 0,
      "outputs": [
        {
          "output_type": "execute_result",
          "data": {
            "text/plain": [
              "array([ 0,  1,  2,  3,  4,  5,  6,  7,  8,  9, 10, 11, 12, 13, 14, 15, 16,\n",
              "       17, 18, 19, 20, 21, 22, 23, 24, 25, 26, 27, 28, 29, 30, 31])"
            ]
          },
          "metadata": {
            "tags": []
          },
          "execution_count": 126
        }
      ]
    },
    {
      "cell_type": "markdown",
      "metadata": {
        "colab_type": "text",
        "id": "Az3aJR4XeCYK"
      },
      "source": [
        "O método `reshape` muda as dimensões do array."
      ]
    },
    {
      "cell_type": "code",
      "metadata": {
        "colab_type": "code",
        "id": "oB2rkSdLeCYL",
        "outputId": "2d14d94a-12ec-450c-fca1-59604d8b118c",
        "colab": {
          "base_uri": "https://localhost:8080/",
          "height": 176
        }
      },
      "source": [
        "arr = np.arange(32).reshape((8, 4))\n",
        "arr"
      ],
      "execution_count": 0,
      "outputs": [
        {
          "output_type": "execute_result",
          "data": {
            "text/plain": [
              "array([[ 0,  1,  2,  3],\n",
              "       [ 4,  5,  6,  7],\n",
              "       [ 8,  9, 10, 11],\n",
              "       [12, 13, 14, 15],\n",
              "       [16, 17, 18, 19],\n",
              "       [20, 21, 22, 23],\n",
              "       [24, 25, 26, 27],\n",
              "       [28, 29, 30, 31]])"
            ]
          },
          "metadata": {
            "tags": []
          },
          "execution_count": 134
        }
      ]
    },
    {
      "cell_type": "code",
      "metadata": {
        "colab_type": "code",
        "id": "VMXm8KyfeCYM",
        "outputId": "4e0cef1a-3284-4220-9754-ff8317f44e1f",
        "colab": {
          "base_uri": "https://localhost:8080/",
          "height": 55
        }
      },
      "source": [
        "arr[[1, 5, 7, 2], [0, 3, 1, 2]]"
      ],
      "execution_count": 0,
      "outputs": [
        {
          "output_type": "execute_result",
          "data": {
            "text/plain": [
              "array([ 4, 23, 29, 10])"
            ]
          },
          "metadata": {
            "tags": []
          },
          "execution_count": 135
        }
      ]
    },
    {
      "cell_type": "markdown",
      "metadata": {
        "colab_type": "text",
        "id": "gfJm5c2UeCYN"
      },
      "source": [
        "No caso acima, os elementos (1,0), (5,3), (7,1) e (2,2) foram selecionados. Independentemente de quantas dimensões o array tiver, o resultado da indexação sofisticada sempre será unidimensional."
      ]
    },
    {
      "cell_type": "markdown",
      "metadata": {
        "colab_type": "text",
        "id": "9HgY0e6LeCYN"
      },
      "source": [
        "Agora, se o que você quer é uma região retangular formada pela seleção de um subconjunto de linhas e colunas da matriz, faça como abaixo:"
      ]
    },
    {
      "cell_type": "code",
      "metadata": {
        "colab_type": "code",
        "id": "0JCbGQY3eCYN",
        "outputId": "ea831737-657f-4f9b-eb9c-ca36f4959a2c",
        "colab": {
          "base_uri": "https://localhost:8080/",
          "height": 107
        }
      },
      "source": [
        "arr[[1, 5, 7, 2]][:, [0, 3, 1, 2]]"
      ],
      "execution_count": 0,
      "outputs": [
        {
          "output_type": "execute_result",
          "data": {
            "text/plain": [
              "array([[ 4,  7,  5,  6],\n",
              "       [20, 23, 21, 22],\n",
              "       [28, 31, 29, 30],\n",
              "       [ 8, 11,  9, 10]])"
            ]
          },
          "metadata": {
            "tags": []
          },
          "execution_count": 136
        }
      ]
    },
    {
      "cell_type": "markdown",
      "metadata": {
        "colab_type": "text",
        "id": "liMY4FSMeCYO"
      },
      "source": [
        "### Transposição de  arrays e troca de eixos"
      ]
    },
    {
      "cell_type": "code",
      "metadata": {
        "colab_type": "code",
        "id": "-zl1x_AteCYO",
        "outputId": "6b7556f8-8fa0-436c-8fb9-ddbf66ebb4cb",
        "colab": {
          "base_uri": "https://localhost:8080/",
          "height": 90
        }
      },
      "source": [
        "arr = np.arange(15).reshape((3, 5))\n",
        "arr"
      ],
      "execution_count": 0,
      "outputs": [
        {
          "output_type": "execute_result",
          "data": {
            "text/plain": [
              "array([[ 0,  1,  2,  3,  4],\n",
              "       [ 5,  6,  7,  8,  9],\n",
              "       [10, 11, 12, 13, 14]])"
            ]
          },
          "metadata": {
            "tags": []
          },
          "execution_count": 137
        }
      ]
    },
    {
      "cell_type": "markdown",
      "metadata": {
        "colab_type": "text",
        "id": "WHyNrhcheCYP"
      },
      "source": [
        "##### Transposta da matriz."
      ]
    },
    {
      "cell_type": "code",
      "metadata": {
        "colab_type": "code",
        "id": "dOWOeB42eCYP",
        "outputId": "ca7ea515-77c8-4d23-dd3e-07cc76e2cc7e",
        "colab": {
          "base_uri": "https://localhost:8080/",
          "height": 124
        }
      },
      "source": [
        "arr.T"
      ],
      "execution_count": 0,
      "outputs": [
        {
          "output_type": "execute_result",
          "data": {
            "text/plain": [
              "array([[ 0,  5, 10],\n",
              "       [ 1,  6, 11],\n",
              "       [ 2,  7, 12],\n",
              "       [ 3,  8, 13],\n",
              "       [ 4,  9, 14]])"
            ]
          },
          "metadata": {
            "tags": []
          },
          "execution_count": 138
        }
      ]
    },
    {
      "cell_type": "code",
      "metadata": {
        "colab_type": "code",
        "id": "sN2MiMzGeCYQ",
        "outputId": "3bd9a2d8-59d4-4d1d-f356-1d8d588dfc0f",
        "colab": {
          "base_uri": "https://localhost:8080/",
          "height": 142
        }
      },
      "source": [
        "arr = np.random.randn(6, 3)\n",
        "arr"
      ],
      "execution_count": 0,
      "outputs": [
        {
          "output_type": "execute_result",
          "data": {
            "text/plain": [
              "array([[-1.7425683 ,  1.96631363,  0.24912112],\n",
              "       [-0.21149573, -2.18905444,  0.10869841],\n",
              "       [-0.20141831, -2.31016395,  0.10965851],\n",
              "       [-0.579556  , -0.37873737, -1.34370074],\n",
              "       [ 0.21290355, -0.23463167, -1.27829791],\n",
              "       [ 1.35276422, -1.16470964, -0.27046414]])"
            ]
          },
          "metadata": {
            "tags": []
          },
          "execution_count": 139
        }
      ]
    },
    {
      "cell_type": "markdown",
      "metadata": {
        "colab_type": "text",
        "id": "H1xDD7A2eCYR"
      },
      "source": [
        "##### Multiplicação de matrizes"
      ]
    },
    {
      "cell_type": "code",
      "metadata": {
        "colab_type": "code",
        "id": "hrvWwoKxeCYR",
        "outputId": "537207b1-e4e1-4720-c025-414148cc6bb8",
        "colab": {
          "base_uri": "https://localhost:8080/",
          "height": 90
        }
      },
      "source": [
        "np.dot(arr.T, arr)"
      ],
      "execution_count": 0,
      "outputs": [
        {
          "output_type": "execute_result",
          "data": {
            "text/plain": [
              "array([[ 5.33302817, -3.90418274, -0.3384656 ],\n",
              "       [-3.90418274, 15.55024865,  1.12242542],\n",
              "       [-0.3384656 ,  1.12242542,  3.59862974]])"
            ]
          },
          "metadata": {
            "tags": []
          },
          "execution_count": 140
        }
      ]
    },
    {
      "cell_type": "code",
      "metadata": {
        "colab_type": "code",
        "id": "MLUmGp6KeCYS",
        "outputId": "d4cca5ca-78b6-49c9-eadd-fe3fb1210b6d",
        "colab": {
          "base_uri": "https://localhost:8080/",
          "height": 124
        }
      },
      "source": [
        "arr = np.arange(16).reshape((2, 2, 4))\n",
        "arr"
      ],
      "execution_count": 0,
      "outputs": [
        {
          "output_type": "execute_result",
          "data": {
            "text/plain": [
              "array([[[ 0,  1,  2,  3],\n",
              "        [ 4,  5,  6,  7]],\n",
              "\n",
              "       [[ 8,  9, 10, 11],\n",
              "        [12, 13, 14, 15]]])"
            ]
          },
          "metadata": {
            "tags": []
          },
          "execution_count": 141
        }
      ]
    },
    {
      "cell_type": "markdown",
      "metadata": {
        "colab_type": "text",
        "id": "Ke4nWCfAeCYT"
      },
      "source": [
        "##### Transposição de arrays com mais dimensões aceitam uma tupla de números para permutá-los."
      ]
    },
    {
      "cell_type": "code",
      "metadata": {
        "colab_type": "code",
        "id": "QiBKyipPeCYT",
        "outputId": "eca493da-7956-40a7-f238-aadcaf4a0d78",
        "colab": {
          "base_uri": "https://localhost:8080/",
          "height": 124
        }
      },
      "source": [
        "arr.transpose((1, 0, 2))"
      ],
      "execution_count": 0,
      "outputs": [
        {
          "output_type": "execute_result",
          "data": {
            "text/plain": [
              "array([[[ 0,  1,  2,  3],\n",
              "        [ 8,  9, 10, 11]],\n",
              "\n",
              "       [[ 4,  5,  6,  7],\n",
              "        [12, 13, 14, 15]]])"
            ]
          },
          "metadata": {
            "tags": []
          },
          "execution_count": 142
        }
      ]
    },
    {
      "cell_type": "markdown",
      "metadata": {
        "colab_type": "text",
        "id": "mpnz1C0BeCYU"
      },
      "source": [
        "Neste caso, os eixos foram reordenados com o segundo eixo em primeiro lugar, o primeiro eixo em segundo e o último eixo permaneceu inalterado."
      ]
    },
    {
      "cell_type": "code",
      "metadata": {
        "colab_type": "code",
        "id": "TGKrhsLleCYU",
        "colab": {}
      },
      "source": [
        "arr"
      ],
      "execution_count": 0,
      "outputs": []
    },
    {
      "cell_type": "markdown",
      "metadata": {
        "colab_type": "text",
        "id": "qvUSURMmeCYV"
      },
      "source": [
        "O método `swapaxes`, que aceita um par de números de eixos, troca os eixos indicados para reorganizar os dados."
      ]
    },
    {
      "cell_type": "code",
      "metadata": {
        "colab_type": "code",
        "id": "f28uE-9SeCYW",
        "colab": {}
      },
      "source": [
        "arr.swapaxes(1, 2)"
      ],
      "execution_count": 0,
      "outputs": []
    },
    {
      "cell_type": "markdown",
      "metadata": {
        "colab_type": "text",
        "id": "FiSMMm99eCYW"
      },
      "source": [
        "Tanto `swapaxes` quanto `transpose` e `.T` criam visualizações dos dados sem fazer uma cópia."
      ]
    },
    {
      "cell_type": "markdown",
      "metadata": {
        "colab_type": "text",
        "id": "OJHpZQ8keCYX"
      },
      "source": [
        "## Quizz\n",
        "\n",
        "- crie um array unidimensional de 0 a 11\n",
        "- transforme em uma matriz 3 x 4"
      ]
    },
    {
      "cell_type": "code",
      "metadata": {
        "colab_type": "code",
        "id": "wBJ7fpwDeCYX",
        "colab": {}
      },
      "source": [
        ""
      ],
      "execution_count": 0,
      "outputs": []
    },
    {
      "cell_type": "markdown",
      "metadata": {
        "colab_type": "text",
        "id": "caCe_Ne6eCYY"
      },
      "source": [
        "## Funções Universais: funções rápidas de arrays para todos os elementos"
      ]
    },
    {
      "cell_type": "markdown",
      "metadata": {
        "colab_type": "text",
        "id": "zEpaoXzbeCYY"
      },
      "source": [
        "Uma função universal, ou ufunc, é uma função que executa operações elementares nos dados nos ndarrays. Você pode considerá-los como invólucros vetorizados rápidos para funções simples que recebem um ou mais valores escalares e produzem um ou mais resultados escalares.\n",
        "\n",
        "Muitas ufuncs são transformações simples em todos os elementos, como `sqrt` ou `exp`:"
      ]
    },
    {
      "cell_type": "code",
      "metadata": {
        "colab_type": "code",
        "id": "8Dj21OxTeCYY",
        "colab": {}
      },
      "source": [
        "arr = np.arange(10)\n",
        "arr\n",
        "np.sqrt(arr)"
      ],
      "execution_count": 0,
      "outputs": []
    },
    {
      "cell_type": "code",
      "metadata": {
        "colab_type": "code",
        "id": "A5v8aIlweCYZ",
        "colab": {}
      },
      "source": [
        "np.exp(arr)"
      ],
      "execution_count": 0,
      "outputs": []
    },
    {
      "cell_type": "code",
      "metadata": {
        "colab_type": "code",
        "id": "Y_Bvu4ZleCYa",
        "colab": {}
      },
      "source": [
        "x = np.random.randn(8)\n",
        "y = np.random.randn(8)\n",
        "x"
      ],
      "execution_count": 0,
      "outputs": []
    },
    {
      "cell_type": "code",
      "metadata": {
        "colab_type": "code",
        "id": "N8-8sT8EeCYb",
        "colab": {}
      },
      "source": [
        "y"
      ],
      "execution_count": 0,
      "outputs": []
    },
    {
      "cell_type": "code",
      "metadata": {
        "colab_type": "code",
        "id": "6rcWjxOyeCYc",
        "colab": {}
      },
      "source": [
        "np.maximum(x, y)"
      ],
      "execution_count": 0,
      "outputs": []
    },
    {
      "cell_type": "code",
      "metadata": {
        "colab_type": "code",
        "id": "BuWN6Hz-eCYd",
        "colab": {}
      },
      "source": [
        "arr = np.random.randn(7) * 5\n",
        "arr"
      ],
      "execution_count": 0,
      "outputs": []
    },
    {
      "cell_type": "code",
      "metadata": {
        "colab_type": "code",
        "id": "KR9Rx2LteCYe",
        "colab": {}
      },
      "source": [
        "remainder, whole_part = np.modf(arr)\n",
        "remainder"
      ],
      "execution_count": 0,
      "outputs": []
    },
    {
      "cell_type": "code",
      "metadata": {
        "colab_type": "code",
        "id": "SxHYefqBeCYf",
        "colab": {}
      },
      "source": [
        "whole_part"
      ],
      "execution_count": 0,
      "outputs": []
    },
    {
      "cell_type": "code",
      "metadata": {
        "colab_type": "code",
        "id": "teKnm2DpeCYg",
        "colab": {}
      },
      "source": [
        "(remainder + whole_part) - arr"
      ],
      "execution_count": 0,
      "outputs": []
    },
    {
      "cell_type": "code",
      "metadata": {
        "colab_type": "code",
        "id": "Zx9Ts_oqeCYh",
        "colab": {}
      },
      "source": [
        "arr"
      ],
      "execution_count": 0,
      "outputs": []
    },
    {
      "cell_type": "code",
      "metadata": {
        "colab_type": "code",
        "id": "FZ6nNRLueCYi",
        "colab": {}
      },
      "source": [
        "np.sqrt(arr)"
      ],
      "execution_count": 0,
      "outputs": []
    },
    {
      "cell_type": "code",
      "metadata": {
        "colab_type": "code",
        "id": "UsG7FWLteCYj",
        "colab": {}
      },
      "source": [
        "arr"
      ],
      "execution_count": 0,
      "outputs": []
    },
    {
      "cell_type": "code",
      "metadata": {
        "colab_type": "code",
        "id": "xtlvYKl2eCYk",
        "colab": {}
      },
      "source": [
        "# as ufuncs aceitam um segundo argumento opcional out que lhes permitem atuar in-place nos arrays\n",
        "np.sqrt(arr, arr)"
      ],
      "execution_count": 0,
      "outputs": []
    },
    {
      "cell_type": "code",
      "metadata": {
        "colab_type": "code",
        "id": "oiOvrppjeCYl",
        "colab": {}
      },
      "source": [
        "arr"
      ],
      "execution_count": 0,
      "outputs": []
    },
    {
      "cell_type": "markdown",
      "metadata": {
        "colab_type": "text",
        "id": "11aHk-Z4eCYm"
      },
      "source": [
        "##### Funções Unárias (recebem um argumento)\n",
        "|Função|Descrição da função|\n",
        "|:-|:-|\n",
        "|abs, fabs |Calcula o valor absoluto em termos de elementos para valores inteiros, pontos flutuantes ou complexos. Use fabs como uma alternativa mais rápida para dados de valor não complexo|\n",
        "|sqrt |Calcula a raiz quadrada de cada elemento. Equivalente a arr ** 0,5|\n",
        "|square |Calcula o quadrado de cada elemento. Equivalente a arr ** 2|\n",
        "|exp |Calcula o expoente ex de cada elemento|\n",
        "|log, log10, log2, log1p |Logaritmo natural (base e), base de log 10, base de log 2 e log (1 + x), respectivamente|\n",
        "|sign |Calcula o sinal de cada elemento: 1 (positivo), 0 (zero) ou -1 (negativo)|\n",
        "|ceil |Calcula o teto de cada elemento, ou seja, o menor número inteiro maior que ou igual a cada elemento|\n",
        "|floor |Calcula o piso de cada elemento, ou seja, o maior número inteiro menor ou igual a cada elemento|\n",
        "|rint |Arredonda elementos para o número inteiro mais próximo, preservando o dtype|\n",
        "|modf |Retorna partes fracionárias e integrais da matriz como uma matriz separada|\n",
        "|isnan |Retorna matriz booleana indicando se cada valor é NaN (não é um número)|\n",
        "|isfinite, isinf |Retorna uma matriz booleana indicando se cada elemento é finito (não-inf, não-NaN) ou infinito, respectivamente|\n",
        "|cos, cosh, sin, sinh, tan, tanh |Funções trigonométricas regulares e hiperbólicas|\n",
        "|arccos, arccosh, arcsin, arcsinh, arctan, arctanh |Funções trigonométricas inversas|\n",
        "|logic_not |Calcula o valor de verdade de não x em termos de elementos. Equivalente a -arr.|"
      ]
    },
    {
      "cell_type": "markdown",
      "metadata": {
        "colab_type": "text",
        "id": "yl4xWG2HeCYm"
      },
      "source": [
        "##### Funções Binárias (recebem dois argumentos)\n",
        "|Função|Descrição da função|\n",
        "|:-|:-|\n",
        "|add |Adiciona elementos correspondentes em matrizes|\n",
        "|subtract |Subtrai elementos na segunda matriz da primeira matriz|\n",
        "|multiply |Multiplica elementos da matriz|\n",
        "|divide, floor_divide |Divide ou divide pelo piso (truncando o resto)|\n",
        "|power |Eleva os elementos no primeiro array às potências indicadas no segundo array|\n",
        "|maximum, fmax |Máximo para todos os elementos. fmax ignora NaN|\n",
        "|minimum, fmin |Mínimo para todos os elementos. fmin ignora NaN|\n",
        "|mod |Módulo para todos os elementos (restante da divisão)|\n",
        "|copysign |Copia o sinal dos valores do segundo argumento para valores do primeiro argumento|\n",
        "|greater, greater_equal, less, less_equal, equal, not_equal |Executa uma comparação entre elementos, produzindo uma matriz booleana. Equivalente a operadores infixos >,>=, <, <=, ==,!=|\n",
        "|logical_and, logical_or, logical_xor |Calcule o valor de verdade em termos de elementos da operação lógica. Equivalente a operadores infixos &, \\|, ^|"
      ]
    },
    {
      "cell_type": "markdown",
      "metadata": {
        "colab_type": "text",
        "id": "_i0AmEjkeCYm"
      },
      "source": [
        "## Programação orientada a arrays\n",
        "O uso de arrays NumPy permite que você expresse muitos tipos de tarefas de processamento de dados como expressões concisas de arrays que, de outra forma, poderiam exigir s escrita de loops. Essa prática de substituir loops explícitos por expressões de array é comumente referida como vetorização. Em geral, as operações vetorizadas de arrays com frequência são uma ou duas (ou mais) ordens de magnitude mais rápidas que seus equivalentes puros em Python, com o maior impacto em qualquer tipo de cálculo numérico. \n",
        "\n",
        "Como um exemplo simples, suponha que desejássemos avaliar a função $$\\sqrt{x^2 + y^2}$$ através de uma grade regular de valores. A função `np.meshgrid` pega duas matrizes 1D e produz duas matrizes 2D correspondentes a todos os pares de (x, y) nos dois arrays:"
      ]
    },
    {
      "cell_type": "code",
      "metadata": {
        "colab_type": "code",
        "id": "Uvd8LDX0eCYm",
        "colab": {}
      },
      "source": [
        "points = np.arange(-5, 5, 0.01) # 1000 equally spaced points\n",
        "points"
      ],
      "execution_count": 0,
      "outputs": []
    },
    {
      "cell_type": "code",
      "metadata": {
        "colab_type": "code",
        "id": "rTCL4MRCeCYn",
        "colab": {}
      },
      "source": [
        "xs, ys = np.meshgrid(points, points)"
      ],
      "execution_count": 0,
      "outputs": []
    },
    {
      "cell_type": "code",
      "metadata": {
        "colab_type": "code",
        "id": "wSUrp7FKeCYo",
        "colab": {}
      },
      "source": [
        "xs"
      ],
      "execution_count": 0,
      "outputs": []
    },
    {
      "cell_type": "code",
      "metadata": {
        "colab_type": "code",
        "id": "U6MxO-vWeCYp",
        "colab": {}
      },
      "source": [
        "ys"
      ],
      "execution_count": 0,
      "outputs": []
    },
    {
      "cell_type": "code",
      "metadata": {
        "colab_type": "code",
        "id": "c3cSfF1LeCYq",
        "colab": {}
      },
      "source": [
        "z = np.sqrt(xs ** 2 + ys ** 2)\n",
        "z"
      ],
      "execution_count": 0,
      "outputs": []
    },
    {
      "cell_type": "code",
      "metadata": {
        "colab_type": "code",
        "id": "BsPYqXqUeCYr",
        "colab": {}
      },
      "source": [
        "import matplotlib.pyplot as plt\n",
        "plt.imshow(z, cmap=plt.cm.gray); plt.colorbar()\n",
        "plt.title(\"Image plot of $\\sqrt{x^2 + y^2}$ for a grid of values\")\n",
        "plt.show()"
      ],
      "execution_count": 0,
      "outputs": []
    },
    {
      "cell_type": "code",
      "metadata": {
        "colab_type": "code",
        "id": "CmCP1AlceCYs",
        "colab": {}
      },
      "source": [
        "plt.close('all')"
      ],
      "execution_count": 0,
      "outputs": []
    },
    {
      "cell_type": "markdown",
      "metadata": {
        "colab_type": "text",
        "id": "ilfAsv3TeCYt"
      },
      "source": [
        "### Expressando uma lógica condicional como operações de array\n",
        "\n",
        "A função `numpy.where` é uma versão vetorizada da expressão ternária `x if condição else y`. Suponha que tivéssemos um aray booleano e dois arrays de valores:"
      ]
    },
    {
      "cell_type": "code",
      "metadata": {
        "colab_type": "code",
        "id": "UC0fC92teCYu",
        "colab": {}
      },
      "source": [
        "xarr = np.array([1.1, 1.2, 1.3, 1.4, 1.5])\n",
        "yarr = np.array([2.1, 2.2, 2.3, 2.4, 2.5])\n",
        "cond = np.array([True, False, True, True, False])"
      ],
      "execution_count": 0,
      "outputs": []
    },
    {
      "cell_type": "markdown",
      "metadata": {
        "colab_type": "text",
        "id": "2mXFVqyyeCYv"
      },
      "source": [
        "Suponha que desejássemos pegar um valor de xarr sempre que o valor correspondente em cond for True, caso contrário, pegar o valor de yarr. Uma compreensão de lista fazendo isso pode ser semelhante a:"
      ]
    },
    {
      "cell_type": "code",
      "metadata": {
        "colab_type": "code",
        "id": "yVGvHJyYeCYv",
        "colab": {}
      },
      "source": [
        "result = [(x if c else y)\n",
        "          for x, y, c in zip(xarr, yarr, cond)]\n",
        "result"
      ],
      "execution_count": 0,
      "outputs": []
    },
    {
      "cell_type": "markdown",
      "metadata": {
        "colab_type": "text",
        "id": "B6ck0xmseCYw"
      },
      "source": [
        "Isso tem vários problemas. Primeiro, não será muito rápido para arrays grandes (porque todo o trabalho está sendo feito em Python puro). Em segundo lugar, ele não funcionará com matrizes multidimensionais. Com o `np.where`, você pode escrever isso de forma muito concisa:"
      ]
    },
    {
      "cell_type": "code",
      "metadata": {
        "colab_type": "code",
        "id": "VBeYNdB_eCYw",
        "colab": {}
      },
      "source": [
        "result = np.where(cond, xarr, yarr)\n",
        "result"
      ],
      "execution_count": 0,
      "outputs": []
    },
    {
      "cell_type": "markdown",
      "metadata": {
        "colab_type": "text",
        "id": "Yj_eBClBeCYx"
      },
      "source": [
        "O segundo e o terceiro argumentos para `np.where` não precisam ser arrays; um ou ambos podem ser escalares. Um uso típico de `where` na análise de dados é produzir um novo array de valores com base em outro array. Suponha que você tenha um array de dados gerados aleatoriamente e deseje substituir todos os valores positivos por 2 e todos os valores negativos por -2. Isso é muito fácil de fazer com o `np.where`:"
      ]
    },
    {
      "cell_type": "code",
      "metadata": {
        "colab_type": "code",
        "id": "1VKnOnqAeCYx",
        "colab": {}
      },
      "source": [
        "arr = np.random.randn(4, 4)\n",
        "arr"
      ],
      "execution_count": 0,
      "outputs": []
    },
    {
      "cell_type": "code",
      "metadata": {
        "colab_type": "code",
        "id": "zVKnOCh0eCYz",
        "colab": {}
      },
      "source": [
        "np.where(arr > 0, 2, -2)"
      ],
      "execution_count": 0,
      "outputs": []
    },
    {
      "cell_type": "code",
      "metadata": {
        "colab_type": "code",
        "id": "E-fdCBM8eCYz",
        "colab": {}
      },
      "source": [
        "np.where(arr > 0, 2, arr) # set only positive values to 2"
      ],
      "execution_count": 0,
      "outputs": []
    },
    {
      "cell_type": "markdown",
      "metadata": {
        "colab_type": "text",
        "id": "FTmVc2GPeCY0"
      },
      "source": [
        "Os arrays passados para `where` podem ser mais do que apenas arrays de tamanhos iguais ou escalares.\n",
        "\n",
        "Por exemplo, você pode usar `where` para expressar uma lógica mais complicada; considere este exemplo em que temos dois arrays booleanos, cond1 e cond2, e desejamos atribuir um valor diferente para cada um dos 4 pares possíveis de valores booleanos:"
      ]
    },
    {
      "cell_type": "code",
      "metadata": {
        "colab_type": "code",
        "id": "gG9w00mheCY0",
        "colab": {}
      },
      "source": [
        "cond1 = np.array([True, False, True,  True, False, True,  False, True,  True,  False])\n",
        "cond2 = np.array([True, False, False, True, True,  False, True,  True,  False, False])\n",
        "result = []\n",
        "for i in range(len(cond1)):\n",
        "    if cond1[i] and cond2[i]:\n",
        "        result.append(0)\n",
        "    elif cond1[i]:\n",
        "        result.append(1)\n",
        "    elif cond2[i]:\n",
        "        result.append(2)\n",
        "    else:\n",
        "        result.append(3)\n",
        "result"
      ],
      "execution_count": 0,
      "outputs": []
    },
    {
      "cell_type": "markdown",
      "metadata": {
        "colab_type": "text",
        "id": "GxMGw9tgeCY1"
      },
      "source": [
        "Este loop pode ser convertido em um `np.where` aninhado:"
      ]
    },
    {
      "cell_type": "code",
      "metadata": {
        "colab_type": "code",
        "id": "510-eGMSeCY2",
        "colab": {}
      },
      "source": [
        "np.where(cond1 & cond2, 0,\n",
        "         np.where(cond1, 1,\n",
        "                  np.where(cond2, 2, 3)))"
      ],
      "execution_count": 0,
      "outputs": []
    },
    {
      "cell_type": "markdown",
      "metadata": {
        "colab_type": "text",
        "id": "4O6XUAFLeCY3"
      },
      "source": [
        "Neste exemplo em particular, também podemos tirar proveito do fato de que os valores booleanos são tratados como 0 ou 1 nos cálculos, portanto, isso pode ser expresso (embora um pouco mais enigmaticamente) como uma operação aritmética:"
      ]
    },
    {
      "cell_type": "code",
      "metadata": {
        "colab_type": "code",
        "id": "uJ2ZhAieeCY3",
        "colab": {}
      },
      "source": [
        "result = 1 * (cond1 & ~cond2) + 2 * (cond2 & ~cond1) + 3 * ~(cond1 | cond2)\n",
        "result"
      ],
      "execution_count": 0,
      "outputs": []
    },
    {
      "cell_type": "markdown",
      "metadata": {
        "colab_type": "text",
        "id": "Z3EN_MkJeCY4"
      },
      "source": [
        "### Métodos matemáticos e estatísticos\n",
        "\n",
        "Um conjunto de funções matemáticas que calcula estatísticas sobre todo um array ou sobre os dados ao longo de um eixo são acessíveis como métodos de array. Agregações (geralmente chamadas de reduções) como sum, mean e desvio padrão std podem ser usadas chamando o método de instância do array ou usando a funções NumPy de nível superior:"
      ]
    },
    {
      "cell_type": "code",
      "metadata": {
        "colab_type": "code",
        "id": "19brnTKpeCY4",
        "colab": {}
      },
      "source": [
        "arr = np.random.randn(5, 4)\n",
        "arr"
      ],
      "execution_count": 0,
      "outputs": []
    },
    {
      "cell_type": "code",
      "metadata": {
        "colab_type": "code",
        "id": "9LoGNnSkeCY5",
        "colab": {}
      },
      "source": [
        "arr.mean()"
      ],
      "execution_count": 0,
      "outputs": []
    },
    {
      "cell_type": "code",
      "metadata": {
        "colab_type": "code",
        "id": "64ET2_8seCY6",
        "colab": {}
      },
      "source": [
        "np.mean(arr)"
      ],
      "execution_count": 0,
      "outputs": []
    },
    {
      "cell_type": "code",
      "metadata": {
        "colab_type": "code",
        "id": "aSwUert0eCY7",
        "colab": {}
      },
      "source": [
        "arr.sum()"
      ],
      "execution_count": 0,
      "outputs": []
    },
    {
      "cell_type": "markdown",
      "metadata": {
        "colab_type": "text",
        "id": "ZpzjxW4UeCY8"
      },
      "source": [
        "Funções como média e soma usam um argumento opcional de eixo que calcula a estatística sobre o eixo especificado, resultando em uma matriz com uma dimensão a menos:"
      ]
    },
    {
      "cell_type": "code",
      "metadata": {
        "colab_type": "code",
        "id": "6BBAjSQLeCY8",
        "colab": {}
      },
      "source": [
        "arr.mean(axis=1)"
      ],
      "execution_count": 0,
      "outputs": []
    },
    {
      "cell_type": "code",
      "metadata": {
        "colab_type": "code",
        "id": "msRHjSlJeCY9",
        "colab": {}
      },
      "source": [
        "arr.sum(axis=0)"
      ],
      "execution_count": 0,
      "outputs": []
    },
    {
      "cell_type": "markdown",
      "metadata": {
        "colab_type": "text",
        "id": "F_HWb63TeCY-"
      },
      "source": [
        "Neste caso, arr.mean(1) significa calcule a média das colunas, enquanto arr.sum(0) significa calcule a soma das linhas."
      ]
    },
    {
      "cell_type": "markdown",
      "metadata": {
        "colab_type": "text",
        "id": "8ICrNGGAeCY-"
      },
      "source": [
        "Outros métodos, como cumsum e cumprod, não fazem agregações, produzindo um array dos resultados intermediários:"
      ]
    },
    {
      "cell_type": "code",
      "metadata": {
        "colab_type": "code",
        "id": "a3olhbMueCY-",
        "colab": {}
      },
      "source": [
        "arr = np.array([0, 1, 2, 3, 4, 5, 6, 7])\n",
        "arr.cumsum()"
      ],
      "execution_count": 0,
      "outputs": []
    },
    {
      "cell_type": "markdown",
      "metadata": {
        "colab_type": "text",
        "id": "4AWHWrNWeCY_"
      },
      "source": [
        "Em arrays multidimensionais, funções de acumulação como cumsum devolvem um array de mesmo tamanho, porém com as agregações parciais calculadas ao longo do eixo indicado, de acordo com cada fatia de dimensão menor:"
      ]
    },
    {
      "cell_type": "code",
      "metadata": {
        "colab_type": "code",
        "id": "HhMa4K_9eCZA",
        "colab": {}
      },
      "source": [
        "arr = np.array([[0, 1, 2], [3, 4, 5], [6, 7, 8]])\n",
        "arr"
      ],
      "execution_count": 0,
      "outputs": []
    },
    {
      "cell_type": "code",
      "metadata": {
        "colab_type": "code",
        "id": "KysCiFareCZB",
        "colab": {}
      },
      "source": [
        "arr.cumsum(axis=0)"
      ],
      "execution_count": 0,
      "outputs": []
    },
    {
      "cell_type": "code",
      "metadata": {
        "colab_type": "code",
        "id": "22C_OwRQeCZB",
        "colab": {}
      },
      "source": [
        "arr.cumprod(axis=1)"
      ],
      "execution_count": 0,
      "outputs": []
    },
    {
      "cell_type": "markdown",
      "metadata": {
        "colab_type": "text",
        "id": "gza8uLo3eCZC"
      },
      "source": [
        "|Método|Descrição|\n",
        "|:-|:-|\n",
        "|sum |Soma de todos os elementos no array ou ao longo de um eixo. Arrays de comprimento zero possuem soma 0.|\n",
        "|mean|Média aritmética. Arrays de comprimento zero têm média de NaN.|\n",
        "|std, var |Desvio padrão e variância, respectivamente, com ajuste opcional dos graus de liberdade (denominador padrão n).|\n",
        "|min, max |Mínimo e máximo.|\n",
        "|argmin, argmax |Índices de elementos mínimo e máximo, respectivamente.|\n",
        "|cumsum|Soma acumulada de elementos a partir de 0|\n",
        "|cumprod| Produto cumulativo de elementos a partir de 1|"
      ]
    },
    {
      "cell_type": "markdown",
      "metadata": {
        "colab_type": "text",
        "id": "q4tFcGdaeCZD"
      },
      "source": [
        "## Quizz\n",
        "\n",
        "- crie uma matriz 10 x 10 de números aleatórios\n",
        "- calcule a média e o desvio padrão da matriz, das linhas e das colunas"
      ]
    },
    {
      "cell_type": "code",
      "metadata": {
        "colab_type": "code",
        "id": "y3toI0j9eCZD",
        "colab": {}
      },
      "source": [
        ""
      ],
      "execution_count": 0,
      "outputs": []
    },
    {
      "cell_type": "markdown",
      "metadata": {
        "colab_type": "text",
        "id": "ooy3skBbeCZE"
      },
      "source": [
        "### Métodos para arrays booleanos\n",
        "\n",
        "Os valores booleanos sofrem coerção para 1 (True) e 0 (False) nos métodos acima. Assim, a soma é frequentemente usada como um meio de contar valores True em um array booleano:"
      ]
    },
    {
      "cell_type": "code",
      "metadata": {
        "colab_type": "code",
        "id": "hTUKHeRDeCZE",
        "colab": {}
      },
      "source": [
        "arr = np.random.randn(100)\n",
        "(arr > 0).sum() # Número de valores positivos"
      ],
      "execution_count": 0,
      "outputs": []
    },
    {
      "cell_type": "markdown",
      "metadata": {
        "colab_type": "text",
        "id": "TUVKUhyueCZF"
      },
      "source": [
        "Há dois métodos, `any` e `all`, úteis para testar valores booleanos. `any` retorna `True` se um ou mais valores são `True`. `all` retorna `True` se todos os valores são `True`."
      ]
    },
    {
      "cell_type": "code",
      "metadata": {
        "colab_type": "code",
        "id": "juNxk7QYeCZF",
        "colab": {}
      },
      "source": [
        "bools = np.array([False, False, True, False])\n",
        "bools.any()"
      ],
      "execution_count": 0,
      "outputs": []
    },
    {
      "cell_type": "code",
      "metadata": {
        "colab_type": "code",
        "id": "9xBswXvVeCZG",
        "colab": {}
      },
      "source": [
        "bools.all()"
      ],
      "execution_count": 0,
      "outputs": []
    },
    {
      "cell_type": "markdown",
      "metadata": {
        "colab_type": "text",
        "id": "S6992bVBeCZH"
      },
      "source": [
        "### Ordenação\n",
        "\n",
        "Assim como o tipo embutido lista, os arrays NumPy podem ser ordenados in-place com o método `sort`."
      ]
    },
    {
      "cell_type": "code",
      "metadata": {
        "colab_type": "code",
        "id": "iL2-ELrIeCZH",
        "colab": {}
      },
      "source": [
        "arr = np.random.randn(6)\n",
        "arr"
      ],
      "execution_count": 0,
      "outputs": []
    },
    {
      "cell_type": "code",
      "metadata": {
        "colab_type": "code",
        "id": "I5Z-Sq9heCZI",
        "colab": {}
      },
      "source": [
        "arr.sort()\n",
        "arr"
      ],
      "execution_count": 0,
      "outputs": []
    },
    {
      "cell_type": "markdown",
      "metadata": {
        "colab_type": "text",
        "id": "GOEoU9nseCZJ"
      },
      "source": [
        "Podemos ordenar cada seção unidimensional de valores em um array multidimensional in-place ao longo de um eixo, passando o número desse eixo para `sort`:"
      ]
    },
    {
      "cell_type": "code",
      "metadata": {
        "colab_type": "code",
        "id": "DMld5_pCeCZJ",
        "colab": {}
      },
      "source": [
        "arr = np.random.randn(5, 3)\n",
        "arr"
      ],
      "execution_count": 0,
      "outputs": []
    },
    {
      "cell_type": "code",
      "metadata": {
        "colab_type": "code",
        "id": "BQ34MKwbeCZK",
        "colab": {}
      },
      "source": [
        "arr.sort(1)\n",
        "arr"
      ],
      "execution_count": 0,
      "outputs": []
    },
    {
      "cell_type": "markdown",
      "metadata": {
        "colab_type": "text",
        "id": "BVGrmTAHeCZL"
      },
      "source": [
        "O método de nível superior `np.sort` devolve uma cópia ordenada de um array, em vez de modificá-lo in-place. Uma forma rápida e fáciol de calcular os quantis de um array é ordená-lo e selecionar o valor em uma posição em particular."
      ]
    },
    {
      "cell_type": "code",
      "metadata": {
        "colab_type": "code",
        "id": "9zqy_3gTeCZL",
        "scrolled": false,
        "colab": {}
      },
      "source": [
        "large_arr = np.random.randn(1000)\n",
        "large_arr.sort()\n",
        "#print(large_arr)"
      ],
      "execution_count": 0,
      "outputs": []
    },
    {
      "cell_type": "code",
      "metadata": {
        "colab_type": "code",
        "id": "3Oq-GiDGeCZM",
        "colab": {}
      },
      "source": [
        "large_arr[int(0.05 * len(large_arr))] # 5% quantil"
      ],
      "execution_count": 0,
      "outputs": []
    },
    {
      "cell_type": "markdown",
      "metadata": {
        "colab_type": "text",
        "id": "x8pjr-7reCZN"
      },
      "source": [
        "### Unicidade e outras lógicas de conjuntos\n",
        "\n",
        "O NumPy tem algumas operações básicas de conjuntos para ndarrays unidimensionais. Uma operação comumente utilizada é `np.unique`, que devolve os valores únicos e ordenados de um array:"
      ]
    },
    {
      "cell_type": "code",
      "metadata": {
        "colab_type": "code",
        "id": "ObgLpHKJeCZO",
        "colab": {}
      },
      "source": [
        "names = np.array(['Bob', 'Joe', 'Will', 'Bob', 'Will', 'Joe', 'Joe'])\n",
        "np.unique(names)"
      ],
      "execution_count": 0,
      "outputs": []
    },
    {
      "cell_type": "code",
      "metadata": {
        "colab_type": "code",
        "id": "l84G1IEXeCZP",
        "colab": {}
      },
      "source": [
        "ints = np.array([3, 3, 3, 2, 2, 1, 1, 4, 4])\n",
        "np.unique(ints)"
      ],
      "execution_count": 0,
      "outputs": []
    },
    {
      "cell_type": "code",
      "metadata": {
        "colab_type": "code",
        "id": "z7kQ5i8PeCZQ",
        "colab": {}
      },
      "source": [
        "# alternativa em Python puro\n",
        "sorted(set(names))"
      ],
      "execution_count": 0,
      "outputs": []
    },
    {
      "cell_type": "markdown",
      "metadata": {
        "colab_type": "text",
        "id": "XU1_CAzfeCZQ"
      },
      "source": [
        "`np.in1d` testa a pertinência dos valores de um array em outro, devolvendo um array booleano."
      ]
    },
    {
      "cell_type": "code",
      "metadata": {
        "colab_type": "code",
        "id": "udQdlGIleCZR",
        "colab": {}
      },
      "source": [
        "values = np.array([6, 0, 0, 3, 2, 5, 6])\n",
        "np.in1d(values, [2, 3, 6])"
      ],
      "execution_count": 0,
      "outputs": []
    },
    {
      "cell_type": "markdown",
      "metadata": {
        "colab_type": "text",
        "id": "e8noKrBleCZS"
      },
      "source": [
        "## Entrada e saída de arquivos com arrays\n",
        "\n",
        "O NumPy é capaz de salvar e carregar dados de e para o disco, seja em formato texto ou em formato binário."
      ]
    },
    {
      "cell_type": "markdown",
      "metadata": {
        "colab_type": "text",
        "id": "ypbbKeljeCZS"
      },
      "source": [
        "### Arquivos binários\n",
        "`save` e `load` salvam e carregam dados do array em um disco de foram eficiente."
      ]
    },
    {
      "cell_type": "code",
      "metadata": {
        "colab_type": "code",
        "id": "QCdTGfFIeCZS",
        "colab": {}
      },
      "source": [
        "arr = np.arange(10)\n",
        "np.save('some_array', arr)"
      ],
      "execution_count": 0,
      "outputs": []
    },
    {
      "cell_type": "code",
      "metadata": {
        "colab_type": "code",
        "id": "ZJam6JRdeCZT",
        "colab": {}
      },
      "source": [
        "np.load('some_array.npy')"
      ],
      "execution_count": 0,
      "outputs": []
    },
    {
      "cell_type": "code",
      "metadata": {
        "colab_type": "code",
        "id": "VlHpj7TCeCZU",
        "colab": {}
      },
      "source": [
        "#!more some_array.npy"
      ],
      "execution_count": 0,
      "outputs": []
    },
    {
      "cell_type": "markdown",
      "metadata": {
        "colab_type": "text",
        "id": "TNqZWitReCZV"
      },
      "source": [
        "Você pode passar vários arrays em um arquivo não compactado usando `np.savez`, passando os arrays como argumentos noemados. Ao carregar um arquivo .npz, você irá obter um objeto dicionário que carregará os arrays individuais em modo lazy (preguiçoso).\n",
        "\n",
        "**Obs:** Em computação, modo *lazy* significa carregar somente o necessário quando for necessário. O contrário é o modo *eager*, que faz tudo com antecedência."
      ]
    },
    {
      "cell_type": "code",
      "metadata": {
        "colab_type": "code",
        "id": "0V5JiGgweCZV",
        "colab": {}
      },
      "source": [
        "np.savez('array_archive.npz', a=arr, b=arr)"
      ],
      "execution_count": 0,
      "outputs": []
    },
    {
      "cell_type": "code",
      "metadata": {
        "colab_type": "code",
        "id": "RtdjoW57eCZX",
        "colab": {}
      },
      "source": [
        "arch = np.load('array_archive.npz')\n",
        "arch['b']"
      ],
      "execution_count": 0,
      "outputs": []
    },
    {
      "cell_type": "markdown",
      "metadata": {
        "colab_type": "text",
        "id": "knbMAOZNeCZY"
      },
      "source": [
        "`np.savez_compressed` salva em um arquivo compactado."
      ]
    },
    {
      "cell_type": "code",
      "metadata": {
        "colab_type": "code",
        "id": "BRblSCJueCZY",
        "colab": {}
      },
      "source": [
        "np.savez_compressed('arrays_compressed.npz', a=arr, b=arr)"
      ],
      "execution_count": 0,
      "outputs": []
    },
    {
      "cell_type": "code",
      "metadata": {
        "colab_type": "code",
        "id": "kMVAOcxPeCZZ",
        "colab": {}
      },
      "source": [
        "!rm some_array.npy\n",
        "!rm array_archive.npz\n",
        "!rm arrays_compressed.npz"
      ],
      "execution_count": 0,
      "outputs": []
    },
    {
      "cell_type": "markdown",
      "metadata": {
        "colab_type": "text",
        "id": "9zLeBp3PeCZa"
      },
      "source": [
        "### Arquivos Texto\n",
        "\n",
        "O mais comun é usar as funções `read_csv` e `read_table` do pandas para carregar arquivos texto. Porém, às vezes será útil carregar dados em arrays NumPy *vanilla*  usando o `np.loadtxt` ou o `np.genfromtxt`, mais especializado.\n",
        "\n",
        "Essas funções têm muitas opções que permitem especificar delimitadores diferentes, funções de conversor para determinadas colunas, pular linhas e outras coisas. Veja um caso simples de um arquivo separado por vírgula (CSV) como este:"
      ]
    },
    {
      "cell_type": "code",
      "metadata": {
        "colab_type": "code",
        "id": "vSbpnM_ceCZa",
        "colab": {}
      },
      "source": [
        "%%writefile array_ex.txt\n",
        "0.580052,0.186730,1.040717,1.134411\n",
        "0.194163,-0.636917,-0.938659,0.124094\n",
        "-0.126410,0.268607,-0.695724,0.047428\n",
        "-1.484413,0.004176,-0.744203,0.005487\n",
        "2.302869,0.200131,1.670238,-1.881090\n",
        "-0.193230,1.047233,0.482803,0.960334"
      ],
      "execution_count": 0,
      "outputs": []
    },
    {
      "cell_type": "markdown",
      "metadata": {
        "colab_type": "text",
        "id": "Jan0z-ezeCZb"
      },
      "source": [
        "Este arquivo pode ser carregado assim:"
      ]
    },
    {
      "cell_type": "code",
      "metadata": {
        "colab_type": "code",
        "id": "4fgTKrDveCZb",
        "colab": {}
      },
      "source": [
        "arr = np.loadtxt('array_ex.txt', delimiter=',')\n",
        "arr"
      ],
      "execution_count": 0,
      "outputs": []
    },
    {
      "cell_type": "markdown",
      "metadata": {
        "colab_type": "text",
        "id": "0BL3oMQGeCZc"
      },
      "source": [
        "`np.savetxt` executa a operação inversa: gravando um array em um arquivo de texto delimitado. O `genfromtxt` é semelhante ao `loadtxt`, mas é voltado para arrays estruturados e tratamento de dados ausentes."
      ]
    },
    {
      "cell_type": "markdown",
      "metadata": {
        "colab_type": "text",
        "id": "IQdf8jZ6eCZc"
      },
      "source": [
        "## Álgebra linear\n",
        "\n",
        "Álgebra linear, como multiplicação de matrizes, decomposições, determinantes e outras matemáticas de matriz quadrada, é uma parte importante de qualquer biblioteca de matrizes. Ao contrário de algumas linguagens como o MATLAB, a multiplicação de duas matrizes bidimensionais por * é um produto em termos de elementos em vez de um produto escalar matricial. Como tal, há uma função `dor`, um método de array e uma função no *namespace* numpy, para multiplicação de matrizes:"
      ]
    },
    {
      "cell_type": "code",
      "metadata": {
        "colab_type": "code",
        "id": "2aQ6VLcOeCZd",
        "colab": {}
      },
      "source": [
        "x = np.array([[1., 2., 3.], [4., 5., 6.]])\n",
        "y = np.array([[6., 23.], [-1, 7], [8, 9]])\n",
        "x"
      ],
      "execution_count": 0,
      "outputs": []
    },
    {
      "cell_type": "code",
      "metadata": {
        "colab_type": "code",
        "id": "nL_rR8pKeCZe",
        "colab": {}
      },
      "source": [
        "y"
      ],
      "execution_count": 0,
      "outputs": []
    },
    {
      "cell_type": "code",
      "metadata": {
        "colab_type": "code",
        "id": "gmdz2V1keCZf",
        "colab": {}
      },
      "source": [
        "x.dot(y)"
      ],
      "execution_count": 0,
      "outputs": []
    },
    {
      "cell_type": "code",
      "metadata": {
        "colab_type": "code",
        "id": "fdgQjmtfeCZf",
        "colab": {}
      },
      "source": [
        "np.dot(x, y)"
      ],
      "execution_count": 0,
      "outputs": []
    },
    {
      "cell_type": "markdown",
      "metadata": {
        "colab_type": "text",
        "id": "4jNgm1tdeCZg"
      },
      "source": [
        "Um produto de matrizes entre um array bidimensional e um array unidimensional de tamanho apropriado resulta em um array unidimensional."
      ]
    },
    {
      "cell_type": "code",
      "metadata": {
        "colab_type": "code",
        "id": "6hNF8wtJeCZh",
        "colab": {}
      },
      "source": [
        "ones = np.ones(3)\n",
        "ones"
      ],
      "execution_count": 0,
      "outputs": []
    },
    {
      "cell_type": "code",
      "metadata": {
        "colab_type": "code",
        "id": "_vj-r-kzeCZh",
        "colab": {}
      },
      "source": [
        "np.dot(x, ones)"
      ],
      "execution_count": 0,
      "outputs": []
    },
    {
      "cell_type": "markdown",
      "metadata": {
        "colab_type": "text",
        "id": "ucapfCmzeCZi"
      },
      "source": [
        "O símbolo `@` também funciona como um operador infixo que efetua uma multiplicação de matrizes."
      ]
    },
    {
      "cell_type": "code",
      "metadata": {
        "colab_type": "code",
        "id": "BwZQNT8-eCZi",
        "colab": {}
      },
      "source": [
        "x @ ones"
      ],
      "execution_count": 0,
      "outputs": []
    },
    {
      "cell_type": "markdown",
      "metadata": {
        "colab_type": "text",
        "id": "zKZ_DlpTeCZj"
      },
      "source": [
        "`numpy.linalg` tem um conjunto padrão de decomposições de matrizes, além de operações como inverso e determinante."
      ]
    },
    {
      "cell_type": "code",
      "metadata": {
        "colab_type": "code",
        "id": "RP3EL3zFeCZk",
        "colab": {}
      },
      "source": [
        "from numpy.linalg import inv, qr\n",
        "X = np.random.randn(5, 5)\n",
        "mat = X.T.dot(X)\n",
        "mat"
      ],
      "execution_count": 0,
      "outputs": []
    },
    {
      "cell_type": "code",
      "metadata": {
        "colab_type": "code",
        "id": "IhhlDk5KeCZl",
        "colab": {}
      },
      "source": [
        "inv(mat)"
      ],
      "execution_count": 0,
      "outputs": []
    },
    {
      "cell_type": "code",
      "metadata": {
        "colab_type": "code",
        "id": "ckTKufMjeCZl",
        "colab": {}
      },
      "source": [
        "mat.dot(inv(mat))"
      ],
      "execution_count": 0,
      "outputs": []
    },
    {
      "cell_type": "code",
      "metadata": {
        "colab_type": "code",
        "id": "B12J4JPEeCZm",
        "colab": {}
      },
      "source": [
        "q, r = qr(mat)\n",
        "r"
      ],
      "execution_count": 0,
      "outputs": []
    },
    {
      "cell_type": "markdown",
      "metadata": {
        "colab_type": "text",
        "id": "ObWkI-u4eCZn"
      },
      "source": [
        "A expresão `X.T.dot(X)` calcula o produto escalar de X com usa transposta X.T."
      ]
    },
    {
      "cell_type": "markdown",
      "metadata": {
        "colab_type": "text",
        "id": "tPzSHvdReCZo"
      },
      "source": [
        "|Função|Descrição|\n",
        "|:-|:-|\n",
        "|diag |Retorne os elementos diagonais (ou fora da diagonal) de uma matriz quadrada como uma matriz 1D ou converta uma matriz 1D em uma matriz quadrada com zeros na diagonal fora da diagonal|\n",
        "|dot|Multiplicação matricial|\n",
        "|trace |Calcular a soma dos elementos diagonais|\n",
        "|det |Calcula o determinante da matriz|\n",
        "|eig |Calcule os autovalores e autovetores de uma matriz quadrada|\n",
        "|inv |Calcula o inverso de uma matriz quadrada|\n",
        "|pinv |Calcule o inverso pseudo-inverso de Moore-Penrose de uma matriz|\n",
        "|qr |Calcular a decomposição QR|\n",
        "|svd |Calcula a decomposição do valor singular (SVD)|\n",
        "|solve |Resolva o sistema linear Ax = b para x, onde A é uma matriz quadrada|\n",
        "|lstsq |Calcule a solução dos mínimos quadrados para Ax = b|"
      ]
    },
    {
      "cell_type": "markdown",
      "metadata": {
        "colab_type": "text",
        "id": "yUI5hhK3eCZo"
      },
      "source": [
        "## Geração de números pseudoaleatórios\n",
        "\n",
        "O módulo numpy.random complementa o `random` interno do Python com funções para gerar eficientemente matrizes inteiras de valores de amostra de muitos tipos de distribuições de probabilidade. Por exemplo, você pode obter um array 4 por 4 de amostras da distribuição normal padrão usando `normal`: "
      ]
    },
    {
      "cell_type": "code",
      "metadata": {
        "colab_type": "code",
        "id": "tu2WW64LeCZo",
        "colab": {}
      },
      "source": [
        "samples = np.random.normal(size=(4, 4))\n",
        "samples"
      ],
      "execution_count": 0,
      "outputs": []
    },
    {
      "cell_type": "markdown",
      "metadata": {
        "colab_type": "text",
        "id": "DdE1GWabeCZp"
      },
      "source": [
        "O módulo `random` interno do Python, por outro lado, apenas mostra um valor de cada vez. Como você pode ver neste benchmark, o `numpy.random` é uma ordem de grandeza mais rápido para gerar amostras muito grandes:"
      ]
    },
    {
      "cell_type": "code",
      "metadata": {
        "colab_type": "code",
        "id": "yzutJmOeeCZp",
        "colab": {}
      },
      "source": [
        "from random import normalvariate\n",
        "N = 1000000\n",
        "%timeit samples = [normalvariate(0, 1) for _ in range(N)]\n",
        "%timeit np.random.normal(size=N)"
      ],
      "execution_count": 0,
      "outputs": []
    },
    {
      "cell_type": "markdown",
      "metadata": {
        "colab_type": "text",
        "id": "h5v5oxMLeCZq"
      },
      "source": [
        "Chamamos estes números de pseudoaleatórios porque são gerados por um algoritmo com um comportamento determinístico, baseado na semente (seed) do gerador de números aleatórios. Podemos alterar a semente conforme abaixo."
      ]
    },
    {
      "cell_type": "code",
      "metadata": {
        "colab_type": "code",
        "id": "qGAez6NLeCZr",
        "colab": {}
      },
      "source": [
        "np.random.seed(1234)"
      ],
      "execution_count": 0,
      "outputs": []
    },
    {
      "cell_type": "markdown",
      "metadata": {
        "colab_type": "text",
        "id": "fjsZ47fLeCZr"
      },
      "source": [
        "Podemos também usar RandomState para configurar para alterar uma semente local sem mudar a semente global."
      ]
    },
    {
      "cell_type": "code",
      "metadata": {
        "colab_type": "code",
        "id": "4LuvOOfseCZs",
        "colab": {}
      },
      "source": [
        "rng = np.random.RandomState(1234)\n",
        "rng.randn(10)"
      ],
      "execution_count": 0,
      "outputs": []
    },
    {
      "cell_type": "markdown",
      "metadata": {
        "colab_type": "text",
        "id": "WQfXOqs9eCZt"
      },
      "source": [
        "|Função|Descrição|\n",
        "|:-|:-|\n",
        "|seed |Fornece uma semente ao gerador de números aleatórios|\n",
        "|permutation |Retorna uma permutação aleatória de uma sequência ou um intervalo permutado|\n",
        "|shuffle |Permuta aleatoriamente uma sequência in-place|\n",
        "|rand|Sorteia amostras de uma distribuição uniforme|\n",
        "|randint |Sorteia números inteiros aleatórios de um dado intervalo|\n",
        "|randn |Sorteia amostras de uma distribuição normal com média 0 e desvio padrão 1 (interface semelhante ao MATLAB)|\n",
        "|binomial |Sorteia amostras de uma distribuição binomial|\n",
        "|normal|Sorteira amostras normais de uma distribuição normal (gaussiana)|\n",
        "|beta|Sorteia amostras de uma distribuição beta|\n",
        "|chisquare |Sorteia amostras de uma distribuição qui-quadrada|\n",
        "|gamma|Sorteia amostras de uma distribuição gama|\n",
        "|uniform|Sorteia amostras de uma distribuição uniforme [0, 1)|"
      ]
    }
  ]
}