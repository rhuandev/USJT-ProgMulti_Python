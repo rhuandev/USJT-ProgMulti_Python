{
  "nbformat": 4,
  "nbformat_minor": 0,
  "metadata": {
    "colab": {
      "name": "Aula06_USJT_2020_GERDADOS_Pandas.ipynb",
      "provenance": [],
      "collapsed_sections": [],
      "include_colab_link": true
    },
    "kernelspec": {
      "display_name": "Python 3",
      "language": "python",
      "name": "python3"
    },
    "language_info": {
      "codemirror_mode": {
        "name": "ipython",
        "version": 3
      },
      "file_extension": ".py",
      "mimetype": "text/x-python",
      "name": "python",
      "nbconvert_exporter": "python",
      "pygments_lexer": "ipython3",
      "version": "3.6.4"
    }
  },
  "cells": [
    {
      "cell_type": "markdown",
      "metadata": {
        "id": "view-in-github",
        "colab_type": "text"
      },
      "source": [
        "<a href=\"https://colab.research.google.com/github/rhutao/USJT-ProgMulti_Python/blob/master/Aula06_USJT_2020_GERDADOS_Pandas.ipynb\" target=\"_parent\"><img src=\"https://colab.research.google.com/assets/colab-badge.svg\" alt=\"Open In Colab\"/></a>"
      ]
    },
    {
      "cell_type": "markdown",
      "metadata": {
        "colab_type": "text",
        "id": "T4FFxL1iWEIl"
      },
      "source": [
        "![logo_usjt.png](https://www.usjt.br/app/themes/mobister/dist/images/sao-judas-universidade.png)"
      ]
    },
    {
      "cell_type": "markdown",
      "metadata": {
        "colab_type": "text",
        "id": "n14P8A5QzMZ2"
      },
      "source": [
        "# Gerenciamento de Dados e Informação\n",
        "- **Professores**: \n",
        "- Anderson Sanches <anderson.sanches@saojudas.br>\n",
        "- Sergio Bonato <antonio.bonato@saojudas.br>"
      ]
    },
    {
      "cell_type": "markdown",
      "metadata": {
        "colab_type": "text",
        "id": "jx7VpamzjRpB"
      },
      "source": [
        "# Aula06 - Pandas para Análise e Tratamento de Dados\n",
        "\n",
        "**Conteúdo**\n",
        "- Leitura de dados\n",
        "- Filtros\n",
        "- Agregações\n",
        "- Agrupamentos\n",
        "- Pivot Tables\n",
        "- Estatísticas\n",
        "- Séries Temporais"
      ]
    },
    {
      "cell_type": "code",
      "metadata": {
        "colab_type": "code",
        "id": "2lGLhd4NW58p",
        "outputId": "5b94d50a-5551-4088-998c-972815a6734d",
        "colab": {
          "base_uri": "https://localhost:8080/",
          "height": 124
        }
      },
      "source": [
        "#configuração do notebook para acesso aos datasets\n",
        "from google.colab import drive\n",
        "drive.mount('/content/drive')\n",
        "path = '/content/drive/My Drive/aula_pandas/datasets'"
      ],
      "execution_count": 0,
      "outputs": [
        {
          "output_type": "stream",
          "text": [
            "Go to this URL in a browser: https://accounts.google.com/o/oauth2/auth?client_id=947318989803-6bn6qk8qdgf4n4g3pfee6491hc0brc4i.apps.googleusercontent.com&redirect_uri=urn%3aietf%3awg%3aoauth%3a2.0%3aoob&response_type=code&scope=email%20https%3a%2f%2fwww.googleapis.com%2fauth%2fdocs.test%20https%3a%2f%2fwww.googleapis.com%2fauth%2fdrive%20https%3a%2f%2fwww.googleapis.com%2fauth%2fdrive.photos.readonly%20https%3a%2f%2fwww.googleapis.com%2fauth%2fpeopleapi.readonly\n",
            "\n",
            "Enter your authorization code:\n",
            "··········\n",
            "Mounted at /content/drive\n"
          ],
          "name": "stdout"
        }
      ]
    },
    {
      "cell_type": "markdown",
      "metadata": {
        "colab_type": "text",
        "id": "dfggNq7YWYud"
      },
      "source": [
        "### PANDAS - Python Data Analysis Library\n",
        "\n",
        "\n",
        "*Wes McKinney* começou a criar o Pandas em 2008 quando trabalhava em uma empresa de gestão de investimentos. Em sua obra *Python para Análise de Dados* o nome da biblioteca deriva do termo de econometria **Panel Data** (Dados em Painel, em portugês),  referente a conjuntos de dados multidimensionais estruturados."
      ]
    },
    {
      "cell_type": "markdown",
      "metadata": {
        "colab_type": "text",
        "id": "J-CR7Bb2jRpD"
      },
      "source": [
        "### O que é pandas?\n",
        "\n",
        "Trata-se de uma biblioteca **Python** para **tratamento** e **análise de dados**. O Pandas possui dois objetos básicos: **Series** e **Dataframes**."
      ]
    },
    {
      "cell_type": "code",
      "metadata": {
        "colab_type": "code",
        "id": "3zaQowS9maiI",
        "colab": {}
      },
      "source": [
        "import pandas as pd\n",
        "pd.set_option('precision', 2)"
      ],
      "execution_count": 0,
      "outputs": []
    },
    {
      "cell_type": "markdown",
      "metadata": {
        "colab_type": "text",
        "id": "67lDKgZsMSn8"
      },
      "source": [
        "### Objetos\n"
      ]
    },
    {
      "cell_type": "markdown",
      "metadata": {
        "colab_type": "text",
        "id": "kCVy9juJjRpF"
      },
      "source": [
        "#### Series\n",
        "Series são *arrays* unidimensionais contendo dados associados a um índice.\n",
        "\n",
        "![alt text](https://raw.githubusercontent.com/asbonato/pandas/master/images/pd_Series.jpg)\n",
        "\n"
      ]
    },
    {
      "cell_type": "markdown",
      "metadata": {
        "colab_type": "text",
        "id": "Ljt4lI4qSUMS"
      },
      "source": [
        "**Exemplo 01:** Representação do IPCA\n",
        "\n",
        "\\\n",
        "\n",
        "INDICADOR | JAN/2019 | FEV/2019 | MAR/2019 | ABR/2019 | MAI/2019 | JUN/2019 | JUL/2019 | AGO/2019 | SET/2019 | OUT/2019\n",
        "---|---|---|---|---|---|---|---|---|---|---|\n",
        "IPCA | 0,32% | 0,43% | 0,75% | 0,57% | 0,13% | 0,01% | 0,19% | 0,11% | -0,04% | 0,06%\n",
        "\n",
        "\n",
        "\\"
      ]
    },
    {
      "cell_type": "code",
      "metadata": {
        "colab_type": "code",
        "id": "8_iiFDGBmC3i",
        "colab": {}
      },
      "source": [
        "# serie IPCA sem definição do índice\n",
        "ipca = pd.Series([0.32, 0.43, 0.75, 0.57, 0.13, 0.01, 0.19, 0.11, -0.04])\n",
        "ipca"
      ],
      "execution_count": 0,
      "outputs": []
    },
    {
      "cell_type": "code",
      "metadata": {
        "colab_type": "code",
        "id": "k-ipfauKmp-c",
        "colab": {}
      },
      "source": [
        "# serie IPCA com definição do índice\n",
        "ipca = pd.Series([0.32, 0.43, 0.75, 0.57, 0.13, 0.01, 0.19, 0.11, -0.04], \n",
        "                 index=['jan', 'fev', 'mar', 'abr', 'mai', 'jun', 'jul', 'ago', 'set'])\n",
        "ipca"
      ],
      "execution_count": 0,
      "outputs": []
    },
    {
      "cell_type": "markdown",
      "metadata": {
        "colab_type": "text",
        "id": "STRIOEBajRpH"
      },
      "source": [
        "#### Dataframes\n",
        "Dataframe é uma **estrutura tabular** contendo uma coleção ordenada de colunas. Cada coluna pode um tipo distinto de dado. Os Dataframes possuem índices tanto para colunas quanto para linhas e as operações são tratadas de forma simétrica nessas duas dimensões.\n",
        "\n",
        "![alt text](https://raw.githubusercontent.com/asbonato/pandas/master/images/pd_Dataframe.jpg)\n",
        "\n",
        "\\\n",
        "\n",
        "**Exemplo 02:** Representação de Indicadores Econômicos\n",
        "\n",
        "\\\n",
        "\n",
        "INDICADOR | JAN/2019 | FEV/2019 | MAR/2019 | ABR/2019 | MAI/2019 | JUN/2019 | JUL/2019 | AGO/2019 | SET/2019 | OUT/2019\n",
        "---|---|---|---|---|---|---|---|---|---|---|\n",
        "IPCA | 0,32% | 0,43% | 0,75% | 0,57% | 0,13% | 0,01% | 0,19% | 0,11% | -0,04% | 0,06%\n",
        "IGPM | 0,01% | 0,88% | 1,26% | 0,92% | 0,45% | 0,80% | 0,40% | -0,67% | -0,01% | 0,65%\n",
        "CDI | 0,54% | 0,49% | 0,47% | 0,52% | 0,54% | 0,47% | 0,57% | 0,50% | 0,47% | 0,25%\n",
        "IBOV | 10,82% | -1,86% | -0,18% | 0,98% | 0,70% | 4,06% | 0,84% | -0,67% | 3,57% | 0,65%\n",
        "\n",
        "\\"
      ]
    },
    {
      "cell_type": "code",
      "metadata": {
        "colab_type": "code",
        "id": "AMunmzgFItM4",
        "colab": {}
      },
      "source": [
        "# definicao dos dados em listas\n",
        "referencias = ['jan', 'fev', 'mar', 'abr', 'mai', 'jun', 'jul', 'ago', 'set']\n",
        "cdi = [0.54, 0.49, 0.47, 0.52, 0.54, 0.47, 0.57, 0.50, 0.46]\n",
        "ipca = [0.32, 0.43, 0.75, 0.57, 0.13, 0.01, 0.19, 0.11, -0.04]\n",
        "igpm = [0.01, 0.88, 1.26, 0.92, 0.45, 0.80, 0.40, -0.67, -0.01]"
      ],
      "execution_count": 0,
      "outputs": []
    },
    {
      "cell_type": "code",
      "metadata": {
        "colab_type": "code",
        "id": "Wf81jA5eJZNM",
        "colab": {}
      },
      "source": [
        "# criação do dataframe e definição do índice\n",
        "indicadores = pd.DataFrame(data={'IPCA': ipca, 'CDI': cdi, 'IGPM': igpm}, index=referencias)\n",
        "indicadores"
      ],
      "execution_count": 0,
      "outputs": []
    },
    {
      "cell_type": "markdown",
      "metadata": {
        "colab_type": "text",
        "id": "Fe2CTOww5Wtt"
      },
      "source": [
        "### Exercicio 01\n",
        "\n",
        "Criar um dataframe contendo todos os dados da tabela e definir como indice a referência mensal do indicador\n",
        "\n",
        "\\\n",
        "\n",
        "INDICADOR | JAN/2019 | FEV/2019 | MAR/2019 | ABR/2019 | MAI/2019 | JUN/2019 | JUL/2019 | AGO/2019 | SET/2019 | OUT/2019\n",
        "---|---|---|---|---|---|---|---|---|---|---|\n",
        "IPCA | 0,32% | 0,43% | 0,75% | 0,57% | 0,13% | 0,01% | 0,19% | 0,11% | -0,04% | 0,06%\n",
        "IGPM | 0,01% | 0,88% | 1,26% | 0,92% | 0,45% | 0,80% | 0,40% | -0,67% | -0,01% | 0,65%\n",
        "CDI | 0,54% | 0,49% | 0,47% | 0,52% | 0,54% | 0,47% | 0,57% | 0,50% | 0,47% | 0,25%\n",
        "IBOV | 10,82% | -1,86% | -0,18% | 0,98% | 0,70% | 4,06% | 0,84% | -0,67% | 3,57% | 0,65%\n",
        "\n",
        "\\"
      ]
    },
    {
      "cell_type": "code",
      "metadata": {
        "colab_type": "code",
        "id": "PaGgNl2marTx",
        "colab": {}
      },
      "source": [
        "# Implementacao Ex01\n",
        "referencias = ['jan', 'fev', 'mar', 'abr', 'mai', 'jun', 'jul', 'ago', 'set']\n",
        "cdi = [0.54, 0.49, 0.47, 0.52, 0.54, 0.47, 0.57, 0.50, 0.46]\n",
        "ipca = [0.32, 0.43, 0.75, 0.57, 0.13, 0.01, 0.19, 0.11, -0.04]\n",
        "igpm = [0.01, 0.88, 1.26, 0.92, 0.45, 0.80, 0.40, -0.67, -0.01]\n",
        "\n",
        "indica = pd.DataFrame(data=dict(zip(referencias,(zip(cdi, ipca, igpm)))), index=['CDI','IPCA','IGPM'])\n",
        "indica"
      ],
      "execution_count": 0,
      "outputs": []
    },
    {
      "cell_type": "markdown",
      "metadata": {
        "colab_type": "text",
        "id": "lLGorQ2fjRpJ"
      },
      "source": [
        "### Indexação\n",
        "\n",
        "Uma vez carregado o objeto Pandas, Serie ou Dataframe, podemos observar **subconjuntos** dos dados com linhas ou colunas específicas.  \n",
        "\n",
        "![alt text](https://raw.githubusercontent.com/asbonato/pandas/master/images/pd_Selection.jpg)"
      ]
    },
    {
      "cell_type": "markdown",
      "metadata": {
        "colab_type": "text",
        "id": "ieVOXSIobSYY"
      },
      "source": [
        "#### Índice Explicito\n",
        "\n",
        "Recuperação de dados utilizando o índice explícito do Dataframe ou Serie\n",
        "\n",
        "> *.loc[<seleção de linhas>, <seleção de colunas>]*"
      ]
    },
    {
      "cell_type": "code",
      "metadata": {
        "colab_type": "code",
        "id": "5LFYz8lKTzdd",
        "colab": {}
      },
      "source": [
        "indicadores"
      ],
      "execution_count": 0,
      "outputs": []
    },
    {
      "cell_type": "code",
      "metadata": {
        "colab_type": "code",
        "id": "goeAiJKgXcH4",
        "colab": {}
      },
      "source": [
        "# seleção de dados com índice \"set\"\n",
        "indicadores.loc[['set']]"
      ],
      "execution_count": 0,
      "outputs": []
    },
    {
      "cell_type": "code",
      "metadata": {
        "colab_type": "code",
        "id": "2w1phBPmZK11",
        "colab": {}
      },
      "source": [
        "# seleção de dados com índice \"mai\" na linha e \"IPCA\" na coluna\n",
        "indicadores.loc[['mai'], ['IPCA']]"
      ],
      "execution_count": 0,
      "outputs": []
    },
    {
      "cell_type": "code",
      "metadata": {
        "colab_type": "code",
        "id": "3AuvRIXpckdR",
        "colab": {}
      },
      "source": [
        "# seleção de dados com índices de \"mai\" até \"set\" na linha \"IPCA\" na coluna\n",
        "indicadores.loc['mai':'set', ['IPCA']]"
      ],
      "execution_count": 0,
      "outputs": []
    },
    {
      "cell_type": "code",
      "metadata": {
        "colab_type": "code",
        "id": "Kpeg1A_8cx9z",
        "colab": {}
      },
      "source": [
        "# seleção de dados com índices de \"fev\" até o final na linha e colunas \"IPCA\" e \"CDI\" \n",
        "indicadores.loc['fev':, ['IPCA', 'CDI']]"
      ],
      "execution_count": 0,
      "outputs": []
    },
    {
      "cell_type": "markdown",
      "metadata": {
        "colab_type": "text",
        "id": "btvNoaYJdO84"
      },
      "source": [
        "#### Índice Implícito\n",
        "\n",
        "Recuperação de dados utilizando o índice implícito do Dataframe ou Serie\n",
        "\n",
        "> *.iloc[<seleção de linhas>, <seleção de colunas>]*"
      ]
    },
    {
      "cell_type": "code",
      "metadata": {
        "colab_type": "code",
        "id": "ZHHP9T4rdWPM",
        "colab": {}
      },
      "source": [
        "# seleção dos dados na posição 0 do dataframe\n",
        "indicadores.iloc[[0]]"
      ],
      "execution_count": 0,
      "outputs": []
    },
    {
      "cell_type": "code",
      "metadata": {
        "colab_type": "code",
        "id": "mNRJKzxOdcl8",
        "colab": {}
      },
      "source": [
        "# seleção dos dados no intervalo de linhas de 1 até 3 e colunas nas poisções 0 e 2\n",
        "indicadores.iloc[1:4, [0,2]]"
      ],
      "execution_count": 0,
      "outputs": []
    },
    {
      "cell_type": "markdown",
      "metadata": {
        "colab_type": "text",
        "id": "L94Hq2xTXwoK"
      },
      "source": [
        "#### Apenas seleção de colunas"
      ]
    },
    {
      "cell_type": "code",
      "metadata": {
        "colab_type": "code",
        "id": "cP_bteFoduQ1",
        "colab": {}
      },
      "source": [
        "# seleção de colunas simplificada sem utilizar .loc ou .iloc\n",
        "indicadores[['IPCA', 'CDI']]"
      ],
      "execution_count": 0,
      "outputs": []
    },
    {
      "cell_type": "markdown",
      "metadata": {
        "colab_type": "text",
        "id": "4cFEAfhO6bFl"
      },
      "source": [
        "#### Exercicio 02.1\n",
        "\n",
        "Selecionar o IGP-M dos meses de fevereiro, junho e setembro"
      ]
    },
    {
      "cell_type": "code",
      "metadata": {
        "colab_type": "code",
        "id": "BnzxJqlTbz3Q",
        "colab": {}
      },
      "source": [
        "# Implementacao Ex02.1\n",
        "indicadores.loc[['fev','jun','set'],['IGPM']]"
      ],
      "execution_count": 0,
      "outputs": []
    },
    {
      "cell_type": "markdown",
      "metadata": {
        "colab_type": "text",
        "id": "Wg2hsaMS7KnY"
      },
      "source": [
        "#### Exercicio 02.2\n",
        "\n",
        "Selecionar o IPCA e o CDI dos meses de abril até agosto"
      ]
    },
    {
      "cell_type": "code",
      "metadata": {
        "colab_type": "code",
        "id": "1EqrDe6ScEt9",
        "colab": {}
      },
      "source": [
        "# Implementação Ex02.2\n",
        "indicadores.loc['abr':'ago',['IPCA','CDI']]"
      ],
      "execution_count": 0,
      "outputs": []
    },
    {
      "cell_type": "markdown",
      "metadata": {
        "colab_type": "text",
        "id": "tkOJhait780U"
      },
      "source": [
        "#### Exercicio 02.3\n",
        "Selecionar o valor de todos indicadores da linha 3"
      ]
    },
    {
      "cell_type": "code",
      "metadata": {
        "colab_type": "code",
        "id": "L9z989incR6E",
        "colab": {}
      },
      "source": [
        "# Implementação Ex02.3\n",
        "indicadores.iloc[3]"
      ],
      "execution_count": 0,
      "outputs": []
    },
    {
      "cell_type": "markdown",
      "metadata": {
        "colab_type": "text",
        "id": "TjszQ4ooYoUI"
      },
      "source": [
        "### Filtros\n",
        "\n",
        "A utilização de filtros permite a recuperação de dados que satisfazem uma **condição específica**\n",
        "\n",
        "![alt text](https://raw.githubusercontent.com/asbonato/pandas/master/images/pd_Filter.jpg)\n",
        "\n",
        "Pandas suporta os seguintes operadores básicos para filtro de dados\n",
        "\n",
        "> **Matemáticos: >, <, >=, <=, ==, !=**\n",
        "\n",
        "> **Lógicos: & (and), | (or), ~ (not)**\n",
        "\n",
        "> **Conjuntos: isin(valores)**\n",
        "\n",
        "\\\n",
        "*O resultado direto da aplicação do filtro é apresentado em um objeto Serie indicando quais índices satisfazem a operação**\n",
        "\n",
        "\n",
        "\n",
        "\n",
        "\n",
        "\n"
      ]
    },
    {
      "cell_type": "code",
      "metadata": {
        "colab_type": "code",
        "id": "KYCm1ObuwnvO",
        "colab": {}
      },
      "source": [
        "# relação do índice que satisfaz o critério de filtro\n",
        "indicadores['IPCA'] < 0"
      ],
      "execution_count": 0,
      "outputs": []
    },
    {
      "cell_type": "code",
      "metadata": {
        "colab_type": "code",
        "id": "Dq06WbKktnEw",
        "colab": {}
      },
      "source": [
        "# aplicação do filtro na recuperação dos dados\n",
        "indicadores[indicadores['IPCA'] < 0]"
      ],
      "execution_count": 0,
      "outputs": []
    },
    {
      "cell_type": "code",
      "metadata": {
        "colab_type": "code",
        "id": "Ap_C-Bjft_CP",
        "colab": {}
      },
      "source": [
        "# aplicação do filtro na recuperação dos dados\n",
        "indicadores[indicadores['IPCA'] >= 0.5]"
      ],
      "execution_count": 0,
      "outputs": []
    },
    {
      "cell_type": "code",
      "metadata": {
        "colab_type": "code",
        "id": "ZfqZoZN5uHpV",
        "colab": {}
      },
      "source": [
        "# combinação de filtros, importante usar ()\n",
        "indicadores[(indicadores['IPCA'] > 0.3) & (indicadores['CDI'] < 0.7)]"
      ],
      "execution_count": 0,
      "outputs": []
    },
    {
      "cell_type": "code",
      "metadata": {
        "colab_type": "code",
        "id": "M5WJQNwTu_z1",
        "colab": {}
      },
      "source": [
        "# combinacao de filtros e seleção de colunas\n",
        "indicadores.loc[(indicadores['IPCA'] > 0.3) & (indicadores['CDI'] < 0.7), ['IPCA', 'CDI']]"
      ],
      "execution_count": 0,
      "outputs": []
    },
    {
      "cell_type": "code",
      "metadata": {
        "colab_type": "code",
        "id": "ayUgVN_rTCEo",
        "colab": {}
      },
      "source": [
        "# listagem de linhas que estejam no conjunto [0.01, 0.43, -0.04]\n",
        "isin_filter = indicadores['IPCA'].isin([0.01, 0.43, -0.04])\n",
        "isin_filter"
      ],
      "execution_count": 0,
      "outputs": []
    },
    {
      "cell_type": "code",
      "metadata": {
        "colab_type": "code",
        "id": "IyqQ9qkexJ0o",
        "colab": {}
      },
      "source": [
        "# listagem dos dados que satisfazem o filtro\n",
        "indicadores[isin_filter]"
      ],
      "execution_count": 0,
      "outputs": []
    },
    {
      "cell_type": "markdown",
      "metadata": {
        "colab_type": "text",
        "id": "2Dww5I069IY_"
      },
      "source": [
        "#### Exercicio 03.1\n",
        "\n",
        "Apresentar todas as linhas nas quais um dos indicadores for menor que zero"
      ]
    },
    {
      "cell_type": "code",
      "metadata": {
        "colab_type": "code",
        "id": "qwU6CqsOdAXt",
        "colab": {}
      },
      "source": [
        "# Implementação Ex03.1\n",
        "indicadores[(indicadores['IPCA'] < 0) | (indicadores['IGPM'] < 0)]"
      ],
      "execution_count": 0,
      "outputs": []
    },
    {
      "cell_type": "markdown",
      "metadata": {
        "colab_type": "text",
        "id": "ioV5hswG9ufB"
      },
      "source": [
        "#### Exercicio 03.2\n",
        "\n",
        "Filtrar todos os registros nos quais o IGP-M é maior que o IPCA"
      ]
    },
    {
      "cell_type": "code",
      "metadata": {
        "colab_type": "code",
        "id": "bQByEBjkdK2k",
        "colab": {}
      },
      "source": [
        "# Implementação Ex03.2\n"
      ],
      "execution_count": 0,
      "outputs": []
    },
    {
      "cell_type": "markdown",
      "metadata": {
        "colab_type": "text",
        "id": "g63CT2VbSXcw"
      },
      "source": [
        "#### Exercício 03.3\n",
        "\n",
        "Apresentar todas os registros nos quais o IGPM é maior que o IPCA e o CDI"
      ]
    },
    {
      "cell_type": "code",
      "metadata": {
        "colab_type": "code",
        "id": "u6N-FKVwdeXZ",
        "colab": {}
      },
      "source": [
        "# Implementação Ex03.3\n",
        "\n"
      ],
      "execution_count": 0,
      "outputs": []
    },
    {
      "cell_type": "markdown",
      "metadata": {
        "colab_type": "text",
        "id": "wIrTUISeG19R"
      },
      "source": [
        "### Carga de Dados\n",
        "\\\n",
        "\n",
        "Pandas é capaz de carregar arquivos nos formatos **.csv, .json, .xslx (excel)** ou conectar-se diretamente a base de dados.\n",
        "\n",
        "\n",
        "\n",
        "> *pandas.read_csv(filepath_or_buffer, sep=',', delimiter=None, decimal=None, dtype=None, parse_dates=,...)*\n",
        "\n",
        "\n",
        "> *pandas.read_excel(filepath_or_buffer, sheet_name=0, ...)*\n",
        "\n",
        "> *pandas.read_sql(sql, con, index_col=None, coerce_float=True, params=None, columns=None)*\n",
        "\n",
        "\\"
      ]
    },
    {
      "cell_type": "code",
      "metadata": {
        "colab_type": "code",
        "id": "UddgJqM8Ht6X",
        "colab": {}
      },
      "source": [
        "# recuperacao de dados do banco central com arquivo em formato .csv\n",
        "url_or_filepath = 'http://api.bcb.gov.br/dados/serie/bcdata.sgs.4447/dados/ultimos/60?formato=csv'\n",
        "df_ipca = pd.read_csv(url_or_filepath)\n",
        "df_ipca.head(5)"
      ],
      "execution_count": 0,
      "outputs": []
    },
    {
      "cell_type": "markdown",
      "metadata": {
        "colab_type": "text",
        "id": "6yQrlCccejeo"
      },
      "source": [
        "#### Primeiras opções para **explorar** os dados\n",
        "\n",
        "\\\n",
        "Listar os tipos dos dados do dataset\n",
        "\n",
        "> dtypes\n",
        "\n",
        "Selecionar os primeiros *n* registros\n",
        "\n",
        "> *head(n)*\n",
        "\n",
        "Selecionar os últimos *n* registros\n",
        "\n",
        "> *tail(n)*\n",
        "\n",
        "Selecionar os *n* maiores registros de uma coluna\n",
        "\n",
        "> *nlargest(n, column)*\n",
        "\n",
        "Selecionar os *n* menores registros de uma coluna\n",
        "\n",
        "> nsmallest(n, column)\n",
        "\n",
        "Selecionar uma amostra dos dados\n",
        "\n",
        "> *sample(n=number_of_itens, frac=fraction)*\n",
        "\n",
        "\\"
      ]
    },
    {
      "cell_type": "code",
      "metadata": {
        "colab_type": "code",
        "id": "NnXYLn37g0rL",
        "colab": {}
      },
      "source": [
        "# Listagem dos tipos de dados inferidos na leitura do dataset\n",
        "df_ipca.dtypes"
      ],
      "execution_count": 0,
      "outputs": []
    },
    {
      "cell_type": "code",
      "metadata": {
        "colab_type": "code",
        "id": "N3nTh05mhJyM",
        "colab": {}
      },
      "source": [
        "# Leitura do dataset com especificação do separador de colunas e o separador decimal\n",
        "df_ipca = pd.read_csv(url_or_filepath, sep=';', decimal=',', parse_dates=['data'])\n",
        "df_ipca.head(5)"
      ],
      "execution_count": 0,
      "outputs": []
    },
    {
      "cell_type": "code",
      "metadata": {
        "colab_type": "code",
        "id": "Kcs42yXNhWgE",
        "colab": {}
      },
      "source": [
        "# Lisgatem dos tipos de dados inferidos após o ajuste na leitura do arquivo\n",
        "df_ipca.dtypes"
      ],
      "execution_count": 0,
      "outputs": []
    },
    {
      "cell_type": "code",
      "metadata": {
        "colab_type": "code",
        "id": "Kl-v9-tGheGM",
        "colab": {}
      },
      "source": [
        "# Listagem dos 5 menores valores do dataset\n",
        "df_ipca.nsmallest(5, 'valor')"
      ],
      "execution_count": 0,
      "outputs": []
    },
    {
      "cell_type": "markdown",
      "metadata": {
        "colab_type": "text",
        "id": "GgSvo58VPK20"
      },
      "source": [
        "#### Exercício 04.1\n",
        "\n",
        "Carregar corretamente os dados do arquivo *bolsa_vale.csv*"
      ]
    },
    {
      "cell_type": "code",
      "metadata": {
        "colab_type": "code",
        "id": "2bwg0lCjeJA7",
        "colab": {}
      },
      "source": [
        "# Implementação Ex03.1\n",
        "bolsa_vale = pd.read_csv(path+'/01-DS_VALE3_Cotacao.csv',  \n",
        "                         sep=';', decimal=',', parse_dates=['Date'])\n",
        "bolsa_vale.head(5)"
      ],
      "execution_count": 0,
      "outputs": []
    },
    {
      "cell_type": "code",
      "metadata": {
        "colab_type": "code",
        "id": "EmMz11tEbMqd",
        "colab": {}
      },
      "source": [
        "bolsa_vale.dtypes"
      ],
      "execution_count": 0,
      "outputs": []
    },
    {
      "cell_type": "markdown",
      "metadata": {
        "colab_type": "text",
        "id": "2JHF68q7PPCH"
      },
      "source": [
        "#### Exercício 04.2\n",
        "\n",
        "Gerar uma amostra aleatória com 10 registros do arquivo *bolsa_vale.csv*\n"
      ]
    },
    {
      "cell_type": "code",
      "metadata": {
        "colab_type": "code",
        "id": "ydSKDLa0fdwm",
        "colab": {}
      },
      "source": [
        "# Implementação Ex03.2\n",
        "bolsa_vale.sample(10)"
      ],
      "execution_count": 0,
      "outputs": []
    },
    {
      "cell_type": "markdown",
      "metadata": {
        "colab_type": "text",
        "id": "HyD7jL1LPW4W"
      },
      "source": [
        "#### Exercício 04.3\n",
        "\n",
        "Carregar corretamente os dados da aba 2 do arquivo *bec_exel_abas.xlsx*\n"
      ]
    },
    {
      "cell_type": "code",
      "metadata": {
        "colab_type": "code",
        "id": "jMsygfc7fi_h",
        "colab": {}
      },
      "source": [
        "# Implementação Ex03.3\n",
        "bec_abas = pd.read_excel(path+'/02-DS_BEC_abas.xlsx',\n",
        "                         sheet_name=1)\n",
        "bec_abas.head(5)"
      ],
      "execution_count": 0,
      "outputs": []
    },
    {
      "cell_type": "markdown",
      "metadata": {
        "colab_type": "text",
        "id": "FdJ18Axvofhq"
      },
      "source": [
        "### Agregação/Sumarização\n",
        "\n",
        "Uma parte essencial na análise de dados é a capacidade de sumarização de dados\n",
        "\n",
        "![alt text](https://raw.githubusercontent.com/asbonato/pandas/master/images/pd_Aggregation.jpg)\n",
        "\n",
        "Pandas suporta nativamente os seguintes operadores de agregação:\n",
        "\n",
        "| Agregação         | Descrição                            |\n",
        "|-------------------|--------------------------------------|\n",
        "| count()           | Número total de itens                |\n",
        "| first(), last()   | Primeiro e último ite, and last item |\n",
        "| mean(),  median() | Média e Mediana                      |\n",
        "| std(), var()\t    | Desvio Padrão e Variância            |\n",
        "| prod()\t          | Produto de todos os itens            |\n",
        "| sum()\t            | Soma de todos os itens               |\n",
        "\n",
        "\\\n"
      ]
    },
    {
      "cell_type": "code",
      "metadata": {
        "colab_type": "code",
        "id": "u8GZIPb0VhRw",
        "colab": {}
      },
      "source": [
        "indicadores"
      ],
      "execution_count": 0,
      "outputs": []
    },
    {
      "cell_type": "code",
      "metadata": {
        "colab_type": "code",
        "id": "lEWaK6Fzpsk4",
        "colab": {}
      },
      "source": [
        "# IPCA Acumulado (soma)\n",
        "indicadores['IPCA'].sum()"
      ],
      "execution_count": 0,
      "outputs": []
    },
    {
      "cell_type": "code",
      "metadata": {
        "colab_type": "code",
        "id": "wQOOjrSEnGTw",
        "colab": {}
      },
      "source": [
        "# Média de todos os indicadores\n",
        "indicadores.mean()"
      ],
      "execution_count": 0,
      "outputs": []
    },
    {
      "cell_type": "code",
      "metadata": {
        "colab_type": "code",
        "id": "bBgGLt6TpyTO",
        "colab": {}
      },
      "source": [
        "# Valor máximo de cada indicador\n",
        "indicadores.max()"
      ],
      "execution_count": 0,
      "outputs": []
    },
    {
      "cell_type": "code",
      "metadata": {
        "colab_type": "code",
        "id": "lCpg0DyNhayL",
        "colab": {}
      },
      "source": [
        "# Valor máximo dos indicadores no primeiro semestre\n",
        "indicadores.loc['jan':'jul'].min()"
      ],
      "execution_count": 0,
      "outputs": []
    },
    {
      "cell_type": "code",
      "metadata": {
        "colab_type": "code",
        "id": "Ux01SB7pP-_x",
        "colab": {}
      },
      "source": [
        "# descrição geral dos dados\n",
        "indicadores.describe()"
      ],
      "execution_count": 0,
      "outputs": []
    },
    {
      "cell_type": "markdown",
      "metadata": {
        "colab_type": "text",
        "id": "DrdMeDSufKA-"
      },
      "source": [
        "\\\n",
        "#### Agregações complementares para análise de dados\n",
        "\n",
        "> *.nunique()*: Quantifica elementos distintos de uma determinada dimensão\n",
        "\n",
        "> *.value_counts()* : Quantifica e lista os elementos de uma determinada dimensão\n",
        "\n",
        "\\\n",
        "\n",
        "\n",
        "Dataset BEC: https://www.ibec.fazenda.sp.gov.br/analytics/saw.dll?Portal"
      ]
    },
    {
      "cell_type": "code",
      "metadata": {
        "colab_type": "code",
        "id": "3x9qDmadfz83",
        "colab": {}
      },
      "source": [
        "# dados públicos da BEC para análise \n",
        "df_bec = pd.read_excel(path+'/03-DS_BEC.xlsx', error_bad_lines=False)\n",
        "df_bec = df_bec[['Cód Desc Órgão', 'Mês Ano Encerramento', 'Cod Desc Fornecedor', 'Descrição Procedimento Compra', 'Cod Desc Item', 'Quantidade de Item','Valor Unitário Negociado', 'Valor Total Negociado em R$']]\n",
        "# criando uma nova coluna\n",
        "df_bec['Valor Negociado Mi'] = df_bec['Valor Total Negociado em R$'] / 1000000\n",
        "df_bec.head(4)"
      ],
      "execution_count": 0,
      "outputs": []
    },
    {
      "cell_type": "code",
      "metadata": {
        "colab_type": "code",
        "id": "dqmIcCZ6gB3F",
        "colab": {}
      },
      "source": [
        "# contagem da quantidade de registros que cada órgão da administração é apresentado\n",
        "df_bec['Cód Desc Órgão'].value_counts().iloc[0:5]"
      ],
      "execution_count": 0,
      "outputs": []
    },
    {
      "cell_type": "code",
      "metadata": {
        "colab_type": "code",
        "id": "Pj2RKWonjZ72",
        "colab": {}
      },
      "source": [
        "# contagem de fornecedores únicos que participaram de licitações\n",
        "df_bec['Cod Desc Fornecedor'].nunique()"
      ],
      "execution_count": 0,
      "outputs": []
    },
    {
      "cell_type": "markdown",
      "metadata": {
        "colab_type": "text",
        "id": "UwR12v4LP6wT"
      },
      "source": [
        "#### Exercício 05.1\n",
        "\n",
        "Encontrar o valor médio unitário de aquisição do Item '4428692 - ACUCAR REFINADO'"
      ]
    },
    {
      "cell_type": "code",
      "metadata": {
        "colab_type": "code",
        "id": "jK8vTfJm5smn",
        "colab": {}
      },
      "source": [
        "# Implementação Ex05.1 - Dica: Filtrar os registros com o item desejado\n",
        "\n",
        "df_bec.loc[df_bec['Cod Desc Item'] == '4428692 - ACUCAR REFINADO',['Valor Unitário Negociado']].mean()"
      ],
      "execution_count": 0,
      "outputs": []
    },
    {
      "cell_type": "markdown",
      "metadata": {
        "colab_type": "text",
        "id": "qZ2NC9ZnQQLS"
      },
      "source": [
        "#### Exercício 05.2\n",
        "\n",
        "Encontrar o valor unitário máximo de aquisição do item '4428692 - ACUCAR REFINADO'"
      ]
    },
    {
      "cell_type": "code",
      "metadata": {
        "colab_type": "code",
        "id": "FFPdIIzC7egO",
        "colab": {}
      },
      "source": [
        "# Implementação Ex05.2 - Dica: Filtrar os registros com o item desejado\n",
        "\n",
        "df_bec.loc[df_bec['Cod Desc Item'] == '4428692 - ACUCAR REFINADO',['Valor Unitário Negociado']].max()"
      ],
      "execution_count": 0,
      "outputs": []
    },
    {
      "cell_type": "markdown",
      "metadata": {
        "colab_type": "text",
        "id": "-A4cuCqJRKnL"
      },
      "source": [
        "#### Exercício 05.3\n",
        "\n",
        "Contar quantos orgãos distintos que efetuaram licitações pela BEC"
      ]
    },
    {
      "cell_type": "code",
      "metadata": {
        "colab_type": "code",
        "id": "nEsRuPMV7t_x",
        "colab": {}
      },
      "source": [
        "# Implementação Ex05.3\n"
      ],
      "execution_count": 0,
      "outputs": []
    },
    {
      "cell_type": "markdown",
      "metadata": {
        "colab_type": "text",
        "id": "t0qyAS4Obj1S"
      },
      "source": [
        "### Agrupamento\n",
        "\n",
        "\n",
        "Todas as funções de agregação/sumarização podem ser aplicadas para grupos de dados. No Pandas, o agrupamento é realizado pela função:\n",
        "\n",
        "> *.groupby(by=None, axis=0, ...)*\n",
        "\n",
        "\n",
        "![alt text](https://raw.githubusercontent.com/asbonato/pandas/master/images/pd_Group.jpg)\n",
        "\n"
      ]
    },
    {
      "cell_type": "code",
      "metadata": {
        "colab_type": "code",
        "id": "vdg2z0xanzb_",
        "colab": {}
      },
      "source": [
        "df_bec.head(5)"
      ],
      "execution_count": 0,
      "outputs": []
    },
    {
      "cell_type": "code",
      "metadata": {
        "colab_type": "code",
        "id": "FuWkq8MqgdTC",
        "colab": {}
      },
      "source": [
        "# cálculo do total negociado agrupado por órgão (listagem dos 5 primeiros itens) #.style.format({'Valor Total Negociado em R$': \"{:+.2f}\"})\n",
        "df_bec.groupby('Cód Desc Órgão')[['Valor Negociado Mi']].sum().iloc[0:5]  "
      ],
      "execution_count": 0,
      "outputs": []
    },
    {
      "cell_type": "markdown",
      "metadata": {
        "colab_type": "text",
        "id": "pFX4p5uqsHxu"
      },
      "source": [
        "Pandas também permite a ordenação do dataframe a partir de um conjunto de colunas de interesse\n",
        "\n",
        "> *.sort_values(by=[colunas], ascending=True)*"
      ]
    },
    {
      "cell_type": "code",
      "metadata": {
        "colab_type": "code",
        "id": "VkqNTBIxdH0W",
        "colab": {}
      },
      "source": [
        "# listagem dos órgãoes e a soma do total negociado por licitação em ordem decrescente\n",
        "df_gastos_sec = df_bec.groupby('Cód Desc Órgão')[['Valor Negociado Mi']].sum().sort_values(by='Valor Negociado Mi', ascending=False)\n",
        "df_gastos_sec.iloc[0:6] #listagem de apenas 6 órgãos"
      ],
      "execution_count": 0,
      "outputs": []
    },
    {
      "cell_type": "code",
      "metadata": {
        "colab_type": "code",
        "id": "vTPfDuaUlfCP",
        "colab": {}
      },
      "source": [
        "# cálculo da quantidade total de itens negociada e o valor total negociado agrupada por órgão e procedimento de licitação\n",
        "df_gastos = df_bec.groupby(['Cód Desc Órgão', 'Descrição Procedimento Compra'])['Quantidade de Item','Valor Negociado Mi'].sum()\n",
        "df_gastos.sort_values(['Cód Desc Órgão','Descrição Procedimento Compra','Quantidade de Item'], ascending=False).iloc[0:6]"
      ],
      "execution_count": 0,
      "outputs": []
    },
    {
      "cell_type": "markdown",
      "metadata": {
        "colab_type": "text",
        "id": "wHvnDnNhtoe7"
      },
      "source": [
        "Definição de múltiplas funções de agragação\n",
        "> *agg(self, func, axis=0, *args, **kwargs*)"
      ]
    },
    {
      "cell_type": "code",
      "metadata": {
        "colab_type": "code",
        "id": "330LizdonblR",
        "colab": {}
      },
      "source": [
        "# sumarização do total negociado e a quantidade de itens distintos\n",
        "\n",
        "df_bec.groupby(['Cód Desc Órgão', 'Descrição Procedimento Compra']).agg(Itens_Unicos=('Cod Desc Item', 'nunique'), Valor_Total_Negociado=('Valor Negociado Mi', 'sum')).iloc[0:6]"
      ],
      "execution_count": 0,
      "outputs": []
    },
    {
      "cell_type": "code",
      "metadata": {
        "colab_type": "code",
        "id": "5vSTl8mP7GPL",
        "colab": {}
      },
      "source": [
        "# multiplas agregacoes para uma mesma coluna\n",
        "df_bec.groupby('Cod Desc Item')['Valor Unitário Negociado'].agg(['min', 'max', 'count','mean', 'std']).head(5)"
      ],
      "execution_count": 0,
      "outputs": []
    },
    {
      "cell_type": "code",
      "metadata": {
        "colab_type": "code",
        "id": "5sLAHa8Aje0r",
        "colab": {}
      },
      "source": [
        "df_bec.head(1)"
      ],
      "execution_count": 0,
      "outputs": []
    },
    {
      "cell_type": "markdown",
      "metadata": {
        "colab_type": "text",
        "id": "BAA9jztkRcZF"
      },
      "source": [
        "#### Exercício 06.1\n",
        "\n",
        "Calcular o valor total negociado por fornecedor listando apenas os 5 maiores valores"
      ]
    },
    {
      "cell_type": "code",
      "metadata": {
        "colab_type": "code",
        "id": "wNfloebm9wUQ",
        "colab": {}
      },
      "source": [
        "# Implementação Ex06.1\n",
        "df_gastos_forn = df_bec.groupby('Cod Desc Fornecedor')[['Valor Negociado Mi']].sum().sort_values(by='Valor Negociado Mi', ascending=False)\n",
        "df_gastos_forn.iloc[0:5] #listagem de apenas 5 maiores"
      ],
      "execution_count": 0,
      "outputs": []
    },
    {
      "cell_type": "markdown",
      "metadata": {
        "colab_type": "text",
        "id": "JN5l3d7rR52V"
      },
      "source": [
        "#### Exercício 06.2\n",
        "\n",
        "Calcular a quantidade de fornecedores de cada órgão distribuídos nos tipos distintos de procedimentos de compra. Listar apenas 6 registros"
      ]
    },
    {
      "cell_type": "code",
      "metadata": {
        "colab_type": "code",
        "id": "wpd_x1j9_XJv",
        "colab": {}
      },
      "source": [
        "# Implementação Exercício 05.2\n"
      ],
      "execution_count": 0,
      "outputs": []
    },
    {
      "cell_type": "markdown",
      "metadata": {
        "colab_type": "text",
        "id": "T4rhvInbim5C"
      },
      "source": [
        "### Pivot Table\n",
        "\n",
        "Equivalente à função *pivot table* do excel. A função permite a sumarização de dados de colunas e linhas simultaneamente.\n",
        "\n",
        "\n",
        "![alt text](https://raw.githubusercontent.com/asbonato/pandas/master/images/pd_Pivot.jpg)\n",
        "\n",
        "Pandas permite o redimensionamento dos dados através da função"
      ]
    },
    {
      "cell_type": "markdown",
      "metadata": {
        "colab_type": "text",
        "id": "N9fvpXcEb-zr"
      },
      "source": [
        "> *pivot_table(data, values=None, index=None, columns=None, aggfunc='mean', fill_value=None, margins=False, dropna=True, margins_name='All', observed=False)*"
      ]
    },
    {
      "cell_type": "code",
      "metadata": {
        "colab_type": "code",
        "id": "RdXujApuxNPq",
        "colab": {}
      },
      "source": [
        "# determinação do valor total negociado por tipo de procedimento de compra\n",
        "df_bec.pivot_table(values=['Valor Negociado Mi'], columns='Descrição Procedimento Compra', aggfunc='sum')"
      ],
      "execution_count": 0,
      "outputs": []
    },
    {
      "cell_type": "code",
      "metadata": {
        "colab_type": "code",
        "id": "tB0b6Iy1ygmA",
        "colab": {}
      },
      "source": [
        "# pivot com definição de mais de um valor de interesse\n",
        "df_bec.pivot_table(values=['Valor Negociado Mi', 'Quantidade de Item'], columns='Descrição Procedimento Compra', aggfunc='sum')"
      ],
      "execution_count": 0,
      "outputs": []
    },
    {
      "cell_type": "code",
      "metadata": {
        "colab_type": "code",
        "id": "YtzjFpDNy9k1",
        "colab": {}
      },
      "source": [
        "#pivot table com multiplas funções de agragação\n",
        "df_bec.pivot_table(values=['Valor Negociado Mi', 'Quantidade de Item'], columns='Descrição Procedimento Compra', \n",
        "                   aggfunc={'Valor Negociado Mi': ['sum', 'max']})"
      ],
      "execution_count": 0,
      "outputs": []
    },
    {
      "cell_type": "code",
      "metadata": {
        "colab_type": "code",
        "id": "Vixz1SuILlvh",
        "colab": {}
      },
      "source": [
        "df_bec.head(2)"
      ],
      "execution_count": 0,
      "outputs": []
    },
    {
      "cell_type": "markdown",
      "metadata": {
        "colab_type": "text",
        "id": "eU3R3dlBSCW4"
      },
      "source": [
        "#### Exercício 07.1\n",
        "\n",
        "Calcular o valor total negociado em cada encerramento de mês. O encerramento do mês deve ser apresentado como coluna. Utilizar o total negociado em milhões (Valor Negociado Mi).\n",
        "\n"
      ]
    },
    {
      "cell_type": "code",
      "metadata": {
        "colab_type": "code",
        "id": "rCZJDovFBlxQ",
        "colab": {}
      },
      "source": [
        "# Implementação Ex07.1\n",
        "#\n",
        "#"
      ],
      "execution_count": 0,
      "outputs": []
    },
    {
      "cell_type": "markdown",
      "metadata": {
        "colab_type": "text",
        "id": "rW2NJF2OjRpL"
      },
      "source": [
        "## Series Temporais\n",
        "\n",
        "Pandas foi desenvolvido em um contexto de análise financeira e possui uma lista extensiva de ferramentas para simplificar a manipulação de séries temporais.\n",
        "\n",
        "![alt text](https://raw.githubusercontent.com/asbonato/pandas/master/images/pd_Timeseries.jpg)\n",
        "\n"
      ]
    },
    {
      "cell_type": "markdown",
      "metadata": {
        "colab_type": "text",
        "id": "3yyIcLzaOzfC"
      },
      "source": [
        "### Intervalos de Dados\n",
        "\n",
        "Geração de intervalos de dados\n",
        "\n",
        "> *pd.date_range(start, end, periods, freq)*\n",
        "\n",
        "| Frequencia         | Descrição                            |\n",
        "|-------------------|--------------------------------------|\n",
        "| D           | Dias                |\n",
        "| M   | Mês |\n",
        "| Y | Ano                      |\n",
        "| W\t    | Semanas            |\n",
        "| MS\t            | Primeiro dia do mês              |\n",
        "\n"
      ]
    },
    {
      "cell_type": "code",
      "metadata": {
        "colab_type": "code",
        "id": "V3sU7ShBP3zJ",
        "colab": {}
      },
      "source": [
        "# geração de intevalo de datas com 10 dias\n",
        "pd.date_range('2019-01-01', freq='D', periods=10)"
      ],
      "execution_count": 0,
      "outputs": []
    },
    {
      "cell_type": "code",
      "metadata": {
        "colab_type": "code",
        "id": "hoOlasV-MUKP",
        "colab": {}
      },
      "source": [
        "# geração de intervalo de dadas com 9 anos\n",
        "pd.date_range('2010-01-01', freq='Y', periods=9)"
      ],
      "execution_count": 0,
      "outputs": []
    },
    {
      "cell_type": "markdown",
      "metadata": {
        "colab_type": "text",
        "id": "reAeb9i-O_Np"
      },
      "source": [
        "### Indexação pela dimensão temporal"
      ]
    },
    {
      "cell_type": "code",
      "metadata": {
        "colab_type": "code",
        "id": "58Co7Q8ZSrNA",
        "colab": {}
      },
      "source": [
        "# recuperação da cotação da VALE3\n",
        "from pandas_datareader import data\n",
        "df_vale3 = data.DataReader('VALE3.SA', start='2010', end='2020', data_source='yahoo')\n",
        "df_vale3.tail()"
      ],
      "execution_count": 0,
      "outputs": []
    },
    {
      "cell_type": "code",
      "metadata": {
        "colab_type": "code",
        "id": "RPO2CnSeKQyt",
        "colab": {}
      },
      "source": [
        "# visualizacao simples da serie em 2019\n",
        "df_vale3.loc['2019', ['Close']].plot()"
      ],
      "execution_count": 0,
      "outputs": []
    },
    {
      "cell_type": "code",
      "metadata": {
        "colab_type": "code",
        "id": "JBNih3dMddF2",
        "colab": {}
      },
      "source": [
        "# cotação da VALE3 em 01/08/2019\n",
        "df_vale3.loc['2019-08-01']"
      ],
      "execution_count": 0,
      "outputs": []
    },
    {
      "cell_type": "code",
      "metadata": {
        "colab_type": "code",
        "id": "awtq1n1qUH7C",
        "colab": {}
      },
      "source": [
        "# cotação da VALE3 em agosto\n",
        "df_vale3.loc['2019-08'].tail(5)"
      ],
      "execution_count": 0,
      "outputs": []
    },
    {
      "cell_type": "markdown",
      "metadata": {
        "colab_type": "text",
        "id": "W8wg8uyKNT3s"
      },
      "source": [
        "### Resample\n",
        "\n",
        "Método para conversão de frequência temporal nas séries\n",
        "\n",
        ".*resample(rule)*"
      ]
    },
    {
      "cell_type": "code",
      "metadata": {
        "colab_type": "code",
        "id": "HZtlIQX7VI4A",
        "colab": {}
      },
      "source": [
        "# mudança da frequencia temporal de dias para anos utilizando a média dos valores\n",
        "df_vale3.resample('Y').mean().tail(5)"
      ],
      "execution_count": 0,
      "outputs": []
    },
    {
      "cell_type": "code",
      "metadata": {
        "colab_type": "code",
        "id": "-5bWRs0OWG3u",
        "colab": {}
      },
      "source": [
        "# mudança da frequencia temporal para anos utilizando o último valor de cada período\n",
        "df_vale3.resample('Y').last().tail(5)"
      ],
      "execution_count": 0,
      "outputs": []
    },
    {
      "cell_type": "markdown",
      "metadata": {
        "colab_type": "text",
        "id": "ZFeGMNZsTmf8"
      },
      "source": [
        "### Shift\n",
        "\n",
        "Deslocamento da série em uma quantidade de períodos determinada\n",
        "\n",
        "> *.shift(periods=,fill_value=None)*\n"
      ]
    },
    {
      "cell_type": "code",
      "metadata": {
        "colab_type": "code",
        "id": "EtT_SLLuSt_h",
        "colab": {}
      },
      "source": [
        "# listagem dos valores de fechamento para comparação\n",
        "df_vale3['Close'].head(5)"
      ],
      "execution_count": 0,
      "outputs": []
    },
    {
      "cell_type": "code",
      "metadata": {
        "colab_type": "code",
        "id": "PAqYFqAlSclX",
        "colab": {}
      },
      "source": [
        "# deslocamento do valor de fechamento em um período\n",
        "s_close = df_vale3['Close'].shift(1, fill_value=0)\n",
        "s_close.head(5)"
      ],
      "execution_count": 0,
      "outputs": []
    },
    {
      "cell_type": "markdown",
      "metadata": {
        "colab_type": "text",
        "id": "2jZS7eOxTqmk"
      },
      "source": [
        "### Window\n"
      ]
    },
    {
      "cell_type": "code",
      "metadata": {
        "colab_type": "code",
        "id": "Q5KSoXhqQh2K",
        "colab": {}
      },
      "source": [
        "# cálculo da média móvel dos valor de fechamento \n",
        "media_movel = df_vale3['Close'].rolling(7).mean()\n",
        "media_movel.tail(5)"
      ],
      "execution_count": 0,
      "outputs": []
    },
    {
      "cell_type": "code",
      "metadata": {
        "colab_type": "code",
        "id": "kHKsvxYzQ3vk",
        "colab": {}
      },
      "source": [
        "# armazenamento da média móvel no dataframe\n",
        "df_vale3['MA'] = media_movel\n",
        "df_vale3.tail(10)"
      ],
      "execution_count": 0,
      "outputs": []
    },
    {
      "cell_type": "markdown",
      "metadata": {
        "colab_type": "text",
        "id": "r5HiA9FmSRYe"
      },
      "source": [
        "#### Exercício 08.1\n",
        "\n",
        "Criar uma coluna com o valor da média móvel de 10 períodos da VALE3 baseado no valor de fechamento."
      ]
    },
    {
      "cell_type": "code",
      "metadata": {
        "colab_type": "code",
        "id": "u-dUtWnJQ3IO",
        "colab": {}
      },
      "source": [
        "# Implementação\n",
        "#\n",
        "#"
      ],
      "execution_count": 0,
      "outputs": []
    },
    {
      "cell_type": "code",
      "metadata": {
        "colab_type": "code",
        "id": "pyQqCZLzWEK6",
        "colab": {}
      },
      "source": [
        ""
      ],
      "execution_count": 0,
      "outputs": []
    }
  ]
}