{
 "cells": [
  {
   "cell_type": "markdown",
   "metadata": {
    "collapsed": true
   },
   "source": [
    "# LISTA DE PYTHON\n",
    "## Rhuan Carlos da Costa - RA: 81714425"
   ]
  },
  {
   "cell_type": "markdown",
   "metadata": {},
   "source": [
    "### Lista de Exercícios 02"
   ]
  },
  {
   "cell_type": "markdown",
   "metadata": {},
   "source": [
    "#### 1 Faça um Programa que peça o raio de um círculo, calcule e mostre sua área. "
   ]
  },
  {
   "cell_type": "code",
   "execution_count": null,
   "metadata": {},
   "outputs": [],
   "source": [
    "pi = 3.14\n",
    "r = float(input(\"digite o raio\"))\n",
    "circuloArea = pi * r**2\n",
    "\n",
    "print(circuloArea)"
   ]
  },
  {
   "cell_type": "markdown",
   "metadata": {},
   "source": [
    "#### 2  Faça um Programa que calcule a área de um quadrado, em seguida mostre o dobro desta área para o usuário. "
   ]
  },
  {
   "cell_type": "code",
   "execution_count": null,
   "metadata": {},
   "outputs": [],
   "source": [
    "lado = float(input(\"digite o lado do quadrado \"))\n",
    "areaQuadrado = lado**2\n",
    "areaQuadradoDobro = areaQuadrado * 2\n",
    "print(\"Area do quadrado:\",areaQuadrado, \"\\n\", \"Dobro da area:\", areaQuadradoDobro)"
   ]
  },
  {
   "cell_type": "markdown",
   "metadata": {},
   "source": [
    "#### 3 Faça um Programa que pergunte quanto você ganha por hora e o número de horas trabalhadas no mês. Calcule e mostre o total do seu salário no referido mês."
   ]
  },
  {
   "cell_type": "code",
   "execution_count": null,
   "metadata": {},
   "outputs": [],
   "source": [
    "salario = float(input(\"Digite o seu salario: \"))\n",
    "diasUteis = float(input(\"Digite os dias uteis trabalhados no mês\"))\n",
    "horasDiarias = float(input(\"Digite as horas trabalhadas\"))\n",
    "\n",
    "ganhoPorHora = salario / (horasDiarias*diasUteis)\n",
    "\n",
    "print('Ganhos por hora: R${:.2f}'.format(ganhoPorHora))"
   ]
  },
  {
   "cell_type": "markdown",
   "metadata": {},
   "source": [
    "#### 4 Faça um Programa que peça a temperatura em graus Farenheit, transforme e mostre a temperatura em graus Celsius. C = (5 * (F-32) / 9)."
   ]
  },
  {
   "cell_type": "code",
   "execution_count": null,
   "metadata": {},
   "outputs": [],
   "source": [
    "temperatura = float(input(\"Digite a temperatura: \"))\n",
    "\n",
    "conversaoCelsius = (5 * (temperatura - 32)) / 9\n",
    "\n",
    "print('Graus Celcius: {:.1f}'.format(conversaoCelsius) +'º')"
   ]
  },
  {
   "cell_type": "markdown",
   "metadata": {},
   "source": [
    "#### 5 Faça um Programa que peça a temperatura em graus Celsius, transforme e mostre em graus Farenheit. "
   ]
  },
  {
   "cell_type": "code",
   "execution_count": null,
   "metadata": {},
   "outputs": [],
   "source": [
    "temperaturaCelcius = float(input(\"Digite a temperatura: \"))\n",
    "\n",
    "conversaoFarenheit = (temperaturaCelcius * (9 / 5) + 32)\n",
    "\n",
    "print ('Graus Farenheit: {:.1f}'.format(conversaoFarenheit)+'º')"
   ]
  },
  {
   "cell_type": "markdown",
   "metadata": {},
   "source": [
    "#### 6 Faça um Programa que peça 2 números inteiros e um número real. Calcule e mostre: \n",
    "- o produto do dobro do primeiro com metade do segundo . \n",
    "- a soma do triplo do primeiro com o terceiro. \n",
    "- o terceiro elevado ao cubo. "
   ]
  },
  {
   "cell_type": "code",
   "execution_count": null,
   "metadata": {},
   "outputs": [],
   "source": [
    "while True:\n",
    "    try:\n",
    "        num = int(input(\"Digite um numero inteiro: \"))\n",
    "        if isinstance(num, float):\n",
    "            raise ValueError(\"Numero escolhido\", num)\n",
    "    except ValueError as e:\n",
    "        print(\"Apenas numeros inteiros por favor!\")\n",
    "    else:\n",
    "        break\n",
    "        \n",
    "while True:\n",
    "    try:\n",
    "        num2 = int(input(\"Digite outro numero inteiro: \"))\n",
    "        if isinstance(num2, float):\n",
    "            raise ValueError(\"Numero escolhido\", num2)\n",
    "    except ValueError as e:\n",
    "        print(\"Apenas numeros inteiros por favor!\")\n",
    "    else:\n",
    "        break\n",
    "        \n",
    "\n",
    "num3 = float(input(\"Digite um numero: \"))\n",
    "    \n",
    "print(\"Numeros escolhidos: \", num, num2, num3)\n",
    "print(\"Produto do dobro do primeiro com metade do segundo: \", (num*2) * (num2/2))\n",
    "print(\"Soma do triplo do primeiro com o terceiro: \", (num*3) + num3)\n",
    "print(\"O terceiro elevado ao cubo: \", num3**3)"
   ]
  },
  {
   "cell_type": "markdown",
   "metadata": {},
   "source": [
    "#### 7 João Papo-de-Pescador, homem de bem, comprou um microcomputador para controlar o rendimento diário de seu trabalho. Toda vez que ele traz um peso de peixes maior que o estabelecido pelo regulamento de pesca do estado de São Paulo (50 quilos) deve pagar uma multa de R$ 4,00 por quilo excedente. João precisa que você faça um programa que leia a variável peso (peso de peixes) e verifique se há excesso. Se houver, gravar na variável excesso e na variável multa o valor da multa que João deverá pagar. Caso contrário mostrar tais variáveis com o conteúdo ZERO. "
   ]
  },
  {
   "cell_type": "code",
   "execution_count": null,
   "metadata": {},
   "outputs": [],
   "source": [
    "pesoPeixes = float(input(\"Digite o peso dos peixes: \"))\n",
    "\n",
    "\n",
    "if pesoPeixes > 50:\n",
    "    print(\"O peso dos peixes passou de 50kg! Calculando multa...\")\n",
    "    pesoExcedente = pesoPeixes - 50\n",
    "    multa = pesoExcedente * 4\n",
    "    print(\"Peso excedente: \", pesoExcedente, \"\\nMulta: R$\", multa)\n",
    "else:\n",
    "    print(\"O peso dos peixes está dentro do regulamento!\")\n",
    "    pesoExcedente = 0\n",
    "    multa = 0\n",
    "    print(\"Peso excedente: \", pesoExcedente, \"\\nMulta: R$\", multa)"
   ]
  },
  {
   "cell_type": "markdown",
   "metadata": {
    "collapsed": true
   },
   "source": [
    "#### 8 Faça um Programa que pergunte quanto você ganha por hora e o número de horas trabalhadas no mês. Calcule e mostre o total do seu salário no referido mês, sabendo-se que são descontados 11% para o Imposto de Renda, 8% para o INSS e 5%para o sindicato, faça um programa que nos dê:\n",
    "- salário bruto.\n",
    "- quanto pagou ao INSS.\n",
    "- quanto pagou ao sindicato.\n",
    "- o salário líquido.\n",
    "- calcule os descontos e o salário líquido, conforme a tabela abaixo:\n",
    "- Salário Bruto : \n",
    "- IR (11%) : \n",
    "- INSS (8%) : \n",
    "- Sindicato ( 5%) : \n",
    "- Salário Liquido : \n",
    "- Obs.: Salário Bruto - Descontos = Salário Líquido."
   ]
  },
  {
   "cell_type": "code",
   "execution_count": null,
   "metadata": {},
   "outputs": [],
   "source": [
    "salarioHora = float(input(\"Digite o quanto você ganha por hora: \"))\n",
    "horasTrabalhadas = int(input(\"Digite quantas horas trabalha no mês: \"))\n",
    "\n",
    "salarioBruto = salarioHora * horasTrabalhadas\n",
    "print(\"Total ganho no mês: R$\", salarioBruto)\n",
    "\n",
    "ir = salarioBruto * 0.11\n",
    "inss = salarioBruto * 0.08\n",
    "sindicato = salarioBruto * 0.05\n",
    "salarioLiquido = salarioBruto - (ir + inss + sindicato)\n",
    "\n",
    "print(\"Salario bruto:\", salarioBruto, \"\\nIR:\", ir, \"\\nINSS:\", inss, \"\\nSindicato:\", sindicato,\n",
    "      \"\\nSalario Liquido:\", salarioLiquido)"
   ]
  },
  {
   "cell_type": "markdown",
   "metadata": {},
   "source": [
    "#### 9 Faça um programa que leia 2 strings e informe o conteúdo delas seguido do seu comprimento. Informe também se as duas strings possuem o mesmo comprimento e são iguais ou diferentes no conteúdo. Exemplo: String 1: Brasil Hexa 2018 String 2: Brasil! Hexa 2018! Tamanho de \"Brasil Hexa 2018\": 16 caracteres Tamanho de \"Brasil! Hexa 2018!\": 18 caracteres As duas strings são de tamanhos diferentes. As duas strings possuem conteúdo diferente."
   ]
  },
  {
   "cell_type": "code",
   "execution_count": null,
   "metadata": {},
   "outputs": [],
   "source": [
    "str1 = input(\"Digite alguma coisa: \")\n",
    "str2 = input(\"Digite outra coisa: \")\n",
    "\n",
    "print(\"String 1: \" + str1 + \"\\nString 2: \" + str2)\n",
    "print(\"A string 1 tem\", len(str1), \"caracteres\")\n",
    "print(\"A string 2 tem\", len(str2), \"caracteres\")\n",
    "\n",
    "if len(str1) == len(str2):\n",
    "    print(\"As strings possuem o mesmo tamanho!\")\n",
    "else:\n",
    "    print(\"As strings possuem tamanhos diferentes\")\n",
    "    \n",
    "if str1 == str2:\n",
    "    print(\"As strings possuem o mesmo conteudo\")\n",
    "else: \n",
    "    print(\"As strings não possuem o mesmo conteudo\")"
   ]
  },
  {
   "cell_type": "markdown",
   "metadata": {},
   "source": [
    "#### 10 Faça um programa que permita ao usuário digitar o seu nome e em seguida mostre o nome do usuário de trás para frente utilizando somente letras maiúsculas. Dica: lembre−se que ao informar o nome o usuário pode digitar letras maiúsculas ou minúsculas. Observação: não use loops."
   ]
  },
  {
   "cell_type": "code",
   "execution_count": null,
   "metadata": {},
   "outputs": [],
   "source": [
    "str = input(\"Digite seu nome: \")\n",
    "print(\"Seu nome é: \" + str)\n",
    "strContra = str[::-1]\n",
    "print(\"Seu nome ao contrario: \" + strContra.upper())"
   ]
  },
  {
   "cell_type": "markdown",
   "metadata": {},
   "source": [
    "#### 11 Faça um programa que solicite a data de nascimento (dd/mm/aaaa) do usuário eimprima a data com o nome do mês por extenso. Data de Nascimento: 29/10/1973 Você nasceu em 29 de Outubro de 1973. Obs.: Não use desvio condicional nem loops."
   ]
  },
  {
   "cell_type": "code",
   "execution_count": null,
   "metadata": {},
   "outputs": [],
   "source": [
    "listaMeses = {1: 'Janeiro', 2: 'Fevereiro', 3: 'Março', 4: 'Abril', 5: 'Maio', 6: 'Junho', 7: 'Julho', 8: 'Agosto', \n",
    "              9: 'Setembro', 10: 'Outubro', 11: 'Novembro', 12: 'Dezembro'}\n",
    "\n",
    "dia = input(\"Digite seu dia de nascimento: \")\n",
    "mes = input(\"Digite seu mês de nascimento: \")\n",
    "ano = input(\"Digite seu ano de nascimento: \")\n",
    "dataNascimento = dia, mes, ano\n",
    "\n",
    "data = print (\"\\nSua data de nascimento é: %s/%s/%s\" % (dia, mes, ano), \"\\nVocê nasceu dia: %s\" %(dia),\n",
    "              \"de %s\" %(listaMeses[int(mes)]), \"de %s\" %(ano))"
   ]
  },
  {
   "cell_type": "markdown",
   "metadata": {},
   "source": [
    "#### 12 Leet é uma forma de se escrever o alfabeto latino usando outros símbolos emlugar das letras, como números por exemplo. A própria palavra leet admite muitas variações, como l33t ou 1337. O uso do leet reflete uma subcultura relacionada ao mundo dos jogos de computador e internet, sendo muito usada para confundir os iniciantes e afirmar-se como parte de um grupo. Pesquise sobre as principais formas de traduzir as letras. Depois, faça um programa que peça uma texto e transforme-o para a grafia leet speak."
   ]
  },
  {
   "cell_type": "code",
   "execution_count": null,
   "metadata": {},
   "outputs": [],
   "source": [
    "msg = \"lorem ipsum dolor sit amet\"\n",
    "recebemsg = msg.lower()\n",
    "\n",
    "recebemsg = recebemsg.replace('a', str(4))\n",
    "recebemsg = recebemsg.replace('e', str(3))\n",
    "recebemsg = recebemsg.replace('o', str(0))\n",
    "recebemsg = recebemsg.replace('g', str(6))\n",
    "recebemsg = recebemsg.replace('i', '!')\n",
    "recebemsg = recebemsg.replace('j', str(9))\n",
    "recebemsg = recebemsg.replace('l', str(1))\n",
    "recebemsg = recebemsg.replace('s', str(5))\n",
    "recebemsg = recebemsg.replace('t', str(7))\n",
    "recebemsg = recebemsg.replace('u', 'v')\n",
    "recebemsg = recebemsg.replace('z', str(2))\n",
    "\n",
    "print (\"Leet Speak: \", recebemsg)\n",
    "print (\"Mensagem traduzida:\", msg)"
   ]
  },
  {
   "cell_type": "markdown",
   "metadata": {},
   "source": [
    "13 Crie um programa que recebe uma lista de números e\n",
    "- retorne o maior elemento\n",
    "- retorne a soma dos elementos\n",
    "- retorne o número de ocorrências do primeiro elemento da lista\n",
    "- retorne a média dos elementos\n",
    "- retorne o valor mais próximo da média dos elementos\n",
    "- retorne a soma dos elementos com valor negativo\n",
    "- retorne a quantidade de vizinhos iguais"
   ]
  },
  {
   "cell_type": "code",
   "execution_count": null,
   "metadata": {},
   "outputs": [],
   "source": [
    "lista = [1,2,3,4,5,6,7,8,9,0]\n",
    "media = sum(lista)/len(lista)\n",
    "print('O Maior elemento é: ',max(lista))\n",
    "print('A soma dos elementos é: ',sum(lista))\n",
    "print('O número de ocorrências do primeiro elemento é: ', lista.count(lista[0]))\n",
    "print('A média dos elementos é: ', media)\n",
    "print('Valor mais proximo da media: ', round(media))\n",
    "print('A soma dos elementos em valor negativo é: ',-(sum(lista)))\n",
    "print('O número de vizinhos iguais: ', lista.count(lista[0]))"
   ]
  },
  {
   "cell_type": "markdown",
   "metadata": {},
   "source": [
    "#### 14 Faça um programa que receba duas listas e retorne True se são iguais ou False caso contrario. Duas listas são iguais se possuem os mesmos valores e na mesma ordem."
   ]
  },
  {
   "cell_type": "code",
   "execution_count": null,
   "metadata": {},
   "outputs": [],
   "source": [
    "l1 = [1,2,3,4,5]\n",
    "l2 = [1,2,3,5,5]\n",
    "l3 = [1,2,3,4,5]\n",
    "#l1[:len(l1)] == l2[:len(l2)] This is false\n",
    "l1[:len(l1)] == l3[:len(l2)] # This is true"
   ]
  },
  {
   "cell_type": "markdown",
   "metadata": {},
   "source": [
    "#### 15 Faça um programa que receba duas listas e retorne True se têm os mesmos elementos ou False caso contrário Duas listas possuem os mesmos elementos quando são compostas pelos mesmos valores, mas não obrigatoriamente na mesma ordem."
   ]
  },
  {
   "cell_type": "code",
   "execution_count": null,
   "metadata": {},
   "outputs": [],
   "source": [
    "l1 = [1,2,3,4]\n",
    "l2 = [4,3,2,1]\n",
    "l3 = [1,7,2,4]\n",
    "#set(l1) == set(l2) This is True\n",
    "set(l1) == set(l3) # This is False"
   ]
  },
  {
   "cell_type": "markdown",
   "metadata": {},
   "source": [
    "#### 16 Faça um programa que percorre uma lista com o seguinte formato: [['Brasil', 'Italia', [10, 9]], ['Brasil', 'Espanha', [5, 7]], ['Italia', 'Espanha', [7,8]]]. Essa lista indica o número de faltas que cada time fez em cada jogo. Na lista acima, no jogo entre Brasil e Itália, o Brasil fez 10 faltas e a Itália fez 9. O programa deve imprimir na tela: - o total de faltas do campeonato  - o time que fez mais faltas - o time que fez menos faltas"
   ]
  },
  {
   "cell_type": "code",
   "execution_count": null,
   "metadata": {},
   "outputs": [],
   "source": [
    "campeonato_lista = [['Brasil', 'Italia', [10, 9]], ['Brasil', 'Espanha', [5, 7]], ['Italia', 'Espanha', [7,8]]]\n",
    "\n",
    "#Primeiro Jogo\n",
    "lista_1 = campeonato_lista[0]\n",
    "soma_faltas_1 = lista_1[2]\n",
    "faltas_brasil_lista_1 = soma_faltas_1[0]\n",
    "faltas_italia_lista_1 = soma_faltas_1[1]\n",
    "\n",
    "#Segundo Jogo\n",
    "lista_2 = campeonato_lista[1]\n",
    "soma_faltas_2 = lista_2[2]\n",
    "faltas_brasil_lista_2 = soma_faltas_2[0]\n",
    "faltas_espanha_lista_2 = soma_faltas_2[1]\n",
    "\n",
    "#Terceiro Jogo\n",
    "lista_3 = campeonato_lista[2]\n",
    "soma_faltas_3 = lista_3[2]\n",
    "faltas_italia_lista_3 = soma_faltas_3[0]\n",
    "faltas_espanha_lista_3 = soma_faltas_3[1]\n",
    "\n",
    "#Faltas do Brasil\n",
    "faltas_brasil = faltas_brasil_lista_1+faltas_brasil_lista_2\n",
    "\n",
    "#Faltas da Espanha\n",
    "faltas_espanha = faltas_espanha_lista_2+faltas_espanha_lista_3\n",
    "\n",
    "#Faltas da Italia\n",
    "faltas_italia = faltas_italia_lista_1+faltas_italia_lista_3\n",
    "\n",
    "\n",
    "#Total de Falta de todos\n",
    "todos = {'Brasil':faltas_brasil,'Espanha':faltas_espanha,'Italia':faltas_italia}\n",
    "total = sum(todos.values())\n",
    "\n",
    "\n",
    "maior_faltas_qtde = max(todos.keys())\n",
    "maior_faltas_time = max(todos.values())\n",
    "menor_faltas_qtde = min(todos.keys())\n",
    "menor_faltas_time = min(todos.values())\n",
    "\n",
    "print(\"O total de faltas no campeonato foi:\" , total)\n",
    "print(\"O time que cometeu maior número de faltas foi:\", maior_faltas_qtde,\"com\", maior_faltas_time, \"Infrações\")\n",
    "print(\"O time que cometeu menor número de faltas foi:\", menor_faltas_qtde,\"com\", menor_faltas_time, \"Infrações\")"
   ]
  },
  {
   "cell_type": "markdown",
   "metadata": {},
   "source": [
    "#### 17 Escreva um programa que conta a quantidade de vogais em uma string e armazena tal quantidade em um dicionário, onde a chave é a vogal considerada.\n"
   ]
  },
  {
   "cell_type": "code",
   "execution_count": null,
   "metadata": {},
   "outputs": [],
   "source": [
    "palavra = \"Memento Mori\"\n",
    "dicionario = {}\n",
    "vogais = palavra.upper()\n",
    "if (\"A\" in vogais):\n",
    "    dicionario['A']=vogais.count(\"A\")\n",
    "if (\"E\" in vogais):\n",
    "    dicionario['E']=vogais.count(\"E\")\n",
    "if (\"I\" in vogais):\n",
    "    dicionario['I']=vogais.count(\"I\")\n",
    "if (\"O\" in vogais):\n",
    "    dicionario['O']=vogais.count(\"O\")\n",
    "if (\"U\" in vogais):\n",
    "    dicionario['U']=vogais.count(\"U\")\n",
    "    \n",
    "print(\"A palavra informada possui: \" + str (dicionario)) "
   ]
  },
  {
   "cell_type": "markdown",
   "metadata": {},
   "source": [
    "#### 18 Escreva um programa que lê̂ duas notas de vários alunos e armazena tais notas em um dicionário, onde a chave é o nome do aluno. A entrada de dados deve terminar quando for lida uma string vazia com o nome. Escreva uma função que retorna a média do aluno, dado seu nome."
   ]
  },
  {
   "cell_type": "code",
   "execution_count": null,
   "metadata": {},
   "outputs": [],
   "source": [
    "notas = {\"Zé\":[0,1.0], \"Robson\":[10.0,9.75]}\n",
    "aluno = notas.get(input(\"Digite o nome do aluno: \"))\n",
    "nota = float((aluno[0] + aluno[1])/2)\n",
    "\n",
    "print(\"A média do aluno é %.2f\" % nota)"
   ]
  },
  {
   "cell_type": "markdown",
   "metadata": {},
   "source": [
    "#### 19 Uma pista de Kart permite 10 voltas para cada um de 6 corredores. Escreva um programa que leia todos os tempos em segundos e os guarde em um dicionário, onde a chave é o nome do corredor. Ao final diga de quem foi a melhor volta da prova e em que volta; e ainda a classificação final em ordem (1o o campeão). O campeão é o que tem a menor média de tempos."
   ]
  },
  {
   "cell_type": "code",
   "execution_count": null,
   "metadata": {},
   "outputs": [],
   "source": [
    "nome = input(\"Digite o nome do piloto: \")\n",
    "kart = [nome]\n",
    "tempo = float(input(\"Digite o tempo do piloto: \"))\n",
    "kart.append(tempo)\n",
    "print(\"O campeão é: {}\".format(kart))"
   ]
  },
  {
   "cell_type": "markdown",
   "metadata": {},
   "source": [
    "#### 20 Escreva um programa para armazenar uma agenda de telefones em um dicionário. Cada pessoa pode ter um ou mais telefones e a chave do dicionário é o nome da pessoa. Seu programa deve ter as seguintes funções:\n",
    "- incluirNovoNome – essa função acrescenta um novo nome na agenda, com um ou mais telefones. Ela deve receber como argumentos o nome e os telefones.\n",
    "- incluirTelefone – essa função acrescenta um telefone em um nome existente na agenda. Caso o nome não exista na agenda, você̂deve perguntar se a pessoa deseja inclui-lo. Caso a resposta seja afirmativa, use a função anterior para incluir o novo nome. \n",
    "- excluirTelefone – essa função exclui um telefone de uma pessoa que já está na agenda. Se a pessoa tiver apenas um telefone, ela deve ser excluída da agenda.\n",
    "- excluirNome – essa função exclui uma pessoa da agenda.\n",
    "- consultarTelefone – essa função retorna os telefones de uma pessoa na agenda."
   ]
  },
  {
   "cell_type": "code",
   "execution_count": null,
   "metadata": {},
   "outputs": [],
   "source": [
    "agendaTelefones = {}\n",
    "\n",
    "\n",
    "\n",
    "def incluirNovoNome():\n",
    "    newName = input('Digite o nome da pessoa para adicionar na agenda')\n",
    "    newNumber = input('Digite o telefone da pessoa ')\n",
    "    agendaTelefones[newName] = [newNumber]\n",
    "    \n",
    "def incluirTelefone():\n",
    "    name = input('Digite o nome da pessoa para adicionar o numero')    \n",
    "    \n",
    "    if not name in agendaTelefones:\n",
    "        print( name  + ' não está na agenda')\n",
    "        \n",
    "        verifica = input('Deseja adicionar esse nome na agenda? Y/N ')\n",
    "        if verifica == 'Y':\n",
    "            incluirNovoNome();\n",
    "        else:\n",
    "            print('blz otario')\n",
    "            \n",
    "    else:\n",
    "        newTel = input('Digite o telefone da pessoa')\n",
    "        \n",
    "    agendaTelefones[name] += [newTel]\n",
    "    \n",
    "def excluirTelefone():\n",
    "    name = input('Digite o nome da pessoa para excluir um numero')\n",
    "    \n",
    "    if agendaTelefones[name] == None:\n",
    "        del agendaTelefones[name]\n",
    "        \n",
    "    else:\n",
    "        agendaTelefones[name].pop()\n",
    "        \n",
    "incluirNovoNome()\n",
    "excluirTelefone()\n",
    "\n",
    "print (agendaTelefones)"
   ]
  },
  {
   "cell_type": "markdown",
   "metadata": {},
   "source": [
    "#### 21 Faça um programa que leia um arquivo texto contendo uma lista de endereços IP e gere um outro arquivo, contendo um relatório dos endereços IP válidos e inválidos. O arquivo de entrada possui o seguinte formato: \n",
    "- 200.135.80.9\n",
    "- 192.168.1.1\n",
    "- 8.35.67.74\n",
    "- 257.32.4.5\n",
    "- 85.345.1.2\n",
    "- 1.2.3.4\n",
    "- 9.8.234.5\n",
    "- 192.168.0.256 \n",
    "#### O arquivo de saída possui o seguinte formato:\n",
    "- [Endereços válidos:]\n",
    "- 200.135.80.9\n",
    "- 192.168.1.1\n",
    "- 8.35.67.74\n",
    "- 1.2.3.4\n",
    "- [Endereços inválidos:]\n",
    "- 257.32.4.5\n",
    "- 85.345.1.2\n",
    "- 9.8.234.5\n",
    "- 192.168.0.256"
   ]
  },
  {
   "cell_type": "code",
   "execution_count": null,
   "metadata": {},
   "outputs": [],
   "source": [
    "def validate_ips(ip_list):\n",
    "    validate_ips = dict()\n",
    "    for ip in ip_list:\n",
    "        if ip in [\"200.135.80.9\", \"192.168.1.1\", \"8.35.67.74\", \"1.2.3.4\"]:\n",
    "            validate_ips[ip] = True\n",
    "        else:\n",
    "            validate_ips[ip] = False\n",
    "    return validate_ips\n",
    "            \n",
    "def create_ip_valid_file(dict_ips, path_new):\n",
    "    with open(path_new, \"w\") as file:\n",
    "        ip_file_new = file\n",
    "        for ip,valid in dict_ips.items():\n",
    "            if (valid):\n",
    "                ip_file_new.write(f\"Valido: {ip} \\n\")\n",
    "            else:\n",
    "                ip_file_new.write(f\"Invalido: {ip} \\n\")\n",
    "\n",
    "        \n",
    "path = \"C:/Users/rhuto/Documents/ProgMulti/ips.txt\"\n",
    "path_new = \"C:/Users/rhuto/Documents/ProgMulti/ips.txt\"\n",
    "\n",
    "with open(path, \"r\") as file:\n",
    "    ip_list = file.read()\n",
    "\n",
    "ip_list = (ip_list.split(\"\\n\"))\n",
    "ip_dict = validate_ips(ip_list[:-1])\n",
    "\n",
    "create_ip_valid_file(ip_dict, path_new)\n",
    "    \n",
    "    \n",
    "    "
   ]
  },
  {
   "cell_type": "markdown",
   "metadata": {},
   "source": [
    "#### 22 A ACME Inc., uma empresa de 500 funcionários, está tendo problemas de espaço em disco no seu servidor de arquivos. Para tentar resolver este problema, o Administrador de Rede precisa saber qual o espaço ocupado pelos usuários, e identificar os usuários com maior espaço ocupado. Através de um programa, baixado da Internet, ele conseguiu gerar o seguinte arquivo, chamado \"usuarios.txt\":\n",
    "- alexandre 456123789\n",
    "- anderson 1245698456\n",
    "- antonio 123456456\n",
    "- carlos 91257581\n",
    "- cesar 987458\n",
    "- rosemary 789456125\n",
    "#### Neste arquivo, o nome do usuário possui 15 caracteres. A partir deste arquivo, você deve criar um programa que gere um relatório, chamado \"relatório.txt\", no seguinte formato: ACME Inc. Uso do espaço em disco pelos usuários\n",
    "--------------------------------------------------------------\n",
    "----------\n",
    "- Nr. Usuário Espaço utilizado % do uso\n",
    "- 1 alexandre 434,99 MB 16,85%\n",
    "- 2 anderson 1187,99 MB 46,02%\n",
    "- 3 antonio 117,73 MB 4,56%\n",
    "- 4 carlos 87,03 MB 3,37%\n",
    "- 5 cesar 0,94 MB 0,04%\n",
    "- 6 rosemary 752,88 MB 29,16%\n",
    "- Espaço total ocupado: 2581,57 MB\n",
    "- Espaço médio ocupado: 430,26 MB\n",
    "#### O arquivo de entrada deve ser lido uma única vez, e os dados armazenados em memória, caso sejam necessários, de forma a agilizar a execução do programa. A conversão da espaço ocupado em disco, de bytes para megabytes deverá ser feita através de uma função separada, que será chamada pelo programa principal. O cálculo do percentual de uso também deverá ser feito através de uma função, que será chamada pelo programa principal."
   ]
  },
  {
   "cell_type": "code",
   "execution_count": null,
   "metadata": {},
   "outputs": [],
   "source": [
    "def conv_KB_to_MB(input_kilobyte):\n",
    "        megabyte = float(0.000000976562)\n",
    "        convert_mb = megabyte * input_kilobyte\n",
    "        return float(round(convert_mb, 2))\n",
    "    \n",
    "def calcular_porcentagem_total(size_total, percent_total=100, size_saber=0):\n",
    "    percent_saber = (size_saber*percent_total)/size_total\n",
    "    return round(percent_saber,2)\n",
    "    \n",
    "def transform_to_dict(file):\n",
    "    dict_users = {'Nr':[], \"Usuario\":[], \"Space\":[], \"%Uso\":[], \"Total\": 0, \"Medio\": 0}\n",
    "    splitfile = file.split(\"\\n\")[:-1]\n",
    "    \n",
    "    for idx, user in enumerate(splitfile):\n",
    "        user = (user.split(\" \"))\n",
    "        dict_users[\"Nr\"].append(int(idx))\n",
    "        dict_users[\"Usuario\"].append(user[0])\n",
    "        dict_users[\"Space\"].append(conv_KB_to_MB(int(user[1])))\n",
    "    \n",
    "    total_space = round(sum(dict_users['Space']), 2)\n",
    "    for space in dict_users['Space']:\n",
    "        dict_users['%Uso'].append(calcular_porcentagem_total(total_space, 100, space))\n",
    "    \n",
    "    dict_users['Total'] = total_space\n",
    "    dict_users['Medio'] = round(total_space/len(dict_users['Nr']),2)\n",
    "    \n",
    "    return dict_users\n",
    "    \n",
    "def write_file(path_write, dict_formatado):\n",
    "    with open(path_write, \"w\") as file:\n",
    "        file.write(\"ACME Inc. Uso do espaço em disco pelos usuários\\n\")\n",
    "        file.write(\"-\"*40+\"\\n\")\n",
    "        file.write(\"NR Usuario Space %Use\\n\")\n",
    "        for nr, usuario, space, uso in zip(dict_formatado['Nr'], dict_formatado['Usuario'], dict_formatado['Space'], \n",
    "                                           dict_formatado['%Uso']):\n",
    "            file.write(f\"{nr} {usuario} {space} {uso}%\\n\")\n",
    "        file.write(f\"\\nEspaco Total Ocupado: {dict_formatado['Total']} MB\")\n",
    "        file.write(f\"\\nEspaco Medio Ocupado: {dict_formatado['Medio']} MB\")\n",
    "            \n",
    "                   \n",
    "path_users = \"C:/Users/rhuto/Documents/ProgMulti/usuarios.txt\"\n",
    "path_relatorio = \"C:/Users/rhuto/Documents/ProgMulti/relatorio.txt\"\n",
    "\n",
    "with open(path_users, \"r\") as file:\n",
    "    users_lists = file.read()\n",
    "\n",
    "dict_formatado = transform_to_dict(users_lists)\n",
    "write_file(path_relatorio, dict_formatado)"
   ]
  }
 ],
 "metadata": {
  "kernelspec": {
   "display_name": "Python 3",
   "language": "python",
   "name": "python3"
  },
  "language_info": {
   "codemirror_mode": {
    "name": "ipython",
    "version": 3
   },
   "file_extension": ".py",
   "mimetype": "text/x-python",
   "name": "python",
   "nbconvert_exporter": "python",
   "pygments_lexer": "ipython3",
   "version": "3.7.3"
  }
 },
 "nbformat": 4,
 "nbformat_minor": 2
}
