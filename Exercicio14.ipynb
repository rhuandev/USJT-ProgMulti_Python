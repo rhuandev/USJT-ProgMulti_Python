{
 "cells": [
  {
   "cell_type": "markdown",
   "metadata": {},
   "source": [
    "# LISTA DE PYTHON\n",
    "## Rhuan Carlos da Costa - RA: 81714425"
   ]
  },
  {
   "cell_type": "markdown",
   "metadata": {},
   "source": [
    "### Lista de Exercícios 06"
   ]
  },
  {
   "cell_type": "markdown",
   "metadata": {},
   "source": [
    "**1 Defina a função soma_nat** que recebe como argumento um número natural n\n",
    " e devolve a soma de todos os números naturais até n.\n",
    "Ex: soma_nat(5) = 15"
   ]
  },
  {
   "cell_type": "code",
   "execution_count": 2,
   "metadata": {},
   "outputs": [
    {
     "name": "stdout",
     "output_type": "stream",
     "text": [
      "120\n"
     ]
    }
   ],
   "source": [
    "def r_soma_nat(n):\n",
    "  try:\n",
    "    if n == 1:\n",
    "      return 1\n",
    "    else:\n",
    "      return n + r_soma_nat(n-1)\n",
    "  except RecursionError:\n",
    "    print('Estouro na recursão')\n",
    "  except TypeError:\n",
    "    print('Operador não suportado')\n",
    "    \n",
    "    \n",
    "print(r_soma_nat(15))"
   ]
  },
  {
   "cell_type": "markdown",
   "metadata": {},
   "source": [
    "**2 Defina a função div** que recebe como argumentos dois números naturais m\n",
    " e n e devolve o resultado da divisão inteira de m por n. Neste exercício você não\n",
    "pode recorrer às operações aritméticas de multiplicação, divisão e resto da divisão\n",
    "inteira.\n",
    "Ex: div(7,2) = 3"
   ]
  },
  {
   "cell_type": "code",
   "execution_count": 2,
   "metadata": {},
   "outputs": [
    {
     "name": "stdout",
     "output_type": "stream",
     "text": [
      "3\n"
     ]
    }
   ],
   "source": [
    "def div(m,n):\n",
    "  if m < n:\n",
    "    return 0\n",
    "  else:\n",
    "    return 1 + div(m-n,n)\n",
    "\n",
    "print(div(7,2))"
   ]
  },
  {
   "cell_type": "markdown",
   "metadata": {},
   "source": [
    "**3 Defina a função prim_alg** que recebe como argumento um número natural e\n",
    "devolve o primeiro algarismo (o mais significativo) na representação decimal de n.\n",
    "Ex: prim_alg(5649) = 5\n",
    "Ex: prim_alg(7) = 7"
   ]
  },
  {
   "cell_type": "code",
   "execution_count": 5,
   "metadata": {},
   "outputs": [
    {
     "name": "stdout",
     "output_type": "stream",
     "text": [
      "5\n",
      "7\n"
     ]
    }
   ],
   "source": [
    "def primeiro(n):\n",
    "  return n[0]\n",
    "try:\n",
    "  print(primeiro('5649'))\n",
    "  print(primeiro('7'))\n",
    "except TypeError:\n",
    "  print('tipo de dado incorreto')"
   ]
  },
  {
   "cell_type": "markdown",
   "metadata": {},
   "source": [
    "4 Defina a função prod_lista que recebe como argumento uma lista de inteiros edevolve o produto dos seus elementos.\n",
    "- Ex: prod_lista([1,2,3,4,5,6]) = 720"
   ]
  },
  {
   "cell_type": "code",
   "execution_count": 4,
   "metadata": {},
   "outputs": [
    {
     "name": "stdout",
     "output_type": "stream",
     "text": [
      "720\n"
     ]
    }
   ],
   "source": [
    "def maybe4(fnc):\n",
    "\n",
    "    def inner(*args):\n",
    "        \n",
    "        for a in args:\n",
    "            if isinstance(a, Exception):\n",
    "                return a\n",
    "        try:\n",
    "            return fnc(*args)\n",
    "        except Exception as e:\n",
    "            return fnc(1,args[1])\n",
    "    return inner\n",
    "\n",
    "prod = lambda a,b: a*b\n",
    "safe_prod = maybe4(prod)\n",
    "safe_prod_lista = lambda lista: 1 if len(lista) == 0 else safe_prod(lista.pop(),safe_prod_lista(lista))\n",
    "\n",
    "print(safe_prod_lista([1,2,3,{},4,5,6]))"
   ]
  },
  {
   "cell_type": "markdown",
   "metadata": {},
   "source": [
    "**5 Defina a função contem_parQ** que recebe como argumento uma lista de números\n",
    "inteiros w e devolve True se w contém um número par e False em caso contrário.\n",
    "Ex: contem_parQ([2,3,1,2,3,4]) = True\n",
    "Ex: contem_parQ([1,3,5,7]) = False"
   ]
  },
  {
   "cell_type": "code",
   "execution_count": 6,
   "metadata": {},
   "outputs": [
    {
     "name": "stdout",
     "output_type": "stream",
     "text": [
      "True\n",
      "False\n"
     ]
    }
   ],
   "source": [
    "def contem(w):\n",
    "  if len(w) == 0:\n",
    "    return False\n",
    "  else:\n",
    "    a = w.pop()\n",
    "    if a%2 == 0:\n",
    "      return True\n",
    "    else:\n",
    "      return contem(w)\n",
    "\n",
    "assert contem([2,3,1,2,3,4]) == True\n",
    "assert contem([1,3,5,7]) == False"
   ]
  },
  {
   "cell_type": "markdown",
   "metadata": {},
   "source": [
    "**6 Defina a função todos_imparesQ** que recebe como argumento uma lista de\n",
    "números inteiros w e devolve True se w contém apenas números ímpares e False\n",
    "em caso contrário.\n",
    "Ex: todos_imparesQ([1,3,5,7]) = True\n",
    "Ex: todos_imparesQ([]) = True\n",
    "Ex: todos_imparesQ([1,2,3,4,5]) = False"
   ]
  },
  {
   "cell_type": "code",
   "execution_count": 16,
   "metadata": {},
   "outputs": [],
   "source": [
    "def impares(w):\n",
    "  if len(w) == 0:\n",
    "    return True\n",
    "  else:\n",
    "    a = w.pop()\n",
    "    if a %2 == 0:\n",
    "      return False\n",
    "    else:\n",
    "      return impares(w)\n",
    "\n",
    "assert impares([2,3,1,2,3,4]) == False\n",
    "assert impares([1,3,5,7]) == True"
   ]
  },
  {
   "cell_type": "markdown",
   "metadata": {},
   "source": [
    "**7 Defina a função pertenceQ** que recebe como argumentos uma lista de números\n",
    "inteiros w e um número inteiro n e devolve True se n ocorre em w e False em\n",
    "caso contrário."
   ]
  },
  {
   "cell_type": "code",
   "execution_count": 15,
   "metadata": {},
   "outputs": [],
   "source": [
    "def pertenceQ(lista, n):\n",
    "  test = False\n",
    "  for li in range(len(lista)):\n",
    "    if (lista[li] == n):\n",
    "      test=True\n",
    "  return test\n",
    "\n",
    "assert pertenceQ([1,2,3],1) == True\n",
    "assert pertenceQ([1,2,3],2) == True\n",
    "assert pertenceQ([1,2,3],3) == True\n",
    "assert pertenceQ([1,2,3],4) == False"
   ]
  },
  {
   "cell_type": "markdown",
   "metadata": {},
   "source": [
    "**8 Defina a função junta** que recebe como argumentos duas listas de números\n",
    "inteiros w1 e w2 e devolve a concatenação de w1 com w2 .\n",
    "Ex: junta([1,2,3],[4,5,6]) = [1, 2, 3, 4, 5, 6]\n",
    "Ex: junta([],[4,5,6]) = [4, 5, 6]\n",
    "Ex: junta([1,2,3],[]) = [1, 2, 3]"
   ]
  },
  {
   "cell_type": "code",
   "execution_count": 26,
   "metadata": {},
   "outputs": [],
   "source": [
    "def concatena(lista, lista2):\n",
    "  for x in lista2:\n",
    "    lista.append(x)\n",
    "  return lista\n",
    "\n",
    "assert concatena([],[4,5,6]) == [4,5,6]\n",
    "assert concatena([1,2,3],[]) == [1, 2, 3]\n",
    "assert concatena([1,2,3],[4,5,6]) == [1, 2, 3, 4, 5, 6]"
   ]
  },
  {
   "cell_type": "markdown",
   "metadata": {},
   "source": [
    "**9 Defina a função temPrimoQ** que recebe como argumento uma lista de listas de\n",
    "números inteiros w e devolve True se alguma das sublistas w tem um número\n",
    "primo e False em caso contrário.\n",
    "Ex: temPrimoQ([[4,4,4,4],[5,4,6,7],[2,4,3]]) = True\n",
    "Ex: temPrimoQ([[4,4,4,4],[4,4,4],[],[4]]) = False"
   ]
  },
  {
   "cell_type": "code",
   "execution_count": 27,
   "metadata": {},
   "outputs": [],
   "source": [
    "def temprimo(lista):\n",
    "  div=0\n",
    "  test=False\n",
    "  for n in range(len(lista)):\n",
    "    for n2 in range(len(lista[n])):\n",
    "      if(div>2):\n",
    "        test=True\n",
    "      div=0\n",
    "      for n3 in range(1,(lista[n][n2])):\n",
    "        if(lista[n][n2] % n3==0):\n",
    "          div+=1\n",
    "  return test\n",
    "assert temprimo([[4,4,4,4],[5,4,6,7],[2,4,3]]) == True\n",
    "assert temprimo([[4,4,4,4],[4,4,4],[],[4]]) == False"
   ]
  },
  {
   "cell_type": "markdown",
   "metadata": {},
   "source": [
    "**10 Defina a função inverteLista** que recebe como argumento uma lista w e devolve a\n",
    "mesma lista mas invertida.\n",
    "Ex: inverteLista([1,2,3,4,5]) = [5, 4, 3, 2, 1]\n",
    "Ex: inverteLista([])"
   ]
  },
  {
   "cell_type": "code",
   "execution_count": 28,
   "metadata": {},
   "outputs": [
    {
     "name": "stdout",
     "output_type": "stream",
     "text": [
      "[5, 3, 2, 1]\n"
     ]
    }
   ],
   "source": [
    "def inverter(lista):\n",
    "  cop =[]\n",
    "  for x in range((len(lista)-1), -1, -1):\n",
    "    cop.append(lista[x])\n",
    "  return cop\n",
    "\n",
    "print(inverter([1,2,3,5]))"
   ]
  }
 ],
 "metadata": {
  "kernelspec": {
   "display_name": "Python 3",
   "language": "python",
   "name": "python3"
  },
  "language_info": {
   "codemirror_mode": {
    "name": "ipython",
    "version": 3
   },
   "file_extension": ".py",
   "mimetype": "text/x-python",
   "name": "python",
   "nbconvert_exporter": "python",
   "pygments_lexer": "ipython3",
   "version": "3.7.3"
  }
 },
 "nbformat": 4,
 "nbformat_minor": 2
}
